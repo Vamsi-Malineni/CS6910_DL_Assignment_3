{
  "nbformat": 4,
  "nbformat_minor": 0,
  "metadata": {
    "colab": {
      "name": "RNN_with_Attention",
      "provenance": [],
      "background_execution": "on",
      "include_colab_link": true
    },
    "kernelspec": {
      "name": "python3",
      "display_name": "Python 3"
    },
    "language_info": {
      "name": "python"
    },
    "accelerator": "GPU"
  },
  "cells": [
    {
      "cell_type": "markdown",
      "metadata": {
        "id": "view-in-github",
        "colab_type": "text"
      },
      "source": [
        "<a href=\"https://colab.research.google.com/github/safikhanSoofiyani/CS6910-Assignment-3/blob/main/RNN_with_Attention.ipynb\" target=\"_parent\"><img src=\"https://colab.research.google.com/assets/colab-badge.svg\" alt=\"Open In Colab\"/></a>"
      ]
    },
    {
      "cell_type": "markdown",
      "source": [
        "# Recurrent Neural Networks\n"
      ],
      "metadata": {
        "id": "U5HqFjcSVLy6"
      }
    },
    {
      "cell_type": "code",
      "execution_count": null,
      "metadata": {
        "id": "HWqqx4brVLH2"
      },
      "outputs": [],
      "source": [
        "import numpy as np\n",
        "import pandas as pd\n",
        "import matplotlib.pyplot as plt\n",
        "import scipy as sc\n",
        "import tensorflow as tf\n",
        "import keras as ks\n",
        "import random\n",
        "import csv\n",
        "\n",
        "from tensorflow.keras.layers import Dense, Input,InputLayer,Flatten,Activation,LSTM,SimpleRNN,GRU,TimeDistributed,Embedding\n",
        "from tensorflow.keras.models import Sequential, Model,load_model\n",
        "from tensorflow.keras.callbacks import EarlyStopping\n",
        "from tensorflow.keras.layers import Concatenate, AdditiveAttention"
      ]
    },
    {
      "cell_type": "code",
      "source": [
        "random.seed(hash(\"seriously you compete with me\") % 2**32 - 1)\n",
        "np.random.seed(hash(\"i am mohammed safi\") % 2**32 - 1)\n",
        "tf.random.set_seed(hash(\"ur rahman khan\") % 2**32 - 1)"
      ],
      "metadata": {
        "id": "3sleHsMmYciG"
      },
      "execution_count": null,
      "outputs": []
    },
    {
      "cell_type": "code",
      "source": [
        "from tensorflow.python.keras import backend as K\n",
        "K._get_available_gpus()"
      ],
      "metadata": {
        "colab": {
          "base_uri": "https://localhost:8080/"
        },
        "id": "2jr1oGJKYdAx",
        "outputId": "f0ec4c69-0d8d-4fb6-8cfc-95aa15675905"
      },
      "execution_count": null,
      "outputs": [
        {
          "output_type": "execute_result",
          "data": {
            "text/plain": [
              "['/device:GPU:0']"
            ]
          },
          "metadata": {},
          "execution_count": 3
        }
      ]
    },
    {
      "cell_type": "code",
      "source": [
        "!nvidia-smi"
      ],
      "metadata": {
        "colab": {
          "base_uri": "https://localhost:8080/"
        },
        "id": "0d4ZM-2CYg6R",
        "outputId": "4821b2a2-cd63-4fc6-bc72-201a84faa0f4"
      },
      "execution_count": null,
      "outputs": [
        {
          "output_type": "stream",
          "name": "stdout",
          "text": [
            "Sat Apr 23 08:54:59 2022       \n",
            "+-----------------------------------------------------------------------------+\n",
            "| NVIDIA-SMI 460.32.03    Driver Version: 460.32.03    CUDA Version: 11.2     |\n",
            "|-------------------------------+----------------------+----------------------+\n",
            "| GPU  Name        Persistence-M| Bus-Id        Disp.A | Volatile Uncorr. ECC |\n",
            "| Fan  Temp  Perf  Pwr:Usage/Cap|         Memory-Usage | GPU-Util  Compute M. |\n",
            "|                               |                      |               MIG M. |\n",
            "|===============================+======================+======================|\n",
            "|   0  Tesla T4            Off  | 00000000:00:04.0 Off |                    0 |\n",
            "| N/A   35C    P0    26W /  70W |    264MiB / 15109MiB |      0%      Default |\n",
            "|                               |                      |                  N/A |\n",
            "+-------------------------------+----------------------+----------------------+\n",
            "                                                                               \n",
            "+-----------------------------------------------------------------------------+\n",
            "| Processes:                                                                  |\n",
            "|  GPU   GI   CI        PID   Type   Process name                  GPU Memory |\n",
            "|        ID   ID                                                   Usage      |\n",
            "|=============================================================================|\n",
            "+-----------------------------------------------------------------------------+\n"
          ]
        }
      ]
    },
    {
      "cell_type": "code",
      "source": [
        "!pip install wandb\n",
        "import wandb\n",
        "\n",
        "from wandb.keras import WandbCallback"
      ],
      "metadata": {
        "id": "5X6ve7s2Yitv"
      },
      "execution_count": null,
      "outputs": []
    },
    {
      "cell_type": "code",
      "source": [
        "from google.colab import drive\n",
        "drive.mount('/content/drive')"
      ],
      "metadata": {
        "id": "qY61iB5hYkyK"
      },
      "execution_count": null,
      "outputs": []
    },
    {
      "cell_type": "code",
      "source": [
        "# English as source language and Telugu as target language\n",
        "source_language='en'\n",
        "target_language='te'"
      ],
      "metadata": {
        "id": "360zQMEyz92m"
      },
      "execution_count": null,
      "outputs": []
    },
    {
      "cell_type": "code",
      "source": [
        "def load_data():\n",
        "    path = r\"/content/drive/MyDrive/dakshina_dataset_v1.0/dakshina_dataset_v1.0/te/lexicons/\"\n",
        "\n",
        "    train_file_path = path + \"te.translit.sampled.train.tsv\"\n",
        "    val_file_path = path + \"te.translit.sampled.dev.tsv\"\n",
        "\n",
        "    \n",
        "\n",
        "    path = r\"/content/drive/MyDrive/dakshina_dataset_v1.0/dakshina_dataset_v1.0/te/lexicons/\"\n",
        "\n",
        "    train_file_path = path + \"te.translit.sampled.train.tsv\"\n",
        "    val_file_path = path + \"te.translit.sampled.dev.tsv\"\n",
        "\n",
        "    train_tsv_file = open(train_file_path, \"r\", encoding=\"utf-8\")\n",
        "    train_dataset = csv.reader(train_tsv_file, delimiter=\"\\t\")\n",
        "\n",
        "    val_tsv_file = open(val_file_path, \"r\", encoding=\"utf-8\")\n",
        "    val_dataset = csv.reader(val_tsv_file, delimiter=\"\\t\")\n",
        "\n",
        "    return train_dataset, val_dataset\n"
      ],
      "metadata": {
        "id": "hCq14cy_O6o-"
      },
      "execution_count": null,
      "outputs": []
    },
    {
      "cell_type": "code",
      "source": [
        "def prepare_data():\n",
        "\n",
        "    train_dataset, val_dataset = load_data()\n",
        "    \n",
        "    input = []\n",
        "    target = []\n",
        "    #print(english)\n",
        "    for i in train_dataset:\n",
        "        #print(i) \n",
        "        target.append(i[0])\n",
        "        #print(i[1])\n",
        "        input.append(i[1])\n",
        "    #print(english)\n",
        "    target = np.array(target)\n",
        "    input = np.array(input)\n",
        "\n",
        "    # Validation data\n",
        "    val_input = []\n",
        "    val_target = []\n",
        "\n",
        "    for i in val_dataset:\n",
        "        val_target.append(i[0])\n",
        "        val_input.append(i[1])\n",
        "\n",
        "    val_target = np.array(val_target)\n",
        "    val_input = np.array(val_input)\n",
        "\n",
        "    for i in range(len(target)):\n",
        "        target[i] = \"\\t\" + target[i] + \"\\n\"\n",
        "    \n",
        "    for i in range(len(val_target)):\n",
        "        val_target[i] = \"\\t\" + val_target[i] + \"\\n\"\n",
        "\n",
        "    return input, target, val_input, val_target\n",
        "\n"
      ],
      "metadata": {
        "id": "raSU82DvPM2C"
      },
      "execution_count": null,
      "outputs": []
    },
    {
      "cell_type": "code",
      "source": [
        "def getTokens(input, target, val_input, val_target):\n",
        "    # Getting input and target language characters\n",
        "\n",
        "    # Training set\n",
        "    input_tokens = set()\n",
        "    target_tokens = set()\n",
        "\n",
        "    for word in input:\n",
        "        for char in word:\n",
        "            if char not in input_tokens:\n",
        "                input_tokens.add(char)\n",
        "\n",
        "    for word in target:\n",
        "        for char in word:\n",
        "            if char not in target_tokens:\n",
        "                target_tokens.add(char)\n",
        "\n",
        "    # Validation set\n",
        "    val_input_tokens = set()\n",
        "    val_target_tokens = set()\n",
        "\n",
        "    for word in val_input:\n",
        "        for char in word:\n",
        "            if char not in val_input_tokens:\n",
        "                val_input_tokens.add(char)\n",
        "\n",
        "    for word in val_target:\n",
        "        for char in word:\n",
        "            if char not in val_target_tokens:\n",
        "                val_target_tokens.add(char)\n",
        "\n",
        "    input_tokens = sorted(list(input_tokens))\n",
        "    target_tokens = sorted(list(target_tokens))\n",
        "    \n",
        "    return input_tokens, target_tokens, val_input_tokens, val_target_tokens\n"
      ],
      "metadata": {
        "id": "ztfcT9lg0ccz"
      },
      "execution_count": null,
      "outputs": []
    },
    {
      "cell_type": "code",
      "source": [
        "input, target, val_input, val_target = prepare_data()\n",
        "input_tokens, target_tokens, val_input_tokens, val_target_tokens = getTokens(input, target, val_input, val_target)\n"
      ],
      "metadata": {
        "id": "R0b2YKcI0XyM"
      },
      "execution_count": null,
      "outputs": []
    },
    {
      "cell_type": "code",
      "source": [
        "num_encoder_tokens = len(input_tokens)\n",
        "num_decoder_tokens = len(target_tokens)\n",
        "\n",
        "max_encoder_seq_length = max([len(txt) for txt in input])\n",
        "max_decoder_seq_length = max([len(txt) for txt in target])\n",
        "\n",
        "input_token_index = dict([(char, i) for i, char in enumerate(input_tokens)])\n",
        "target_token_index = dict([(char, i) for i, char in enumerate(target_tokens)])\n",
        "reverse_input_char_index = dict((i, char) for char, i in input_token_index.items())\n",
        "reverse_target_char_index = dict((i, char) for char, i in target_token_index.items())\n",
        "\n",
        "print(\"Number of data points:\", len(input))\n",
        "print(\"Number of unique input tokens:\", num_encoder_tokens)\n",
        "print(\"Number of unique output tokens:\", num_decoder_tokens)\n",
        "print(\"Max sequence length for inputs:\", max_encoder_seq_length)\n",
        "print(\"Max sequence length for outputs:\", max_decoder_seq_length)"
      ],
      "metadata": {
        "id": "y2bF96w62heY",
        "outputId": "f9f904d7-7311-43ab-b7c9-7b95e978afd4",
        "colab": {
          "base_uri": "https://localhost:8080/"
        }
      },
      "execution_count": null,
      "outputs": [
        {
          "output_type": "stream",
          "name": "stdout",
          "text": [
            "Number of data points: 58550\n",
            "Number of unique input tokens: 26\n",
            "Number of unique output tokens: 65\n",
            "Max sequence length for inputs: 25\n",
            "Max sequence length for outputs: 20\n"
          ]
        }
      ]
    },
    {
      "cell_type": "markdown",
      "source": [
        "ENCODER AND DECODER INPUTS"
      ],
      "metadata": {
        "id": "UKLIJmjt3RU3"
      }
    },
    {
      "cell_type": "code",
      "source": [
        "def one_hot_encoding(input, target, val_input, val_target, input_tokens, target_tokens):\n",
        "\n",
        "    input_token_index = dict([(char, i) for i, char in enumerate(input_tokens)])\n",
        "    target_token_index = dict([(char, i) for i, char in enumerate(target_tokens)])\n",
        "\n",
        "    reverse_input_char_index = dict((i, char) for char, i in input_token_index.items())\n",
        "    reverse_target_char_index = dict((i, char) for char, i in target_token_index.items())\n",
        "\n",
        "    \n",
        "    encoder_input_data = np.zeros(\n",
        "        (len(input), max_encoder_seq_length), dtype = \"float32\" )\n",
        "    decoder_input_data = np.zeros(\n",
        "        (len(input), max_decoder_seq_length), dtype = \"float32\" )\n",
        "    decoder_target_data = np.zeros(\n",
        "        (len(input), max_decoder_seq_length, num_decoder_tokens), dtype = \"float32\" )\n",
        "    \n",
        "    for i, (inp, tar) in enumerate(zip(input, target)):\n",
        "        for t, char in enumerate(inp):\n",
        "            encoder_input_data[i,t] = input_token_index[char]\n",
        "\n",
        "        for t, char in enumerate(tar):\n",
        "            decoder_input_data[i,t] = target_token_index[char]\n",
        "            if t>0:\n",
        "                decoder_target_data[i,t-1,target_token_index[char]] = 1.0\n",
        "\n",
        "    \n",
        "\n",
        "    encoder_val_input_data = np.zeros(\n",
        "        (len(val_input), max_encoder_seq_length), dtype = \"float32\" )\n",
        "    decoder_val_input_data = np.zeros(\n",
        "        (len(val_input), max_decoder_seq_length), dtype = \"float32\" )\n",
        "    decoder_val_target_data = np.zeros(\n",
        "        (len(val_input), max_decoder_seq_length, num_decoder_tokens), dtype = \"float32\" )\n",
        "\n",
        "    for i, (inp, tar) in enumerate(zip(val_input, val_target)):\n",
        "        for t, char in enumerate(inp):\n",
        "            encoder_val_input_data[i,t] = input_token_index[char]\n",
        "\n",
        "        for t, char in enumerate(tar):\n",
        "            decoder_val_input_data[i,t] = target_token_index[char]\n",
        "            if t>0:\n",
        "                decoder_target_data[i,t-1,target_token_index[char]] = 1.0\n",
        "\n",
        "    return encoder_input_data, decoder_input_data, decoder_target_data, encoder_val_input_data, decoder_val_input_data, decoder_val_target_data\n"
      ],
      "metadata": {
        "id": "TbpXbSoITQpG"
      },
      "execution_count": null,
      "outputs": []
    },
    {
      "cell_type": "code",
      "source": [
        "encoder_input_data, decoder_input_data, decoder_target_data, encoder_val_input_data, decoder_val_input_data, decoder_val_target_data =one_hot_encoding(input, target, val_input, val_target, input_tokens, target_tokens)"
      ],
      "metadata": {
        "id": "au3XJBhDXYfg"
      },
      "execution_count": null,
      "outputs": []
    },
    {
      "cell_type": "code",
      "source": [
        "encoder_input_data.shape"
      ],
      "metadata": {
        "id": "gb3G0IccZCK7",
        "outputId": "ba368a94-e41f-46e3-8b9d-f827fc089584",
        "colab": {
          "base_uri": "https://localhost:8080/"
        }
      },
      "execution_count": null,
      "outputs": [
        {
          "output_type": "execute_result",
          "data": {
            "text/plain": [
              "(58550, 25)"
            ]
          },
          "metadata": {},
          "execution_count": 63
        }
      ]
    },
    {
      "cell_type": "code",
      "source": [
        "print(decoder_input_data[0].shape)"
      ],
      "metadata": {
        "id": "E-RI6g4WaVuu",
        "colab": {
          "base_uri": "https://localhost:8080/"
        },
        "outputId": "f543aef5-1dff-4ff1-9620-ba6d7e28cfe1"
      },
      "execution_count": null,
      "outputs": [
        {
          "output_type": "stream",
          "name": "stdout",
          "text": [
            "(20,)\n"
          ]
        }
      ]
    },
    {
      "cell_type": "code",
      "source": [
        ""
      ],
      "metadata": {
        "id": "YIq0iqtlaVrp"
      },
      "execution_count": null,
      "outputs": []
    },
    {
      "cell_type": "code",
      "source": [
        ""
      ],
      "metadata": {
        "id": "j65TQqDnaVj9"
      },
      "execution_count": null,
      "outputs": []
    },
    {
      "cell_type": "code",
      "source": [
        "def rnn( num_encoders, embed_size, dropout, num_decoders, hidden_layer_size):\n",
        "  # e_in : Encoder input\n",
        "  # e_out : Encoder output\n",
        "  # e_states: Encoder states\n",
        "  # d_in : Decoder input\n",
        "  # d_out : Decoder output\n",
        "  # d_dense : Dense layer for decoder\n",
        "\n",
        "  enc_in = Input(shape=(max_encoder_seq_length,))\n",
        "  enc_out = Embedding(num_encoder_tokens, embed_size, trainable=True)(enc_in)\n",
        "  #enc_out = enc_in\n",
        "\n",
        "  enc_layers = []\n",
        "  enc_states = []\n",
        "  for i in range(1,num_encoders+1):\n",
        "    encoder = SimpleRNN(hidden_layer_size, return_state=True, return_sequences=True, dropout=dropout)\n",
        "    enc_layers.append(encoder)\n",
        "    enc_out, state_h = encoder(enc_out)\n",
        "    enc_states.append([state_h])\n",
        "  \n",
        "  dec_in = Input(shape=(max_decoder_seq_length,))\n",
        "  dec_out = Embedding(num_decoder_tokens, embed_size, trainable=True, mask_zero = True)(dec_in)\n",
        "  #dec_out = dec_in\n",
        "\n",
        "  dec_layers = []\n",
        "  for i in range(1,num_decoders+1):\n",
        "    decoder = SimpleRNN(hidden_layer_size, return_state=True, return_sequences=True, dropout=dropout)\n",
        "    dec_layers.append(decoder)\n",
        "    dec_out, _ = decoder(dec_out, initial_state = enc_states[i-1])\n",
        "\n",
        "  # Adding Attention:\n",
        "  decoder_attn=AdditiveAttention()\n",
        "  decoder_concat=Concatenate()\n",
        "  cont_vec,attn_wts=decoder_attn([dec_out,enc_out],return_attention_scores=True)\n",
        "  dec_out= decoder_concat([dec_out,cont_vec])\n",
        "  \n",
        "  dec_dense =TimeDistributed(Dense(num_decoder_tokens, activation=\"softmax\"))\n",
        "  dec_out = dec_dense(dec_out)\n",
        "  \n",
        "  model = Model([enc_in, dec_in], dec_out)\n",
        "\n",
        "  return model, enc_layers, dec_layers\n"
      ],
      "metadata": {
        "id": "08A5CzRKJGSq"
      },
      "execution_count": null,
      "outputs": []
    },
    {
      "cell_type": "code",
      "source": [
        "def lstm( num_encoders, embed_size, dropout, num_decoders, hidden_layer_size):\n",
        "  # e_in : Encoder input\n",
        "  # e_out : Encoder output\n",
        "  # e_states: Encoder states\n",
        "  # d_in : Decoder input\n",
        "  # d_out : Decoder output\n",
        "  # d_dense : Dense layer for decoder\n",
        "  \n",
        "  enc_in = Input(shape=(max_encoder_seq_length,))\n",
        "  enc_out = Embedding(num_encoder_tokens, embed_size, trainable=True)(enc_in)\n",
        "\n",
        "  enc_layers = []\n",
        "  enc_states = []\n",
        "  for i in range(1,num_encoders+1):\n",
        "    encoder = LSTM(hidden_layer_size, return_state=True, return_sequences=True, dropout=dropout)\n",
        "    enc_layers.append(encoder)\n",
        "    enc_out, state_h, state_c = encoder(enc_out)\n",
        "    enc_states.append([state_h, state_c])\n",
        "    \n",
        "\n",
        "  dec_in = Input(shape=(max_decoder_seq_length,))\n",
        "  dec_out = Embedding(num_decoder_tokens, embed_size, trainable=True)(dec_in)\n",
        "\n",
        "  dec_layers = []\n",
        "  for i in range(1,num_decoders+1):\n",
        "    decoder = LSTM(hidden_layer_size, return_state=True, return_sequences=True, dropout=dropout)\n",
        "    dec_layers.append(decoder)\n",
        "    dec_out, _, _ = decoder(dec_out, initial_state = enc_states[i-1])\n",
        "  \n",
        "  # Adding Attention:\n",
        "  decoder_attn=AdditiveAttention()\n",
        "  decoder_concat=Concatenate()\n",
        "  cont_vec,attn_wts=decoder_attn([dec_out,enc_out],return_attention_scores=True)\n",
        "  dec_out= decoder_concat([dec_out,cont_vec])\n",
        "  \n",
        "  dec_dense = TimeDistributed(Dense(num_decoder_tokens, activation=\"softmax\"))\n",
        "  dec_out = dec_dense(dec_out)\n",
        "  model = Model([enc_in, dec_in], dec_out)\n",
        "\n",
        "  return model, enc_layers, dec_layers\n"
      ],
      "metadata": {
        "id": "7cUrvk91JG7p"
      },
      "execution_count": null,
      "outputs": []
    },
    {
      "cell_type": "code",
      "source": [
        "def gru(num_encoders, embed_size, dropout, num_decoders, hidden_layer_size):\n",
        "  # e_in : Encoder input\n",
        "  # e_out : Encoder output\n",
        "  # e_states: Encoder states\n",
        "  # d_in : Decoder input\n",
        "  # d_out : Decoder output\n",
        "  # d_dense : Dense layer for decoder\n",
        "  \n",
        " \n",
        "  enc_in = Input(shape=(max_encoder_seq_length,))\n",
        "  enc_out = Embedding(num_encoder_tokens, embed_size, trainable=True)(enc_in)\n",
        "\n",
        "  enc_layers = []\n",
        "  enc_states = []\n",
        "  for i in range(1,num_encoders+1):\n",
        "    encoder = GRU(hidden_layer_size, return_state=True, return_sequences=True, dropout=dropout)\n",
        "    enc_layers.append(encoder)\n",
        "    enc_out, state_h = encoder(enc_out)\n",
        "    enc_states.append([state_h])\n",
        "    \n",
        "\n",
        "  dec_in = Input(shape=(max_decoder_seq_length,))\n",
        "  dec_out = Embedding(num_decoder_tokens, embed_size, trainable=True)(dec_in)\n",
        "\n",
        "  dec_layers = []\n",
        "  for i in range(1,num_decoders+1):\n",
        "    decoder = GRU(hidden_layer_size, return_state=True, return_sequences=True, dropout=dropout)\n",
        "    dec_layers.append(decoder)\n",
        "    dec_out, _ = decoder(dec_out, initial_state = enc_states[i-1])\n",
        "  \n",
        "  # Adding Attention:\n",
        "  decoder_attn=AdditiveAttention()\n",
        "  decoder_concat=Concatenate()\n",
        "  cont_vec,attn_wts=decoder_attn([dec_out,enc_out],return_attention_scores=True)\n",
        "  dec_out= decoder_concat([dec_out,cont_vec])\n",
        "  \n",
        "  \n",
        "  dec_dense = TimeDistributed(Dense(num_decoder_tokens, activation=\"softmax\"))\n",
        "  dec_out = dec_dense(dec_out)\n",
        "  model = Model([enc_in, dec_in], dec_out)\n",
        "\n",
        "  return model, enc_layers, dec_layers\n"
      ],
      "metadata": {
        "id": "MNzll7fwJIv9"
      },
      "execution_count": null,
      "outputs": []
    },
    {
      "cell_type": "code",
      "source": [
        "def transliteration(config):\n",
        "  num_encoders=config[\"num_encoders\"]\n",
        "  cell=config[\"cell\"]\n",
        "  embed_size=config[\"embed_size\"]\n",
        "  dropout=config[\"dropout\"]\n",
        "  num_decoders=config[\"num_decoders\"]\n",
        "  hidden_layer_size=config[\"hidden_layer_size\"]\n",
        "\n",
        "  if cell == \"RNN\":\n",
        "    model, enc_layers, dec_layers=rnn( num_encoders, embed_size, dropout, num_decoders, hidden_layer_size)\n",
        "    return model, enc_layers, dec_layers\n",
        "  elif cell == \"LSTM\":\n",
        "    model, enc_layers, dec_layers=lstm(num_encoders, embed_size, dropout, num_decoders, hidden_layer_size)\n",
        "    return model, enc_layers, dec_layers\n",
        "  elif cell == \"GRU\":\n",
        "    model, enc_layers, dec_layers=gru(num_encoders, embed_size, dropout, num_decoders, hidden_layer_size)\n",
        "    return model, enc_layers, dec_layers\n",
        "  \n"
      ],
      "metadata": {
        "id": "3Q3ws80VJLE6"
      },
      "execution_count": null,
      "outputs": []
    },
    {
      "cell_type": "code",
      "source": [
        "\n",
        "batch_size = 128        \n",
        "epochs = 25             \n",
        "input_embedding_size = 512\n",
        "hidden_layer_size = 256\n",
        "num_layers = 3\n",
        "num_encoder_layers = num_layers\n",
        "num_decoder_layers = num_layers\n",
        "dropout = 0.2\n",
        "cell_type = 'RNN'\n",
        "\n",
        "config = {\n",
        "    \"num_encoders\" : 3,\n",
        "    \"cell\": cell_type,\n",
        "    \"embed_size\": 512,\n",
        "    \"dropout\": 0.2,\n",
        "    \"num_decoders\" : 3,\n",
        "    \"hidden_layer_size\":256\n",
        "}\n",
        "\n",
        "# TRAIN\n",
        "model, encoder_layers, decoder_layers = transliteration(config)\n",
        "\n",
        "# COMPILE\n",
        "model.compile(optimizer=\"adam\", loss=\"categorical_crossentropy\", metrics=[\"accuracy\"])\n",
        "\n",
        "# FIT\n",
        "model.fit(\n",
        "    [encoder_input_data, decoder_input_data],\n",
        "    decoder_target_data,\n",
        "    batch_size=batch_size,\n",
        "    epochs=epochs,\n",
        "    shuffle = True,\n",
        "    # validation_data= ([encoder_val_input_data, decoder_val_input_data], decoder_val_target_data)\n",
        ")"
      ],
      "metadata": {
        "id": "CB995IKRZwDW"
      },
      "execution_count": null,
      "outputs": []
    },
    {
      "cell_type": "code",
      "source": [
        "def inferencing(model,num_encoder_layers,num_decoder_layers,encoder_layers,decoder_layers,cell_type, hidden_layer_size):\n",
        "    \n",
        "    # ENCODER MODEL RECONSTRUCTION \n",
        "    encoder_inputs = model.input[0]  # input_1\n",
        "    encoder_states = []\n",
        "    enc_emb = model.layers[2]     # embedding 1\n",
        "    encoder_outputs = enc_emb(encoder_inputs)\n",
        "\n",
        "    if cell_type == 'RNN' or cell_type ==\"GRU\":\n",
        "        for i in range(num_encoder_layers):\n",
        "            encoder_outputs, state_h_enc = encoder_layers[i](encoder_outputs)\n",
        "            encoder_states += [state_h_enc] \n",
        "    else:\n",
        "        for i in range(num_encoder_layers):\n",
        "            encoder_outputs, state_h_enc, state_c_enc = encoder_layers[i](encoder_outputs)\n",
        "            encoder_states += [state_h_enc, state_c_enc]   \n",
        "\n",
        "    encoder_model = Model(encoder_inputs, encoder_states + [encoder_outputs])\n",
        "\n",
        "\n",
        "    # DECODER MODEL RECONSTRUCTION\n",
        "    input_names = [[\"input_100\",\"input_101\"],[\"input_102\",\"input_103\"],[\"input_104\",\"input_105\"],\"input_106\"]\n",
        "\n",
        "    decoder_inputs = model.input[1]       # input_2\n",
        "    decoder_embedding = model.layers[3]   # embedding 2\n",
        "    decoder_outputs = decoder_embedding(decoder_inputs)\n",
        "    decoder_states = []\n",
        "    decoder_states_inputs = []\n",
        "    \n",
        "    if cell_type == 'RNN' or cell_type ==\"GRU\":\n",
        "        for i in range(num_decoder_layers):\n",
        "            decoder_states_inputs += [Input(shape=(hidden_layer_size,), name=input_names[i][0])]\n",
        "        for i in range(num_decoder_layers):\n",
        "            decoder_outputs, state_h_dec = decoder_layers[i](decoder_outputs, initial_state=decoder_states_inputs[i])\n",
        "            decoder_states += [state_h_dec]\n",
        "    else:\n",
        "        for i in range(num_decoder_layers):\n",
        "            decoder_states_inputs += [Input(shape=(hidden_layer_size,), name=input_names[i][0]), Input(shape=(hidden_layer_size,), name=input_names[i][1])]\n",
        "        j = 0\n",
        "        for i in range(num_decoder_layers):\n",
        "            decoder_outputs, state_h_dec, state_c_dec = decoder_layers[i](decoder_outputs, initial_state=decoder_states_inputs[i+j:i+j+2])\n",
        "            decoder_states += [state_h_dec , state_c_dec]\n",
        "            j += 1\n",
        "\n",
        "    att_layer = model.layers[4+2*num_encoder_layers]\n",
        "    attn_input = Input(shape=(max_encoder_seq_length,hidden_layer_size), name=input_names[-1])   \n",
        "\n",
        "    context_vec, attn_weights = att_layer([decoder_outputs, attn_input], return_attention_scores=True)\n",
        "    \n",
        "    concat_layer = model.layers[5+2*num_encoder_layers]\n",
        "    decoder_outputs = concat_layer([decoder_outputs, context_vec])\n",
        "\n",
        "    decoder_dense = model.layers[6+2*num_encoder_layers]\n",
        "    decoder_outputs = decoder_dense(decoder_outputs)\n",
        "    decoder_model = Model([decoder_inputs] + decoder_states_inputs + [attn_input], [decoder_outputs] + decoder_states + [attn_weights])\n",
        "\n",
        "    return encoder_model, decoder_model"
      ],
      "metadata": {
        "id": "UiJfgkGRaMTv"
      },
      "execution_count": null,
      "outputs": []
    },
    {
      "cell_type": "code",
      "source": [
        ""
      ],
      "metadata": {
        "id": "aVcmKheYaMQb"
      },
      "execution_count": null,
      "outputs": []
    },
    {
      "cell_type": "code",
      "source": [
        "def decode_sequence(input_seq,encoder_model,decoder_model):\n",
        "    # Encode the input as state vectors.\n",
        "    states_value = encoder_model.predict(input_seq)\n",
        "    attn_input = states_value[-1]\n",
        "    states_value = states_value[:-1]\n",
        "    target_seq = np.zeros((1, 1)) \n",
        "    target_seq[0, 0] = target_token_index[\"\\t\"]\n",
        "    attn_weights = []\n",
        "    stop_condition = False\n",
        "    decoded_sentence = \"\"\n",
        "    while not stop_condition:\n",
        "        output_tokens = decoder_model.predict([target_seq] + states_value + [attn_input])\n",
        "        sampled_token_index = np.argmax(output_tokens[0][0, -1, :])\n",
        "        sampled_char = reverse_target_char_index[sampled_token_index]\n",
        "        decoded_sentence += sampled_char\n",
        "        if sampled_char == \"\\n\" or len(decoded_sentence) > max_decoder_seq_length:\n",
        "            stop_condition = True\n",
        "\n",
        "        target_seq = np.zeros((1, 1))\n",
        "        target_seq[0, 0] = sampled_token_index\n",
        "        states_value = output_tokens[1:-1]\n",
        "        attn_weights.append(output_tokens[-1][0][0])\n",
        "        \n",
        "    return decoded_sentence, attn_weights"
      ],
      "metadata": {
        "id": "D_81_HhpaMKb"
      },
      "execution_count": null,
      "outputs": []
    },
    {
      "cell_type": "code",
      "source": [
        "encoder_model, decoder_model = inferencing(model, num_encoder_layers, num_decoder_layers, encoder_layers, decoder_layers, cell_type, hidden_layer_size)\n",
        "correct = 0\n",
        "n = val_target.shape[0]\n",
        "predictions=[]\n",
        "for i in range(20):\n",
        "    inputs = encoder_val_input_data[i:i+1]\n",
        "    output = decode_sequence(inputs,encoder_model, decoder_model)\n",
        "    print(\"-\")\n",
        "    print(\"Input sentence:\", val_input[i])\n",
        "    print(\"Decoded sentence:\", output)\n",
        "    if output.strip()== val_target[i].strip():\n",
        "      correct+=1\n",
        "    predictions.append(output.strip())\n",
        "print(\"Val accuracy:\",correct*100/n)"
      ],
      "metadata": {
        "id": "ju-IqCIYaMIJ"
      },
      "execution_count": null,
      "outputs": []
    },
    {
      "cell_type": "code",
      "source": [
        "def train():\n",
        "  default_config={\n",
        "      \"cell\": \"RNN\",\n",
        "      \"embed_size\":256,\n",
        "      \"dropout\":0.2,\n",
        "      \"num_encoders\": 1,\n",
        "      \"num_decoders\": 1,\n",
        "      \"hidden_layer_size\":128,\n",
        "      \"epochs\": 1,\n",
        "      \"batch_size\": 64\n",
        "  }\n",
        "\n",
        "  wandb.init(config=default_config,project=project_name,entity=entity_name)\n",
        "  config=wandb.config\n",
        "  wandb.run.name=(\n",
        "      str(config.cell)\n",
        "      +\"_\"+str(config.embed_size)\n",
        "      +\"_\"+str(config.dropout)\n",
        "      +\"_\"+str(config.num_encoders)\n",
        "      +\"_\"+str(config.num_decoders)\n",
        "      +\"_\"+str(config.hidden_layer_size)\n",
        "      +\"_\"+str(config.epochs)\n",
        "      +\"_\"+str(config.batch_size)\n",
        "  )\n",
        "\n",
        "  wandb.run.save()\n",
        "\n",
        "  model=transliteration(config,inp_token_index,tgt_token_index)\n",
        "  \n",
        "  model.compile(\n",
        "      optimizer=\"adam\",\n",
        "      loss=\"categorical_crossentropy\",\n",
        "      metrics=[\"accuracy\"]\n",
        "  )\n",
        "  earlystopping = EarlyStopping(\n",
        "          monitor=\"val_accuracy\", min_delta=0.01, patience=5, verbose=2, mode=\"auto\"\n",
        "      )\n",
        "\n",
        "  model.fit(\n",
        "      [e_in,d_in],\n",
        "      d_t,\n",
        "      batch_size=config.batch_size,\n",
        "      epochs=config.epochs,\n",
        "      callbacks=[earlystopping,WandbCallback()]\n",
        "  )\n",
        "\n",
        "  wandb.finish()\n",
        "  "
      ],
      "metadata": {
        "id": "Mf9QCTKfhXu6"
      },
      "execution_count": null,
      "outputs": []
    },
    {
      "cell_type": "code",
      "source": [
        "def sweeper(project_name,entity_name)\n",
        "  sweep_configuration={\n",
        "      \"method\": \"bayes\",\n",
        "      \"metric\": {\"name\": \"val_accuracy\", \"goal\": \"maximize\"},\n",
        "      \"parameters\":{\n",
        "          \"cell\":{\"values\":[\"RNN\",\"GRU\",\"LSTM\"]},\n",
        "          \"embed_size\":{\"values\":[16,32,64,256]},\n",
        "          \"hidden_layer_size\":{\"values\":[16,32,64,256]},\n",
        "          \"num_encoders\":{\"values\":[1,2,3]},\n",
        "          \"num_decoders\":{\"values\":[1,2,3]},\n",
        "          \"dropout\":{\"values\":[0.2,0.3]},\n",
        "          \"epochs\":{\"values\":[5,10,15,20]},\n",
        "          \"batch_size\":{\"values\":[32,64]}\n",
        "      }\n",
        "  }\n",
        "\n",
        "  sweep_id=wandb.sweep(sweep_configuration,project=project_name,entity=entity_name)\n",
        "  wandb.agent(sweep_id,train)\n"
      ],
      "metadata": {
        "id": "b24xZ8FVhYcx"
      },
      "execution_count": null,
      "outputs": []
    },
    {
      "cell_type": "code",
      "source": [
        "# Running the sweeps for hyperparameter tuning\n",
        "sweeper(project_name,entity_name)"
      ],
      "metadata": {
        "id": "LsBxEun_hc4T"
      },
      "execution_count": null,
      "outputs": []
    }
  ]
}