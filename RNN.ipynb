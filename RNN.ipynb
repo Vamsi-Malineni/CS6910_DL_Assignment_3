{
  "nbformat": 4,
  "nbformat_minor": 0,
  "metadata": {
    "colab": {
      "name": "RNN",
      "provenance": [],
      "include_colab_link": true
    },
    "kernelspec": {
      "name": "python3",
      "display_name": "Python 3"
    },
    "language_info": {
      "name": "python"
    }
  },
  "cells": [
    {
      "cell_type": "markdown",
      "metadata": {
        "id": "view-in-github",
        "colab_type": "text"
      },
      "source": [
        "<a href=\"https://colab.research.google.com/github/safikhanSoofiyani/CS6910-Assignment-3/blob/main/RNN.ipynb\" target=\"_parent\"><img src=\"https://colab.research.google.com/assets/colab-badge.svg\" alt=\"Open In Colab\"/></a>"
      ]
    },
    {
      "cell_type": "markdown",
      "source": [
        "# Recurrent Neural Networks\n"
      ],
      "metadata": {
        "id": "U5HqFjcSVLy6"
      }
    },
    {
      "cell_type": "code",
      "execution_count": null,
      "metadata": {
        "id": "HWqqx4brVLH2"
      },
      "outputs": [],
      "source": [
        "import numpy as np\n",
        "import pandas as pd\n",
        "import matplotlib.pyplot as plt\n",
        "import scipy as sc\n",
        "import tensorflow as tf\n",
        "import keras as ks\n",
        "import random"
      ]
    },
    {
      "cell_type": "code",
      "source": [
        "random.seed(hash(\"seriously you compete with me\") % 2**32 - 1)\n",
        "np.random.seed(hash(\"i am mohammed safi\") % 2**32 - 1)\n",
        "tf.random.set_seed(hash(\"ur rahman khan\") % 2**32 - 1)"
      ],
      "metadata": {
        "id": "3sleHsMmYciG"
      },
      "execution_count": null,
      "outputs": []
    },
    {
      "cell_type": "code",
      "source": [
        "from tensorflow.python.keras import backend as K\n",
        "K._get_available_gpus()"
      ],
      "metadata": {
        "colab": {
          "base_uri": "https://localhost:8080/"
        },
        "id": "2jr1oGJKYdAx",
        "outputId": "5c554839-576a-4832-e650-d6e4e0fde87a"
      },
      "execution_count": null,
      "outputs": [
        {
          "output_type": "execute_result",
          "data": {
            "text/plain": [
              "[]"
            ]
          },
          "metadata": {},
          "execution_count": 5
        }
      ]
    },
    {
      "cell_type": "code",
      "source": [
        "!nvidia-smi"
      ],
      "metadata": {
        "colab": {
          "base_uri": "https://localhost:8080/"
        },
        "id": "0d4ZM-2CYg6R",
        "outputId": "7765d127-de65-4b30-a7d1-1af4e690a1fc"
      },
      "execution_count": null,
      "outputs": [
        {
          "output_type": "stream",
          "name": "stdout",
          "text": [
            "NVIDIA-SMI has failed because it couldn't communicate with the NVIDIA driver. Make sure that the latest NVIDIA driver is installed and running.\n",
            "\n"
          ]
        }
      ]
    },
    {
      "cell_type": "code",
      "source": [
        "!pip install wandb\n",
        "import wandb\n",
        "\n",
        "from wandb.keras import WandbCallback"
      ],
      "metadata": {
        "id": "5X6ve7s2Yitv"
      },
      "execution_count": null,
      "outputs": []
    },
    {
      "cell_type": "code",
      "source": [
        "from google.colab import drive\n",
        "drive.mount('/content/drive')"
      ],
      "metadata": {
        "colab": {
          "base_uri": "https://localhost:8080/"
        },
        "id": "qY61iB5hYkyK",
        "outputId": "6ad9927e-a2cf-43b5-f347-bb78cf9a2135"
      },
      "execution_count": null,
      "outputs": [
        {
          "output_type": "stream",
          "name": "stdout",
          "text": [
            "Mounted at /content/drive\n"
          ]
        }
      ]
    },
    {
      "cell_type": "code",
      "source": [
        ""
      ],
      "metadata": {
        "id": "360zQMEyz92m"
      },
      "execution_count": null,
      "outputs": []
    },
    {
      "cell_type": "code",
      "source": [
        "# English as source language and Telugu as target language\n",
        "source_language='en'\n",
        "target_language='te'\n",
        "\n",
        "# path to the folder where the dataset is located\n",
        "path = '/content/drive/MyDrive/dakshina_dataset_v1.0/dakshina_dataset_v1.0'\n",
        "\n",
        "# assigning training data path to the target language\n",
        "# and reading the tsv file\n",
        "train_path=os.path.join(path,target_language,\"lexicons\",target_language+\".translit.sampled.train.tsv\")\n",
        "train=pd.read_csv(train_path,sep=\"\\t\",names=['tgt','src','count'])\n",
        "\n",
        "# assigning validation data path to the target language\n",
        "# and reading the tsv file \n",
        "valid_path=os.path.join(path,target_language,\"lexicons\",target_language+\".translit.sampled.dev.tsv\")\n",
        "valid=pd.read_csv(valid_path,sep=\"\\t\",names=['tgt','src','count'])\n",
        "\n",
        "# assigning test data path to the target language\n",
        "# and reading the tsv file\n",
        "test_path=os.path.join(path,target_language,\"lexicons\",target_language+\".translit.sampled.test.tsv\")\n",
        "test=pd.read_csv(test_path,sep=\"\\t\",names=['tgt','src','count'])\n",
        "\n",
        "\n"
      ],
      "metadata": {
        "id": "u89m0jGfz9y4"
      },
      "execution_count": null,
      "outputs": []
    },
    {
      "cell_type": "code",
      "source": [
        "def one_hot_encoding(src,tgt,s_char,t_char,):\n",
        "  encoder_tokens=len(s_char)\n",
        "  decoder_tokens=len(t_char)\n",
        "  max_s_len=max([len(txt) for txt in src])\n",
        "  max_t_len=max([len(txt) for txt in tgt])\n",
        "\n",
        "  # Input to encoder and decoder\n",
        "  encoder_input=np.zeros((len(src),max_s_len,encoder_tokens),dtype=\"float32\")\n",
        "  decoder_input=np.zeros((len(src),max_t_len,decoder_tokens),dtype=\"float32\")\n",
        "  \n",
        "  # Decoder target\n",
        "  decoder_target=np.zeros((len(src),max_t_len,decoder_tokens),dtype=\"float32\")\n",
        "\n",
        " # Assigning numbers to the characters for the source language \n",
        "  source_char_int= dict([(char, i) for i, char in enumerate(s_char)])\n",
        "  source_int_char= dict((i, char) for char, i in source_char_int.items())\n",
        " # Assigning characters to number for the target language\n",
        "  target_char_int= dict([(char, i) for i, char in enumerate(t_char)])\n",
        "  target_int_char= dict((i, char) for char, i in source_char_int.items())\n",
        "\n",
        "\n",
        "  for i,(input_text,target_text) in enumerate(zip(src,tgt)):\n",
        "    \n",
        "    # Creating one hot encoding for each character in source language\n",
        "    for t,char in enumerate(input_text):\n",
        "      encoder_input[i, t, source_char_int[char]]=1.0\n",
        "    encoder_input[i, t + 1 :,source_char_int[\" \"]]=1.0\n",
        "    \n",
        "    # Creating one hot encoding for each character in target language\n",
        "    for t,char in enumerate(target_text):\n",
        "      decoder_input[ i, t , target_char_int[char]]=1.0\n",
        "      if t>0:\n",
        "        decoder_target[i,t-1,target_char_int[char]]=1.0\n",
        "      decoder_input[i,t+1:,target_char_int[\" \"]]=1.0\n",
        "      decoder_target[i,t:,target_char_int[\" \"]]=1.0\n",
        "  \n",
        "  return encoder_input,decoder_input,decoder_target\n",
        "  "
      ],
      "metadata": {
        "colab": {
          "base_uri": "https://localhost:8080/"
        },
        "id": "bT1sOmdT2Q7x",
        "outputId": "0ba48d87-f958-454f-a5fa-33a15c698742"
      },
      "execution_count": null,
      "outputs": [
        {
          "output_type": "stream",
          "name": "stdout",
          "text": [
            "58550\n"
          ]
        }
      ]
    },
    {
      "cell_type": "code",
      "source": [
        "def data_preprocessing(source,target):\n",
        "  s_char=set()\n",
        "  t_char=set()\n",
        "\n",
        "  source=[]\n",
        "  for x in source:\n",
        "    source.append(str(x))\n",
        "  \n",
        "  target=[]\n",
        "  for x in target:\n",
        "    target.append(str(x))\n",
        "  \n",
        "  s_words=[]\n",
        "  t_words=[]\n",
        "\n",
        "  for src,tgt in zip(source,target):\n",
        "    tgt=\"\\t\"+tgt+\"\\n\"\n",
        "    s_words.append(src)\n",
        "    t_words.append(tgt)\n",
        "\n",
        "    # extracting each character from the words and adding them to the respective set\n",
        "    for char in src:\n",
        "      if char not in s_char:\n",
        "        s_char.add(char)\n",
        "    for char in tgt:\n",
        "      if char not in t_char:\n",
        "        t_char.add(char)\n",
        "\n",
        "  # sorting the characters of source and target languages\n",
        "  s_char=sorted(list(s_char))\n",
        "  t_char=sorted(list(t_char))\n",
        "\n",
        "  # Adding a space\n",
        "  s_char.append(\" \")\n",
        "  t_char.append(\" \")\n",
        "\n",
        "  return one_hot_encoding(s_words,t_words,s_char,t_char)\n"
      ],
      "metadata": {
        "id": "3xDCduq93Q-3"
      },
      "execution_count": null,
      "outputs": []
    },
    {
      "cell_type": "code",
      "source": [
        "train_source=train[\"src\"].to_list()\n",
        "train_target=train[\"tgt\"].to_list()\n",
        "\n",
        "valid_source=valid[\"src\"].to_list()\n",
        "valid_target=valid[\"tgt\"].to_list()\n",
        "\n",
        "test_source=test[\"src\"].to_list()\n",
        "test_target=test[\"tgt\"].to_list()\n",
        "\n",
        "# Training data\n",
        "encoder_input_train, decoder_input_train, decoder_target_train = data_preprocessing(train_source,train_target)\n",
        "\n",
        "# Validation data\n",
        "encoder_input_valid, decoder_input_valid, decoder_target_valid = data_preprocessing(valid_source,valid_target)\n",
        "\n",
        "# Test data\n",
        "encoder_input_test, decoder_input_test, decoder_target_test = data_preprocessing(test_source,test_target)\n"
      ],
      "metadata": {
        "id": "cCrYJy9x3Q4S"
      },
      "execution_count": null,
      "outputs": []
    }
  ]
}