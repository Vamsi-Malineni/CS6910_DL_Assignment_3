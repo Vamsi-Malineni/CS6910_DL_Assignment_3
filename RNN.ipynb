{
  "nbformat": 4,
  "nbformat_minor": 0,
  "metadata": {
    "colab": {
      "name": "RNN",
      "provenance": [],
      "background_execution": "on",
      "include_colab_link": true
    },
    "kernelspec": {
      "name": "python3",
      "display_name": "Python 3"
    },
    "language_info": {
      "name": "python"
    },
    "accelerator": "GPU",
    "widgets": {
      "application/vnd.jupyter.widget-state+json": {
        "b98a9d4fd11f4421a464e051ea29687f": {
          "model_module": "@jupyter-widgets/controls",
          "model_name": "VBoxModel",
          "model_module_version": "1.5.0",
          "state": {
            "_dom_classes": [],
            "_model_module": "@jupyter-widgets/controls",
            "_model_module_version": "1.5.0",
            "_model_name": "VBoxModel",
            "_view_count": null,
            "_view_module": "@jupyter-widgets/controls",
            "_view_module_version": "1.5.0",
            "_view_name": "VBoxView",
            "box_style": "",
            "children": [
              "IPY_MODEL_0cb410ab53914f198f96268468446730",
              "IPY_MODEL_8624afd7997d43bd9a4eb2cba3ac1ad7"
            ],
            "layout": "IPY_MODEL_a700cfd8856f40e1be785e82db67d194"
          }
        },
        "0cb410ab53914f198f96268468446730": {
          "model_module": "@jupyter-widgets/controls",
          "model_name": "LabelModel",
          "model_module_version": "1.5.0",
          "state": {
            "_dom_classes": [],
            "_model_module": "@jupyter-widgets/controls",
            "_model_module_version": "1.5.0",
            "_model_name": "LabelModel",
            "_view_count": null,
            "_view_module": "@jupyter-widgets/controls",
            "_view_module_version": "1.5.0",
            "_view_name": "LabelView",
            "description": "",
            "description_tooltip": null,
            "layout": "IPY_MODEL_eec826fafd21468bb12da133152c6b69",
            "placeholder": "​",
            "style": "IPY_MODEL_e2852f4fb0684d78bedcfe3525ddb79c",
            "value": "0.008 MB of 0.008 MB uploaded (0.000 MB deduped)\r"
          }
        },
        "8624afd7997d43bd9a4eb2cba3ac1ad7": {
          "model_module": "@jupyter-widgets/controls",
          "model_name": "FloatProgressModel",
          "model_module_version": "1.5.0",
          "state": {
            "_dom_classes": [],
            "_model_module": "@jupyter-widgets/controls",
            "_model_module_version": "1.5.0",
            "_model_name": "FloatProgressModel",
            "_view_count": null,
            "_view_module": "@jupyter-widgets/controls",
            "_view_module_version": "1.5.0",
            "_view_name": "ProgressView",
            "bar_style": "",
            "description": "",
            "description_tooltip": null,
            "layout": "IPY_MODEL_f612fb96d5d64d43bd88fe197202df23",
            "max": 1,
            "min": 0,
            "orientation": "horizontal",
            "style": "IPY_MODEL_a14ae97ce6b540f08f47b2c4683bd600",
            "value": 1
          }
        },
        "a700cfd8856f40e1be785e82db67d194": {
          "model_module": "@jupyter-widgets/base",
          "model_name": "LayoutModel",
          "model_module_version": "1.2.0",
          "state": {
            "_model_module": "@jupyter-widgets/base",
            "_model_module_version": "1.2.0",
            "_model_name": "LayoutModel",
            "_view_count": null,
            "_view_module": "@jupyter-widgets/base",
            "_view_module_version": "1.2.0",
            "_view_name": "LayoutView",
            "align_content": null,
            "align_items": null,
            "align_self": null,
            "border": null,
            "bottom": null,
            "display": null,
            "flex": null,
            "flex_flow": null,
            "grid_area": null,
            "grid_auto_columns": null,
            "grid_auto_flow": null,
            "grid_auto_rows": null,
            "grid_column": null,
            "grid_gap": null,
            "grid_row": null,
            "grid_template_areas": null,
            "grid_template_columns": null,
            "grid_template_rows": null,
            "height": null,
            "justify_content": null,
            "justify_items": null,
            "left": null,
            "margin": null,
            "max_height": null,
            "max_width": null,
            "min_height": null,
            "min_width": null,
            "object_fit": null,
            "object_position": null,
            "order": null,
            "overflow": null,
            "overflow_x": null,
            "overflow_y": null,
            "padding": null,
            "right": null,
            "top": null,
            "visibility": null,
            "width": null
          }
        },
        "eec826fafd21468bb12da133152c6b69": {
          "model_module": "@jupyter-widgets/base",
          "model_name": "LayoutModel",
          "model_module_version": "1.2.0",
          "state": {
            "_model_module": "@jupyter-widgets/base",
            "_model_module_version": "1.2.0",
            "_model_name": "LayoutModel",
            "_view_count": null,
            "_view_module": "@jupyter-widgets/base",
            "_view_module_version": "1.2.0",
            "_view_name": "LayoutView",
            "align_content": null,
            "align_items": null,
            "align_self": null,
            "border": null,
            "bottom": null,
            "display": null,
            "flex": null,
            "flex_flow": null,
            "grid_area": null,
            "grid_auto_columns": null,
            "grid_auto_flow": null,
            "grid_auto_rows": null,
            "grid_column": null,
            "grid_gap": null,
            "grid_row": null,
            "grid_template_areas": null,
            "grid_template_columns": null,
            "grid_template_rows": null,
            "height": null,
            "justify_content": null,
            "justify_items": null,
            "left": null,
            "margin": null,
            "max_height": null,
            "max_width": null,
            "min_height": null,
            "min_width": null,
            "object_fit": null,
            "object_position": null,
            "order": null,
            "overflow": null,
            "overflow_x": null,
            "overflow_y": null,
            "padding": null,
            "right": null,
            "top": null,
            "visibility": null,
            "width": null
          }
        },
        "e2852f4fb0684d78bedcfe3525ddb79c": {
          "model_module": "@jupyter-widgets/controls",
          "model_name": "DescriptionStyleModel",
          "model_module_version": "1.5.0",
          "state": {
            "_model_module": "@jupyter-widgets/controls",
            "_model_module_version": "1.5.0",
            "_model_name": "DescriptionStyleModel",
            "_view_count": null,
            "_view_module": "@jupyter-widgets/base",
            "_view_module_version": "1.2.0",
            "_view_name": "StyleView",
            "description_width": ""
          }
        },
        "f612fb96d5d64d43bd88fe197202df23": {
          "model_module": "@jupyter-widgets/base",
          "model_name": "LayoutModel",
          "model_module_version": "1.2.0",
          "state": {
            "_model_module": "@jupyter-widgets/base",
            "_model_module_version": "1.2.0",
            "_model_name": "LayoutModel",
            "_view_count": null,
            "_view_module": "@jupyter-widgets/base",
            "_view_module_version": "1.2.0",
            "_view_name": "LayoutView",
            "align_content": null,
            "align_items": null,
            "align_self": null,
            "border": null,
            "bottom": null,
            "display": null,
            "flex": null,
            "flex_flow": null,
            "grid_area": null,
            "grid_auto_columns": null,
            "grid_auto_flow": null,
            "grid_auto_rows": null,
            "grid_column": null,
            "grid_gap": null,
            "grid_row": null,
            "grid_template_areas": null,
            "grid_template_columns": null,
            "grid_template_rows": null,
            "height": null,
            "justify_content": null,
            "justify_items": null,
            "left": null,
            "margin": null,
            "max_height": null,
            "max_width": null,
            "min_height": null,
            "min_width": null,
            "object_fit": null,
            "object_position": null,
            "order": null,
            "overflow": null,
            "overflow_x": null,
            "overflow_y": null,
            "padding": null,
            "right": null,
            "top": null,
            "visibility": null,
            "width": null
          }
        },
        "a14ae97ce6b540f08f47b2c4683bd600": {
          "model_module": "@jupyter-widgets/controls",
          "model_name": "ProgressStyleModel",
          "model_module_version": "1.5.0",
          "state": {
            "_model_module": "@jupyter-widgets/controls",
            "_model_module_version": "1.5.0",
            "_model_name": "ProgressStyleModel",
            "_view_count": null,
            "_view_module": "@jupyter-widgets/base",
            "_view_module_version": "1.2.0",
            "_view_name": "StyleView",
            "bar_color": null,
            "description_width": ""
          }
        }
      }
    }
  },
  "cells": [
    {
      "cell_type": "markdown",
      "metadata": {
        "id": "view-in-github",
        "colab_type": "text"
      },
      "source": [
        "<a href=\"https://colab.research.google.com/github/safikhanSoofiyani/CS6910-Assignment-3/blob/main/RNN.ipynb\" target=\"_parent\"><img src=\"https://colab.research.google.com/assets/colab-badge.svg\" alt=\"Open In Colab\"/></a>"
      ]
    },
    {
      "cell_type": "markdown",
      "source": [
        "# Recurrent Neural Networks\n"
      ],
      "metadata": {
        "id": "U5HqFjcSVLy6"
      }
    },
    {
      "cell_type": "code",
      "execution_count": 1,
      "metadata": {
        "id": "HWqqx4brVLH2"
      },
      "outputs": [],
      "source": [
        "import numpy as np\n",
        "import pandas as pd\n",
        "import matplotlib.pyplot as plt\n",
        "import scipy as sc\n",
        "import tensorflow as tf\n",
        "import keras as ks\n",
        "import random\n",
        "import csv\n",
        "\n",
        "from tensorflow.keras.layers import Dense, Input,InputLayer,Flatten,Activation,LSTM,SimpleRNN,GRU,TimeDistributed,Embedding\n",
        "from tensorflow.keras.models import Sequential, Model,load_model\n",
        "from tensorflow.keras.callbacks import EarlyStopping\n"
      ]
    },
    {
      "cell_type": "code",
      "source": [
        "random.seed(hash(\"seriously you compete with me\") % 2**32 - 1)\n",
        "np.random.seed(hash(\"i am mohammed safi\") % 2**32 - 1)\n",
        "tf.random.set_seed(hash(\"ur rahman khan\") % 2**32 - 1)"
      ],
      "metadata": {
        "id": "3sleHsMmYciG"
      },
      "execution_count": 2,
      "outputs": []
    },
    {
      "cell_type": "code",
      "source": [
        "from tensorflow.python.keras import backend as K\n",
        "K._get_available_gpus()"
      ],
      "metadata": {
        "colab": {
          "base_uri": "https://localhost:8080/"
        },
        "id": "2jr1oGJKYdAx",
        "outputId": "302652b5-5c58-4977-c518-2fc8566005f1"
      },
      "execution_count": 3,
      "outputs": [
        {
          "output_type": "execute_result",
          "data": {
            "text/plain": [
              "['/device:GPU:0']"
            ]
          },
          "metadata": {},
          "execution_count": 3
        }
      ]
    },
    {
      "cell_type": "code",
      "source": [
        "!nvidia-smi"
      ],
      "metadata": {
        "colab": {
          "base_uri": "https://localhost:8080/"
        },
        "id": "0d4ZM-2CYg6R",
        "outputId": "c9b071c1-50a5-4238-a33a-f5e536cad29d"
      },
      "execution_count": 4,
      "outputs": [
        {
          "output_type": "stream",
          "name": "stdout",
          "text": [
            "Thu Apr 28 08:28:41 2022       \n",
            "+-----------------------------------------------------------------------------+\n",
            "| NVIDIA-SMI 460.32.03    Driver Version: 460.32.03    CUDA Version: 11.2     |\n",
            "|-------------------------------+----------------------+----------------------+\n",
            "| GPU  Name        Persistence-M| Bus-Id        Disp.A | Volatile Uncorr. ECC |\n",
            "| Fan  Temp  Perf  Pwr:Usage/Cap|         Memory-Usage | GPU-Util  Compute M. |\n",
            "|                               |                      |               MIG M. |\n",
            "|===============================+======================+======================|\n",
            "|   0  Tesla P100-PCIE...  Off  | 00000000:00:04.0 Off |                    0 |\n",
            "| N/A   34C    P0    34W / 250W |    375MiB / 16280MiB |      1%      Default |\n",
            "|                               |                      |                  N/A |\n",
            "+-------------------------------+----------------------+----------------------+\n",
            "                                                                               \n",
            "+-----------------------------------------------------------------------------+\n",
            "| Processes:                                                                  |\n",
            "|  GPU   GI   CI        PID   Type   Process name                  GPU Memory |\n",
            "|        ID   ID                                                   Usage      |\n",
            "|=============================================================================|\n",
            "+-----------------------------------------------------------------------------+\n"
          ]
        }
      ]
    },
    {
      "cell_type": "code",
      "source": [
        "!pip install wandb\n",
        "import wandb\n",
        "\n",
        "from wandb.keras import WandbCallback"
      ],
      "metadata": {
        "id": "5X6ve7s2Yitv",
        "outputId": "76e270dc-e043-4466-f1f9-9638a9fbf29b",
        "colab": {
          "base_uri": "https://localhost:8080/"
        }
      },
      "execution_count": 5,
      "outputs": [
        {
          "output_type": "stream",
          "name": "stdout",
          "text": [
            "Collecting wandb\n",
            "  Downloading wandb-0.12.15-py2.py3-none-any.whl (1.8 MB)\n",
            "\u001b[K     |████████████████████████████████| 1.8 MB 14.4 MB/s \n",
            "\u001b[?25hCollecting GitPython>=1.0.0\n",
            "  Downloading GitPython-3.1.27-py3-none-any.whl (181 kB)\n",
            "\u001b[K     |████████████████████████████████| 181 kB 72.1 MB/s \n",
            "\u001b[?25hRequirement already satisfied: protobuf>=3.12.0 in /usr/local/lib/python3.7/dist-packages (from wandb) (3.17.3)\n",
            "Requirement already satisfied: promise<3,>=2.0 in /usr/local/lib/python3.7/dist-packages (from wandb) (2.3)\n",
            "Requirement already satisfied: six>=1.13.0 in /usr/local/lib/python3.7/dist-packages (from wandb) (1.15.0)\n",
            "Collecting shortuuid>=0.5.0\n",
            "  Downloading shortuuid-1.0.8-py3-none-any.whl (9.5 kB)\n",
            "Collecting sentry-sdk>=1.0.0\n",
            "  Downloading sentry_sdk-1.5.10-py2.py3-none-any.whl (144 kB)\n",
            "\u001b[K     |████████████████████████████████| 144 kB 74.8 MB/s \n",
            "\u001b[?25hCollecting docker-pycreds>=0.4.0\n",
            "  Downloading docker_pycreds-0.4.0-py2.py3-none-any.whl (9.0 kB)\n",
            "Requirement already satisfied: PyYAML in /usr/local/lib/python3.7/dist-packages (from wandb) (3.13)\n",
            "Requirement already satisfied: requests<3,>=2.0.0 in /usr/local/lib/python3.7/dist-packages (from wandb) (2.23.0)\n",
            "Requirement already satisfied: python-dateutil>=2.6.1 in /usr/local/lib/python3.7/dist-packages (from wandb) (2.8.2)\n",
            "Collecting pathtools\n",
            "  Downloading pathtools-0.1.2.tar.gz (11 kB)\n",
            "Requirement already satisfied: Click!=8.0.0,>=7.0 in /usr/local/lib/python3.7/dist-packages (from wandb) (7.1.2)\n",
            "Collecting setproctitle\n",
            "  Downloading setproctitle-1.2.3-cp37-cp37m-manylinux_2_5_x86_64.manylinux1_x86_64.manylinux_2_17_x86_64.manylinux2014_x86_64.whl (29 kB)\n",
            "Requirement already satisfied: psutil>=5.0.0 in /usr/local/lib/python3.7/dist-packages (from wandb) (5.4.8)\n",
            "Collecting gitdb<5,>=4.0.1\n",
            "  Downloading gitdb-4.0.9-py3-none-any.whl (63 kB)\n",
            "\u001b[K     |████████████████████████████████| 63 kB 2.3 MB/s \n",
            "\u001b[?25hRequirement already satisfied: typing-extensions>=3.7.4.3 in /usr/local/lib/python3.7/dist-packages (from GitPython>=1.0.0->wandb) (4.2.0)\n",
            "Collecting smmap<6,>=3.0.1\n",
            "  Downloading smmap-5.0.0-py3-none-any.whl (24 kB)\n",
            "Requirement already satisfied: urllib3!=1.25.0,!=1.25.1,<1.26,>=1.21.1 in /usr/local/lib/python3.7/dist-packages (from requests<3,>=2.0.0->wandb) (1.24.3)\n",
            "Requirement already satisfied: chardet<4,>=3.0.2 in /usr/local/lib/python3.7/dist-packages (from requests<3,>=2.0.0->wandb) (3.0.4)\n",
            "Requirement already satisfied: idna<3,>=2.5 in /usr/local/lib/python3.7/dist-packages (from requests<3,>=2.0.0->wandb) (2.10)\n",
            "Requirement already satisfied: certifi>=2017.4.17 in /usr/local/lib/python3.7/dist-packages (from requests<3,>=2.0.0->wandb) (2021.10.8)\n",
            "Building wheels for collected packages: pathtools\n",
            "  Building wheel for pathtools (setup.py) ... \u001b[?25l\u001b[?25hdone\n",
            "  Created wheel for pathtools: filename=pathtools-0.1.2-py3-none-any.whl size=8806 sha256=93a1f3119f80ff738421db323931e357a885f89302ca53c5f58c1d82e786ee23\n",
            "  Stored in directory: /root/.cache/pip/wheels/3e/31/09/fa59cef12cdcfecc627b3d24273699f390e71828921b2cbba2\n",
            "Successfully built pathtools\n",
            "Installing collected packages: smmap, gitdb, shortuuid, setproctitle, sentry-sdk, pathtools, GitPython, docker-pycreds, wandb\n",
            "Successfully installed GitPython-3.1.27 docker-pycreds-0.4.0 gitdb-4.0.9 pathtools-0.1.2 sentry-sdk-1.5.10 setproctitle-1.2.3 shortuuid-1.0.8 smmap-5.0.0 wandb-0.12.15\n"
          ]
        }
      ]
    },
    {
      "cell_type": "code",
      "source": [
        "from google.colab import drive\n",
        "drive.mount('/content/drive')"
      ],
      "metadata": {
        "colab": {
          "base_uri": "https://localhost:8080/"
        },
        "id": "qY61iB5hYkyK",
        "outputId": "832b175a-fa2e-4f91-c582-00602a139061"
      },
      "execution_count": 6,
      "outputs": [
        {
          "output_type": "stream",
          "name": "stdout",
          "text": [
            "Mounted at /content/drive\n"
          ]
        }
      ]
    },
    {
      "cell_type": "code",
      "source": [
        "# English as source language and Telugu as target language\n",
        "source_language='en'\n",
        "target_language='te'"
      ],
      "metadata": {
        "id": "360zQMEyz92m"
      },
      "execution_count": 7,
      "outputs": []
    },
    {
      "cell_type": "code",
      "source": [
        "def load_data():\n",
        "    path = r\"/content/drive/MyDrive/dakshina_dataset_v1.0/dakshina_dataset_v1.0/te/lexicons/\"\n",
        "\n",
        "    train_file_path = path + \"te.translit.sampled.train.tsv\"\n",
        "    val_file_path = path + \"te.translit.sampled.dev.tsv\"\n",
        "\n",
        "    \n",
        "\n",
        "    path = r\"/content/drive/MyDrive/dakshina_dataset_v1.0/dakshina_dataset_v1.0/te/lexicons/\"\n",
        "\n",
        "    train_file_path = path + \"te.translit.sampled.train.tsv\"\n",
        "    val_file_path = path + \"te.translit.sampled.dev.tsv\"\n",
        "\n",
        "    train_tsv_file = open(train_file_path, \"r\", encoding=\"utf-8\")\n",
        "    train_dataset = csv.reader(train_tsv_file, delimiter=\"\\t\")\n",
        "\n",
        "    val_tsv_file = open(val_file_path, \"r\", encoding=\"utf-8\")\n",
        "    val_dataset = csv.reader(val_tsv_file, delimiter=\"\\t\")\n",
        "\n",
        "    return train_dataset, val_dataset\n"
      ],
      "metadata": {
        "id": "hCq14cy_O6o-"
      },
      "execution_count": 8,
      "outputs": []
    },
    {
      "cell_type": "code",
      "source": [
        "def prepare_data():\n",
        "\n",
        "    train_dataset, val_dataset = load_data()\n",
        "    \n",
        "    input = []\n",
        "    target = []\n",
        "    #print(english)\n",
        "    for i in train_dataset:\n",
        "        #print(i) \n",
        "        target.append(i[0])\n",
        "        #print(i[1])\n",
        "        input.append(i[1])\n",
        "    #print(english)\n",
        "    target = np.array(target)\n",
        "    input = np.array(input)\n",
        "\n",
        "    # Validation data\n",
        "    val_input = []\n",
        "    val_target = []\n",
        "\n",
        "    for i in val_dataset:\n",
        "        val_target.append(i[0])\n",
        "        val_input.append(i[1])\n",
        "\n",
        "    val_target = np.array(val_target)\n",
        "    val_input = np.array(val_input)\n",
        "\n",
        "    for i in range(len(target)):\n",
        "        target[i] = \"\\t\" + target[i] + \"\\n\"\n",
        "    \n",
        "    for i in range(len(val_target)):\n",
        "        val_target[i] = \"\\t\" + val_target[i] + \"\\n\"\n",
        "\n",
        "    return input, target, val_input, val_target\n",
        "\n"
      ],
      "metadata": {
        "id": "raSU82DvPM2C"
      },
      "execution_count": 9,
      "outputs": []
    },
    {
      "cell_type": "code",
      "source": [
        "def getTokens(input, target, val_input, val_target):\n",
        "    # Getting input and target language characters\n",
        "\n",
        "    # Training set\n",
        "    input_tokens = set()\n",
        "    target_tokens = set()\n",
        "\n",
        "    for word in input:\n",
        "        for char in word:\n",
        "            if char not in input_tokens:\n",
        "                input_tokens.add(char)\n",
        "\n",
        "    for word in target:\n",
        "        for char in word:\n",
        "            if char not in target_tokens:\n",
        "                target_tokens.add(char)\n",
        "\n",
        "    # Validation set\n",
        "    val_input_tokens = set()\n",
        "    val_target_tokens = set()\n",
        "\n",
        "    for word in val_input:\n",
        "        for char in word:\n",
        "            if char not in val_input_tokens:\n",
        "                val_input_tokens.add(char)\n",
        "\n",
        "    for word in val_target:\n",
        "        for char in word:\n",
        "            if char not in val_target_tokens:\n",
        "                val_target_tokens.add(char)\n",
        "\n",
        "    input_tokens = sorted(list(input_tokens))\n",
        "    target_tokens = sorted(list(target_tokens))\n",
        "    \n",
        "    return input_tokens, target_tokens, val_input_tokens, val_target_tokens\n"
      ],
      "metadata": {
        "id": "ztfcT9lg0ccz"
      },
      "execution_count": 10,
      "outputs": []
    },
    {
      "cell_type": "code",
      "source": [
        "input, target, val_input, val_target = prepare_data()\n",
        "input_tokens, target_tokens, val_input_tokens, val_target_tokens = getTokens(input, target, val_input, val_target)\n"
      ],
      "metadata": {
        "id": "R0b2YKcI0XyM"
      },
      "execution_count": 11,
      "outputs": []
    },
    {
      "cell_type": "code",
      "source": [
        "num_encoder_tokens = len(input_tokens)\n",
        "num_decoder_tokens = len(target_tokens)\n",
        "\n",
        "max_encoder_seq_length = max([len(txt) for txt in input])\n",
        "max_decoder_seq_length = max([len(txt) for txt in target])\n",
        "\n",
        "input_token_index = dict([(char, i) for i, char in enumerate(input_tokens)])\n",
        "target_token_index = dict([(char, i) for i, char in enumerate(target_tokens)])\n",
        "reverse_input_char_index = dict((i, char) for char, i in input_token_index.items())\n",
        "reverse_target_char_index = dict((i, char) for char, i in target_token_index.items())\n",
        "\n",
        "print(\"Number of data points:\", len(input))\n",
        "print(\"Number of unique input tokens:\", num_encoder_tokens)\n",
        "print(\"Number of unique output tokens:\", num_decoder_tokens)\n",
        "print(\"Max sequence length for inputs:\", max_encoder_seq_length)\n",
        "print(\"Max sequence length for outputs:\", max_decoder_seq_length)"
      ],
      "metadata": {
        "id": "y2bF96w62heY",
        "outputId": "0e1b1973-f721-4f3f-90df-2789b3898311",
        "colab": {
          "base_uri": "https://localhost:8080/"
        }
      },
      "execution_count": 12,
      "outputs": [
        {
          "output_type": "stream",
          "name": "stdout",
          "text": [
            "Number of data points: 58550\n",
            "Number of unique input tokens: 26\n",
            "Number of unique output tokens: 65\n",
            "Max sequence length for inputs: 25\n",
            "Max sequence length for outputs: 20\n"
          ]
        }
      ]
    },
    {
      "cell_type": "code",
      "source": [
        "print(target[5])"
      ],
      "metadata": {
        "colab": {
          "base_uri": "https://localhost:8080/"
        },
        "id": "OTO1LGw1VBny",
        "outputId": "7b0e3d39-451e-421a-b2fc-ead6bf7e86b0"
      },
      "execution_count": 13,
      "outputs": [
        {
          "output_type": "stream",
          "name": "stdout",
          "text": [
            "\tఅంకితభావం\n",
            "\n"
          ]
        }
      ]
    },
    {
      "cell_type": "markdown",
      "source": [
        "ENCODER AND DECODER INPUTS"
      ],
      "metadata": {
        "id": "UKLIJmjt3RU3"
      }
    },
    {
      "cell_type": "code",
      "source": [
        "def one_hot_encoding(input, target, val_input, val_target, input_tokens, target_tokens):\n",
        "\n",
        "    input_token_index = dict([(char, i) for i, char in enumerate(input_tokens)])\n",
        "    target_token_index = dict([(char, i) for i, char in enumerate(target_tokens)])\n",
        "\n",
        "    reverse_input_char_index = dict((i, char) for char, i in input_token_index.items())\n",
        "    reverse_target_char_index = dict((i, char) for char, i in target_token_index.items())\n",
        "\n",
        "    \n",
        "    encoder_input_data = np.zeros(\n",
        "        (len(input), max_encoder_seq_length), dtype = \"float32\" )\n",
        "    decoder_input_data = np.zeros(\n",
        "        (len(input), max_decoder_seq_length), dtype = \"float32\" )\n",
        "    decoder_target_data = np.zeros(\n",
        "        (len(input), max_decoder_seq_length, num_decoder_tokens), dtype = \"float32\" )\n",
        "    \n",
        "    for i, (inp, tar) in enumerate(zip(input, target)):\n",
        "        for t, char in enumerate(inp):\n",
        "            encoder_input_data[i,t] = input_token_index[char]\n",
        "\n",
        "        for t, char in enumerate(tar):\n",
        "            decoder_input_data[i,t] = target_token_index[char]\n",
        "            if t>0:\n",
        "                decoder_target_data[i,t-1,target_token_index[char]] = 1.0\n",
        "\n",
        "    \n",
        "\n",
        "    encoder_val_input_data = np.zeros(\n",
        "        (len(val_input), max_encoder_seq_length), dtype = \"float32\" )\n",
        "    decoder_val_input_data = np.zeros(\n",
        "        (len(val_input), max_decoder_seq_length), dtype = \"float32\" )\n",
        "    decoder_val_target_data = np.zeros(\n",
        "        (len(val_input), max_decoder_seq_length, num_decoder_tokens), dtype = \"float32\" )\n",
        "\n",
        "    for i, (inp, tar) in enumerate(zip(val_input, val_target)):\n",
        "        for t, char in enumerate(inp):\n",
        "            encoder_val_input_data[i,t] = input_token_index[char]\n",
        "\n",
        "        for t, char in enumerate(tar):\n",
        "            decoder_val_input_data[i,t] = target_token_index[char]\n",
        "            if t>0:\n",
        "                decoder_target_data[i,t-1,target_token_index[char]] = 1.0\n",
        "\n",
        "    return encoder_input_data, decoder_input_data, decoder_target_data, encoder_val_input_data, decoder_val_input_data, decoder_val_target_data\n"
      ],
      "metadata": {
        "id": "TbpXbSoITQpG"
      },
      "execution_count": 14,
      "outputs": []
    },
    {
      "cell_type": "code",
      "source": [
        "encoder_input_data, decoder_input_data, decoder_target_data, encoder_val_input_data, decoder_val_input_data, decoder_val_target_data = one_hot_encoding(input, target, val_input, val_target, input_tokens, target_tokens)"
      ],
      "metadata": {
        "id": "au3XJBhDXYfg"
      },
      "execution_count": 15,
      "outputs": []
    },
    {
      "cell_type": "code",
      "source": [
        "decoder_target_data.shape"
      ],
      "metadata": {
        "id": "gb3G0IccZCK7",
        "outputId": "e8a0bb08-e6ed-44ee-bcd1-3b5781ea4fdc",
        "colab": {
          "base_uri": "https://localhost:8080/"
        }
      },
      "execution_count": 16,
      "outputs": [
        {
          "output_type": "execute_result",
          "data": {
            "text/plain": [
              "(58550, 20, 65)"
            ]
          },
          "metadata": {},
          "execution_count": 16
        }
      ]
    },
    {
      "cell_type": "code",
      "source": [
        "print(decoder_target_data[0])"
      ],
      "metadata": {
        "id": "E-RI6g4WaVuu",
        "colab": {
          "base_uri": "https://localhost:8080/"
        },
        "outputId": "cceb5c47-6c9a-4e25-bce3-0fb12335c493"
      },
      "execution_count": 17,
      "outputs": [
        {
          "output_type": "stream",
          "name": "stdout",
          "text": [
            "[[0. 0. 0. ... 0. 0. 0.]\n",
            " [0. 0. 1. ... 0. 0. 0.]\n",
            " [0. 0. 0. ... 0. 0. 0.]\n",
            " ...\n",
            " [0. 0. 0. ... 0. 0. 0.]\n",
            " [0. 0. 0. ... 0. 0. 0.]\n",
            " [0. 0. 0. ... 0. 0. 0.]]\n"
          ]
        }
      ]
    },
    {
      "cell_type": "code",
      "source": [
        ""
      ],
      "metadata": {
        "id": "YIq0iqtlaVrp"
      },
      "execution_count": 17,
      "outputs": []
    },
    {
      "cell_type": "code",
      "source": [
        ""
      ],
      "metadata": {
        "id": "j65TQqDnaVj9"
      },
      "execution_count": 17,
      "outputs": []
    },
    {
      "cell_type": "code",
      "source": [
        "def rnn( num_encoders, embed_size, dropout, num_decoders, hidden_layer_size):\n",
        "  # enc_in : Encoder input\n",
        "  # enc_out : Encoder output\n",
        "  # enc_states: Encoder states\n",
        "  # dec_in : Decoder input\n",
        "  # dec_out : Decoder output\n",
        "  # dec_dense : Dense layer for decoder\n",
        "\n",
        "  #=============================================#\n",
        "  #============== Encoder part =================#\n",
        "  #=============================================#\n",
        "  \n",
        "  enc_in = Input(shape=(max_encoder_seq_length,))\n",
        "  enc_out = Embedding(num_encoder_tokens, embed_size, trainable=True)(enc_in)\n",
        "\n",
        "  enc_layers = []\n",
        "  enc_states = []\n",
        "  \n",
        "  for i in range(num_encoders):\n",
        "        encoder = SimpleRNN(hidden_layer_size, return_state=True, return_sequences=True, dropout=dropout)\n",
        "        enc_layers.append(encoder)\n",
        "        enc_out, state_h = encoder(enc_out)\n",
        "        enc_states.append([state_h])\n",
        "\n",
        "#   # First encoder layer of the rnn\n",
        "#   encoder = SimpleRNN(hidden_layer_size, return_state=True, return_sequences=True, dropout=dropout)\n",
        "#   enc_layers.append(encoder)\n",
        "#   enc_out, state_h = encoder(enc_out)\n",
        "#   enc_states.append([state_h])\n",
        "  \n",
        "#   # Second encoder layer of the rnn\n",
        "#   if num_encoders > 1:\n",
        "#     encoder = SimpleRNN(hidden_layer_size, return_state=True, return_sequences=True, dropout=dropout)\n",
        "#     enc_layers.append(encoder)\n",
        "#     enc_out, state_h2 = encoder(enc_out)\n",
        "#     enc_states.append([state_h2])\n",
        "\n",
        "#   # Third encoder layer of the rnn\n",
        "#   if num_encoders > 2:\n",
        "#     encoder = SimpleRNN(hidden_layer_size, return_state=True, return_sequences=True, dropout=dropout)\n",
        "#     enc_layers.append(encoder)\n",
        "#     enc_out, state_h3 = encoder(enc_out)\n",
        "#     enc_states.append([state_h3])\n",
        "\n",
        "  #==============================================#  \n",
        "  #============== Decoder part ==================#\n",
        "  #==============================================#\n",
        "\n",
        "  dec_in = Input(shape=(max_decoder_seq_length,))\n",
        "  dec_out = Embedding(num_decoder_tokens, embed_size, trainable=True)(dec_in)\n",
        "\n",
        "  dec_layers = []\n",
        "\n",
        "  for i in range(num_decoders):\n",
        "        decoder = SimpleRNN(hidden_layer_size, return_state=True, return_sequences=True, dropout=dropout)\n",
        "        dec_layers.append(decoder)\n",
        "        dec_out, _ = decoder(dec_out, initial_state = enc_states[i])\n",
        "\n",
        "\n",
        "#   # First decoder layer of the rnn\n",
        "#   decoder = SimpleRNN(hidden_layer_size, return_state=True, return_sequences=True, dropout=dropout)\n",
        "#   dec_layers.append(decoder)\n",
        "#   dec_out, _ = decoder(dec_out, initial_state = enc_states[0])\n",
        "\n",
        "#   # Second decoder layer of the rnn\n",
        "#   if num_decoders > 1:\n",
        "#     decoder = SimpleRNN(hidden_layer_size, return_state=True, return_sequences=True, dropout=dropout)\n",
        "#     dec_layers.append(decoder)\n",
        "#     dec_out, _ = decoder(dec_out, initial_state = enc_states[1])\n",
        "\n",
        "#   # Third decoder layer of the rnn\n",
        "#   if num_decoders > 2:\n",
        "#     decoder = SimpleRNN(hidden_layer_size, return_state=True, return_sequences=True, dropout=dropout)\n",
        "#     dec_layers.append(decoder)\n",
        "#     dec_out, _ = decoder(dec_out, initial_state = enc_states[2])\n",
        "    \n",
        "  dec_dense = TimeDistributed(Dense(num_decoder_tokens, activation=\"softmax\"))\n",
        "  dec_out = dec_dense(dec_out)\n",
        "  \n",
        "  model = Model([enc_in, dec_in], dec_out)\n",
        "\n",
        "  return model, enc_layers, dec_layers\n"
      ],
      "metadata": {
        "id": "08A5CzRKJGSq"
      },
      "execution_count": 18,
      "outputs": []
    },
    {
      "cell_type": "code",
      "source": [
        "def lstm( num_encoders, embed_size, dropout, num_decoders, hidden_layer_size):\n",
        "  # e_in : Encoder input\n",
        "  # e_out : Encoder output\n",
        "  # e_states: Encoder states\n",
        "  # d_in : Decoder input\n",
        "  # d_out : Decoder output\n",
        "  # d_dense : Dense layer for decoder\n",
        "\n",
        "\n",
        "  #=============================================#\n",
        "  #============== Encoder part =================#\n",
        "  #=============================================#\n",
        "  \n",
        "  enc_in = Input(shape=(max_encoder_seq_length,))\n",
        "  enc_out = Embedding(num_encoder_tokens, embed_size, trainable=True)(enc_in)\n",
        "\n",
        "  enc_layers = []\n",
        "  enc_states = []\n",
        "\n",
        "  for i in range(num_encoders):\n",
        "        encoder = LSTM(hidden_layer_size, return_state=True, return_sequences=True, dropout=dropout)\n",
        "        enc_layers.append(encoder)\n",
        "        enc_out, state_h, state_c = encoder(enc_out)\n",
        "        enc_states.append([state_h, state_c])\n",
        "\n",
        "\n",
        "  \n",
        "#   encoder = LSTM(hidden_layer_size, return_state=True, return_sequences=True, dropout=dropout)\n",
        "#   enc_layers.append(encoder)\n",
        "#   enc_out, state_h, state_c = encoder(enc_out)\n",
        "#   enc_states.append([state_h, state_c])\n",
        "  \n",
        "#   if num_encoders > 1:\n",
        "#     encoder = LSTM(hidden_layer_size, return_state=True, return_sequences=True, dropout=dropout)\n",
        "#     enc_layers.append(encoder)\n",
        "#     enc_out, state_h2, state_c2 = encoder(enc_out)\n",
        "#     enc_states.append([state_h2, state_c2])\n",
        "  \n",
        "#   if num_encoders > 2:\n",
        "#     encoder = LSTM(hidden_layer_size, return_state=True, return_sequences=True, dropout=dropout)\n",
        "#     enc_layers.append(encoder)\n",
        "#     enc_out, state_h3, state_c3 = encoder(enc_out)\n",
        "#     enc_states.append([state_h3, state_c3])\n",
        "    \n",
        "\n",
        "   \n",
        "\n",
        "  #==============================================#  \n",
        "  #============== Decoder part ==================#\n",
        "  #==============================================#\n",
        "\n",
        "\n",
        "  dec_in = Input(shape=(max_decoder_seq_length,))\n",
        "  dec_out = Embedding(num_decoder_tokens, embed_size, trainable=True)(dec_in)\n",
        "\n",
        "  dec_layers = []\n",
        "\n",
        "  for i in range(num_decoders):\n",
        "        decoder = LSTM(hidden_layer_size, return_state=True, return_sequences=True, dropout=dropout)\n",
        "        dec_layers.append(decoder)\n",
        "        dec_out, _, _ = decoder(dec_out, initial_state = enc_states[i])\n",
        "\n",
        "\n",
        "#   decoder = LSTM(hidden_layer_size, return_state=True, return_sequences=True, dropout=dropout)\n",
        "#   dec_layers.append(decoder)\n",
        "#   dec_out, _, _ = decoder(dec_out, initial_state = enc_states[0])\n",
        "\n",
        "#   if num_decoders >1:\n",
        "#     decoder = LSTM(hidden_layer_size, return_state=True, return_sequences=True, dropout=dropout)\n",
        "#     dec_layers.append(decoder)\n",
        "#     dec_out, _, _ = decoder(dec_out, initial_state = enc_states[1])\n",
        "  \n",
        "#   if num_decoders >2:\n",
        "#     decoder = LSTM(hidden_layer_size, return_state=True, return_sequences=True, dropout=dropout)\n",
        "#     dec_layers.append(decoder)\n",
        "#     dec_out, _, _ = decoder(dec_out, initial_state = enc_states[2])\n",
        "\n",
        "  \n",
        "  \n",
        "  dec_dense = TimeDistributed(Dense(num_decoder_tokens, activation=\"softmax\"))\n",
        "  dec_out = dec_dense(dec_out)\n",
        "  \n",
        "  model = Model([enc_in, dec_in], dec_out)\n",
        "\n",
        "  return model, enc_layers, dec_layers\n"
      ],
      "metadata": {
        "id": "7cUrvk91JG7p"
      },
      "execution_count": 19,
      "outputs": []
    },
    {
      "cell_type": "code",
      "source": [
        "def gru(num_encoders, embed_size, dropout, num_decoders, hidden_layer_size):\n",
        "  # e_in : Encoder input\n",
        "  # e_out : Encoder output\n",
        "  # e_states: Encoder states\n",
        "  # d_in : Decoder input\n",
        "  # d_out : Decoder output\n",
        "  # d_dense : Dense layer for decoder\n",
        "  \n",
        " \n",
        "  #=============================================#\n",
        "  #============== Encoder part =================#\n",
        "  #=============================================#\n",
        "  \n",
        "\n",
        "  enc_in = Input(shape=(max_encoder_seq_length,))\n",
        "  enc_out = Embedding(num_encoder_tokens, embed_size, trainable=True)(enc_in)\n",
        "\n",
        "  enc_layers = []\n",
        "  enc_states = []\n",
        "\n",
        "  for i in range(num_encoders):\n",
        "        encoder = GRU(hidden_layer_size, return_state=True, return_sequences=True, dropout=dropout)\n",
        "        enc_layers.append(encoder)\n",
        "        enc_out, state_h = encoder(enc_out)\n",
        "        enc_states.append([state_h])\n",
        "  \n",
        "#   # First encoder layer of the rnn\n",
        "#   encoder = GRU(hidden_layer_size, return_state=True, return_sequences=True, dropout=dropout)\n",
        "#   enc_layers.append(encoder)\n",
        "#   enc_out, state_h = encoder(enc_out)\n",
        "#   enc_states.append([state_h])\n",
        "  \n",
        "#   # Second encoder layer of the rnn\n",
        "#   if num_encoders > 1:\n",
        "#     encoder = GRU(hidden_layer_size, return_state=True, return_sequences=True, dropout=dropout)\n",
        "#     enc_layers.append(encoder)\n",
        "#     enc_out, state_h2 = encoder(enc_out)\n",
        "#     enc_states.append([state_h2])\n",
        "\n",
        "#   # Third encoder layer of the rnn\n",
        "#   if num_encoders > 2:\n",
        "#     encoder = GRU(hidden_layer_size, return_state=True, return_sequences=True, dropout=dropout)\n",
        "#     enc_layers.append(encoder)\n",
        "#     enc_out, state_h3 = encoder(enc_out)\n",
        "#     enc_states.append([state_h3])\n",
        "  #==============================================#  \n",
        "  #============== Decoder part ==================#\n",
        "  #==============================================#\n",
        "\n",
        "\n",
        "  dec_in = Input(shape=(max_decoder_seq_length,))\n",
        "  dec_out = Embedding(num_decoder_tokens, embed_size, trainable=True)(dec_in)\n",
        "\n",
        "  dec_layers = []\n",
        "\n",
        "  for i in range(num_decoders):\n",
        "        decoder = GRU(hidden_layer_size, return_state=True, return_sequences=True, dropout=dropout)\n",
        "        dec_layers.append(decoder)\n",
        "        dec_out, _ = decoder(dec_out, initial_state = enc_states[i])\n",
        "\n",
        "\n",
        "#   # First decoder layer of the rnn\n",
        "#   decoder = GRU(hidden_layer_size, return_state=True, return_sequences=True, dropout=dropout)\n",
        "#   dec_layers.append(decoder)\n",
        "#   dec_out, _ = decoder(dec_out, initial_state = enc_states[0])\n",
        "\n",
        "#   # Second decoder layer of the rnn\n",
        "#   if num_decoders > 1:\n",
        "#     decoder = GRU(hidden_layer_size, return_state=True, return_sequences=True, dropout=dropout)\n",
        "#     dec_layers.append(decoder)\n",
        "#     dec_out, _ = decoder(dec_out, initial_state = enc_states[1])\n",
        "\n",
        "#   # Third decoder layer of the rnn\n",
        "#   if num_decoders > 2:\n",
        "#     decoder = GRU(hidden_layer_size, return_state=True, return_sequences=True, dropout=dropout)\n",
        "#     dec_layers.append(decoder)\n",
        "#     dec_out, _ = decoder(dec_out, initial_state = enc_states[2])\n",
        "    \n",
        "  dec_dense =TimeDistributed(Dense(num_decoder_tokens, activation=\"softmax\"))\n",
        "  dec_out = dec_dense(dec_out)\n",
        "  \n",
        "  model = Model([enc_in, dec_in], dec_out)\n",
        "\n",
        "  return model, enc_layers, dec_layers\n"
      ],
      "metadata": {
        "id": "MNzll7fwJIv9"
      },
      "execution_count": 20,
      "outputs": []
    },
    {
      "cell_type": "code",
      "source": [
        "def build_model(num_encoders, num_decoders, cell, embed_size, dropout, hidden_layer_size):\n",
        "\n",
        "\n",
        "  if cell == \"RNN\":\n",
        "    model, enc_layers, dec_layers=rnn( num_encoders, embed_size, dropout, num_decoders, hidden_layer_size)\n",
        "    return model, enc_layers, dec_layers\n",
        "  elif cell == \"LSTM\":\n",
        "    model, enc_layers, dec_layers=lstm(num_encoders, embed_size, dropout, num_decoders, hidden_layer_size)\n",
        "    return model, enc_layers, dec_layers\n",
        "  elif cell == \"GRU\":\n",
        "    model, enc_layers, dec_layers=gru(num_encoders, embed_size, dropout, num_decoders, hidden_layer_size)\n",
        "    return model, enc_layers, dec_layers\n",
        "  \n"
      ],
      "metadata": {
        "id": "3Q3ws80VJLE6"
      },
      "execution_count": 37,
      "outputs": []
    },
    {
      "cell_type": "code",
      "source": [
        ""
      ],
      "metadata": {
        "id": "HHWAyES7Bk3F"
      },
      "execution_count": 21,
      "outputs": []
    },
    {
      "cell_type": "code",
      "source": [
        "\n",
        "batch_size = 128        \n",
        "epochs = 7             \n",
        "input_embedding_size = 512\n",
        "hidden_layer_size = 256\n",
        "num_layers = 3\n",
        "num_encoder_layers = num_layers\n",
        "num_decoder_layers = num_layers\n",
        "dropout = 0.2\n",
        "cell_type = 'GRU'\n",
        "\n",
        "config = {\n",
        "    \"num_encoders\" : 3,\n",
        "    \"cell\": \"GRU\",\n",
        "    \"embed_size\": 512,\n",
        "    \"dropout\": 0.2,\n",
        "    \"num_decoders\" : 3,\n",
        "    \"hidden_layer_size\":256\n",
        "}\n",
        "\n",
        "# TRAIN\n",
        "model, encoder_layers, decoder_layers = transliteration(config)\n",
        "\n",
        "# COMPILE\n",
        "model.compile(optimizer=\"adam\", loss=\"categorical_crossentropy\", metrics=[\"accuracy\"])\n",
        "\n",
        "# FIT\n",
        "model.fit(\n",
        "    [encoder_input_data, decoder_input_data],\n",
        "    decoder_target_data,\n",
        "    batch_size=batch_size,\n",
        "    epochs=epochs,\n",
        "    shuffle = True,\n",
        "    # validation_data= ([encoder_val_input_data, decoder_val_input_data], decoder_val_target_data)\n",
        ")"
      ],
      "metadata": {
        "id": "CB995IKRZwDW",
        "outputId": "fad137a3-3d61-4db0-fcc1-4ab998b1dc5f",
        "colab": {
          "base_uri": "https://localhost:8080/"
        }
      },
      "execution_count": 22,
      "outputs": [
        {
          "output_type": "stream",
          "name": "stdout",
          "text": [
            "Epoch 1/7\n",
            "458/458 [==============================] - 23s 24ms/step - loss: 1.1296 - accuracy: 0.1745\n",
            "Epoch 2/7\n",
            "458/458 [==============================] - 11s 24ms/step - loss: 0.5457 - accuracy: 0.3280\n",
            "Epoch 3/7\n",
            "458/458 [==============================] - 11s 24ms/step - loss: 0.3564 - accuracy: 0.3792\n",
            "Epoch 4/7\n",
            "458/458 [==============================] - 11s 24ms/step - loss: 0.2937 - accuracy: 0.3951\n",
            "Epoch 5/7\n",
            "458/458 [==============================] - 11s 24ms/step - loss: 0.2595 - accuracy: 0.4028\n",
            "Epoch 6/7\n",
            "458/458 [==============================] - 11s 24ms/step - loss: 0.2356 - accuracy: 0.4080\n",
            "Epoch 7/7\n",
            "458/458 [==============================] - 11s 24ms/step - loss: 0.2186 - accuracy: 0.4111\n"
          ]
        },
        {
          "output_type": "execute_result",
          "data": {
            "text/plain": [
              "<keras.callbacks.History at 0x7fabbffd4b90>"
            ]
          },
          "metadata": {},
          "execution_count": 22
        }
      ]
    },
    {
      "cell_type": "code",
      "source": [
        "def inferencing(model, num_encoders, num_decoders, enc_layers, dec_layers, cell, hidden_layer_size):\n",
        "\n",
        "    enc_in = model.input[0]\n",
        "    EmbeddingLayer = model.layers[2]    \n",
        "    enc_out = EmbeddingLayer(enc_in)\n",
        "\n",
        "    enc_states = []\n",
        "    if cell == 'RNN':\n",
        "        for i in range(num_encoders):\n",
        "            enc_out, state_h = enc_layers[i](enc_out)\n",
        "            enc_states += [state_h] \n",
        "    elif cell == 'LSTM':\n",
        "        for i in range(num_encoders):\n",
        "            enc_out, state_h, state_c = enc_layers[i](enc_out)\n",
        "            enc_states += [state_h, state_c]   \n",
        "    elif cell == 'GRU':\n",
        "        for i in range(num_encoders):\n",
        "            enc_out, state_h = enc_layers[i](enc_out)\n",
        "            enc_states += [state_h] \n",
        "\n",
        "    encoder = Model(enc_in, enc_states + [enc_out])\n",
        "\n",
        "\n",
        "    dec_in = model.input[1]    \n",
        "    EmbeddingLayer = model.layers[3] \n",
        "    dec_out = EmbeddingLayer(dec_in)\n",
        "\n",
        "    dec_states = []\n",
        "    dec_initial_states = []\n",
        "    \n",
        "    if cell == 'RNN' :\n",
        "        for i in range(num_decoders):\n",
        "            dec_initial_states += [Input(shape=(hidden_layer_size,))]\n",
        "            dec_out, state_h = dec_layers[i](dec_out, initial_state = dec_initial_states[i])\n",
        "            dec_states += [state_h]\n",
        "    elif cell == \"LSTM\":\n",
        "        j=0\n",
        "        for i in range(num_decoders):\n",
        "            dec_initial_states += [Input(shape=(hidden_layer_size, )) , Input(shape=(hidden_layer_size, ))]\n",
        "            dec_out, state_h, state_c = dec_layers[i](dec_out, initial_state=dec_initial_states[i+j:i+j+2])\n",
        "            dec_states += [state_h , state_c]\n",
        "            j += 1\n",
        "    elif cell == \"GRU\":\n",
        "        for i in range(num_decoders):\n",
        "            dec_initial_states += [Input(shape=(hidden_layer_size,))]\n",
        "            dec_out, state_h = dec_layers[i](dec_out, initial_state = dec_initial_states[i])\n",
        "            dec_states += [state_h]\n",
        "\n",
        "    dec_dense = model.layers[4 + 2*num_encoders]\n",
        "    dec_out = dec_dense(dec_out)\n",
        "    decoder = Model([dec_in] + dec_initial_states, [dec_out] + dec_states)\n",
        "\n",
        "    return encoder, decoder "
      ],
      "metadata": {
        "id": "B41-EZurBk05"
      },
      "execution_count": 26,
      "outputs": []
    },
    {
      "cell_type": "code",
      "source": [
        "def decode_sequence(input_seq, encoder, decoder):\n",
        "\n",
        "    states_value = encoder.predict(input_seq)\n",
        "    states_value = states_value[:-1]\n",
        "\n",
        "    target_seq = np.zeros((1, 1)) \n",
        "    target_seq[0, 0] = target_token_index[\"\\t\"]\n",
        "\n",
        "    #print(input_seq)\n",
        "\n",
        "    stop_condition = False\n",
        "    decoded_sentence = \"\"\n",
        "    while not stop_condition:\n",
        "        output_tokens = decoder.predict([target_seq] + states_value)\n",
        "        sampled_token_index = np.argmax(output_tokens[0][0, -1, :])\n",
        "        sampled_char = reverse_target_char_index[sampled_token_index]\n",
        "        decoded_sentence += sampled_char\n",
        "\n",
        "        if sampled_char == \"\\n\" or len(decoded_sentence) > max_decoder_seq_length:\n",
        "            stop_condition = True\n",
        "\n",
        "        target_seq = np.zeros((1, 1))\n",
        "        target_seq[0, 0] = sampled_token_index\n",
        "        \n",
        "        states_value = output_tokens[1:]\n",
        "        \n",
        "    return decoded_sentence"
      ],
      "metadata": {
        "id": "wInV1LegGPjC"
      },
      "execution_count": 27,
      "outputs": []
    },
    {
      "cell_type": "code",
      "source": [
        "encoder_model, decoder_model = inferencing(model, num_encoder_layers, num_decoder_layers, encoder_layers, decoder_layers, cell_type, hidden_layer_size)\n",
        "correct = 0\n",
        "n = val_target.shape[0]\n",
        "for i in range(20):\n",
        "    inputs = encoder_input_data[i:i+1]\n",
        "    output = decode_sequence(inputs,encoder_model, decoder_model)\n",
        "    print(\"-\")\n",
        "    print(\"Input sentence:\", input[i])\n",
        "    print(\"Decoded sentence:\", output)"
      ],
      "metadata": {
        "id": "mm6C3VtBLWt8",
        "outputId": "b7296bda-06c3-404e-959f-e0278f2852d6",
        "colab": {
          "base_uri": "https://localhost:8080/"
        }
      },
      "execution_count": 28,
      "outputs": [
        {
          "output_type": "stream",
          "name": "stdout",
          "text": [
            "WARNING:tensorflow:Model was constructed with shape (None, 20) for input KerasTensor(type_spec=TensorSpec(shape=(None, 20), dtype=tf.float32, name='input_2'), name='input_2', description=\"created by layer 'input_2'\"), but it was called on an input with incompatible shape (None, 1).\n",
            "-\n",
            "Input sentence: amkita\n",
            "Decoded sentence: అంకిత\n",
            "\n",
            "-\n",
            "Input sentence: ankita\n",
            "Decoded sentence: అంకిత\n",
            "\n",
            "-\n",
            "Input sentence: ankitha\n",
            "Decoded sentence: అంకిత\n",
            "\n",
            "-\n",
            "Input sentence: ankitam\n",
            "Decoded sentence: అంకితరం\n",
            "\n",
            "-\n",
            "Input sentence: ankitham\n",
            "Decoded sentence: అంకితరం\n",
            "\n",
            "-\n",
            "Input sentence: ankitabaavam\n",
            "Decoded sentence: అంగికాషాంగా\n",
            "\n",
            "-\n",
            "Input sentence: ankithabhavam\n",
            "Decoded sentence: అంకితరంచా\n",
            "\n",
            "-\n",
            "Input sentence: ankatamicchaadu\n",
            "Decoded sentence: అంకితమిచచ్చి\n",
            "\n",
            "-\n",
            "Input sentence: ankitamicchadu\n",
            "Decoded sentence: అంకితరించాడు\n",
            "\n",
            "-\n",
            "Input sentence: ankitamichhaadu\n",
            "Decoded sentence: అంకితరించాడు\n",
            "\n",
            "-\n",
            "Input sentence: ankithamicchaadu\n",
            "Decoded sentence: అంకితరించాడు\n",
            "\n",
            "-\n",
            "Input sentence: ankithamichhaadu\n",
            "Decoded sentence: అంకితరించాడు\n",
            "\n",
            "-\n",
            "Input sentence: amkithamichaaru\n",
            "Decoded sentence: అంకితమిచచ్చి\n",
            "\n",
            "-\n",
            "Input sentence: ankithamichaaru\n",
            "Decoded sentence: అంకితమిచచ్చి\n",
            "\n",
            "-\n",
            "Input sentence: ankithamicharu\n",
            "Decoded sentence: అంకితరించారు\n",
            "\n",
            "-\n",
            "Input sentence: ankithamaina\n",
            "Decoded sentence: అంకితమించాయి\n",
            "\n",
            "-\n",
            "Input sentence: ankusham\n",
            "Decoded sentence: అంకుషం\n",
            "\n",
            "-\n",
            "Input sentence: amkelu\n",
            "Decoded sentence: అంకెల\n",
            "\n",
            "-\n",
            "Input sentence: amkeylu\n",
            "Decoded sentence: అంకేలు\n",
            "\n",
            "-\n",
            "Input sentence: ankelu\n",
            "Decoded sentence: అంకెలు\n",
            "\n"
          ]
        }
      ]
    },
    {
      "cell_type": "code",
      "source": [
        "def train_model(config, encoder_input, decoder_input, decoder_target, encoder_val_input, decoder_val_input, decoder_val_target ):\n",
        "\n",
        "    batch_size = config['batch_size']\n",
        "    cell = config['cell']\n",
        "    embed_size = config['embed_size']\n",
        "    dropout = config['dropout']\n",
        "    num_encoders = config['num_encoders']\n",
        "    num_decoders = config['num_decoders']\n",
        "    hidden_layer_size = config['hidden_layer_size']\n",
        "    epochs = config['epochs']\n",
        "    optimizer = config['optimizer']\n",
        "\n",
        "\n",
        "    model, encoder_layers, decoder_layers = build_model(num_encoders, num_decoders, cell, embed_size, dropout, hidden_layer_size)\n",
        "\n",
        "    model.compile(optimizer = optimizer, loss = \"categorical_crossentropy\", metrics=[\"accuracy\"])\n",
        "\n",
        "    model.fit(\n",
        "    [encoder_input, decoder_input],\n",
        "    decoder_target,\n",
        "    batch_size = batch_size,\n",
        "    epochs = epochs,\n",
        "    shuffle = True,\n",
        "    validation_data= ([encoder_val_input, decoder_val_input], decoder_val_target)\n",
        "    )\n",
        "\n",
        "    return model\n",
        "\n",
        "\n",
        "\n",
        "\n",
        "\n",
        "    "
      ],
      "metadata": {
        "id": "5zLAhf96LWpC"
      },
      "execution_count": null,
      "outputs": []
    },
    {
      "cell_type": "code",
      "source": [
        ""
      ],
      "metadata": {
        "id": "cQS8pCqALWmk"
      },
      "execution_count": null,
      "outputs": []
    },
    {
      "cell_type": "code",
      "source": [
        ""
      ],
      "metadata": {
        "id": "wueXj1QMLWkY"
      },
      "execution_count": null,
      "outputs": []
    },
    {
      "cell_type": "code",
      "source": [
        ""
      ],
      "metadata": {
        "id": "7dQC1wynLWh6"
      },
      "execution_count": null,
      "outputs": []
    },
    {
      "cell_type": "code",
      "source": [
        "# Enter the project and the entity name for wandb sweeps\n",
        "project_name = \"Assignment 3\"\n",
        "entity_name = \"safikhan\"\n"
      ],
      "metadata": {
        "id": "OA-s381xhV9p"
      },
      "execution_count": 31,
      "outputs": []
    },
    {
      "cell_type": "code",
      "source": [
        "def train():\n",
        "  default_config={\n",
        "      \"cell\": \"RNN\",\n",
        "      \"embed_size\":256,\n",
        "      \"dropout\":0.2,\n",
        "      \"num_layers\": 1,\n",
        "      \"hidden_layer_size\":128,\n",
        "      \"epochs\": 1,\n",
        "      \"batch_size\": 64,\n",
        "      \"optimizer\": 'adam'\n",
        "  }\n",
        "\n",
        "  wandb.init(config=default_config, project=project_name, entity=entity_name)\n",
        "  config = wandb.config\n",
        "  wandb.run.name = str(config.cell)\\\n",
        "      +\"_\"+str(config.embed_size)\\\n",
        "      +\"_\"+str(config.dropout)\\\n",
        "      +\"_\"+str(config.num_encoders)\\\n",
        "      +\"_\"+str(config.num_decoders)\\\n",
        "      +\"_\"+str(config.hidden_layer_size)\\\n",
        "      +\"_\"+str(config.epochs)\\\n",
        "      +\"_\"+str(config.batch_size)\n",
        "\n",
        "  #wandb.run.save()\n",
        "  \n",
        "  \n",
        "  batch_size = config['batch_size']\n",
        "  cell = config['cell']\n",
        "  embed_size = config['embed_size']\n",
        "  dropout = config['dropout']\n",
        "  num_encoders = config['num_layers']\n",
        "  num_decoders = config['num_layers']\n",
        "  hidden_layer_size = config['hidden_layer_size']\n",
        "  epochs = config['epochs']\n",
        "  optimizer = config['optimizer']\n",
        "\n",
        "\n",
        "  model, encoder_layers, decoder_layers = build_model(num_encoders, num_decoders, cell, embed_size, dropout, hidden_layer_size)\n",
        "\n",
        "  \n",
        "  model.compile(\n",
        "      optimizer = optimizer,\n",
        "      loss = tf.keras.losses.CategoricalCrossentropy(name='loss'),\n",
        "      metrics = [tf.keras.metrics.CategoricalAccuracy(name='acc')]\n",
        "  )\n",
        "  \n",
        "  model.fit(\n",
        "      [encoder_input_data, decoder_input_data],\n",
        "      decoder_target_data,\n",
        "      batch_size = batch_size,\n",
        "      epochs = epochs,\n",
        "      shuffle = True,\n",
        "      validation_data= ([encoder_val_input_data, decoder_val_input_data], decoder_val_target_data),\n",
        "      callbacks=[WandbCallback()]\n",
        "  )\n",
        "\n",
        "  wandb.run.finish()\n",
        "\n",
        "  encoder_model, decoder_model = inferencing(model, num_encoder_layers, num_decoder_layers, encoder_layers, decoder_layers, cell_type, hidden_layer_size)\n",
        "  correct = 0\n",
        "  n = val_input.shape[0]\n",
        "  for i in range(n):\n",
        "    inputs = encoder_input_data[i:i+1]\n",
        "    output = decode_sequence(inputs,encoder_model, decoder_model)\n",
        "    # print(\"-\")\n",
        "    # print(\"Input sentence:\", input[i])\n",
        "    # print(\"Decoded sentence:\", output)\n",
        "\n",
        "    if output.strip() == val_target[i].strip():\n",
        "            correct += 1\n",
        "\n",
        "    print(\"The accuracy based on full matching is: \", correct/n)\n",
        "\n",
        "    wandb.log({'Full_Val_Accuract' : correct/n})\n",
        "\n",
        "\n",
        "\n",
        "  "
      ],
      "metadata": {
        "id": "Mf9QCTKfhXu6",
        "colab": {
          "base_uri": "https://localhost:8080/",
          "height": 867
        },
        "outputId": "8806c6a5-d3f8-4a05-8e9f-5f95c693686c"
      },
      "execution_count": 40,
      "outputs": [
        {
          "output_type": "stream",
          "name": "stdout",
          "text": [
            "Error in callback <bound method _WandbInit._resume_backend of <wandb.sdk.wandb_init._WandbInit object at 0x7fab43751cd0>> (for pre_run_cell):\n"
          ]
        },
        {
          "output_type": "error",
          "ename": "Exception",
          "evalue": "ignored",
          "traceback": [
            "\u001b[0;31m---------------------------------------------------------------------------\u001b[0m",
            "\u001b[0;31mException\u001b[0m                                 Traceback (most recent call last)",
            "\u001b[0;32m/usr/local/lib/python3.7/dist-packages/wandb/sdk/wandb_init.py\u001b[0m in \u001b[0;36m_resume_backend\u001b[0;34m(self)\u001b[0m\n\u001b[1;32m    358\u001b[0m         \u001b[0;32mif\u001b[0m \u001b[0mself\u001b[0m\u001b[0;34m.\u001b[0m\u001b[0mbackend\u001b[0m \u001b[0;32mis\u001b[0m \u001b[0;32mnot\u001b[0m \u001b[0;32mNone\u001b[0m\u001b[0;34m:\u001b[0m\u001b[0;34m\u001b[0m\u001b[0;34m\u001b[0m\u001b[0m\n\u001b[1;32m    359\u001b[0m             \u001b[0mlogger\u001b[0m\u001b[0;34m.\u001b[0m\u001b[0minfo\u001b[0m\u001b[0;34m(\u001b[0m\u001b[0;34m\"resuming backend\"\u001b[0m\u001b[0;34m)\u001b[0m\u001b[0;34m\u001b[0m\u001b[0;34m\u001b[0m\u001b[0m\n\u001b[0;32m--> 360\u001b[0;31m             \u001b[0mself\u001b[0m\u001b[0;34m.\u001b[0m\u001b[0mbackend\u001b[0m\u001b[0;34m.\u001b[0m\u001b[0minterface\u001b[0m\u001b[0;34m.\u001b[0m\u001b[0mpublish_resume\u001b[0m\u001b[0;34m(\u001b[0m\u001b[0;34m)\u001b[0m\u001b[0;34m\u001b[0m\u001b[0;34m\u001b[0m\u001b[0m\n\u001b[0m\u001b[1;32m    361\u001b[0m \u001b[0;34m\u001b[0m\u001b[0m\n\u001b[1;32m    362\u001b[0m     \u001b[0;32mdef\u001b[0m \u001b[0m_jupyter_teardown\u001b[0m\u001b[0;34m(\u001b[0m\u001b[0mself\u001b[0m\u001b[0;34m)\u001b[0m\u001b[0;34m:\u001b[0m\u001b[0;34m\u001b[0m\u001b[0;34m\u001b[0m\u001b[0m\n",
            "\u001b[0;32m/usr/local/lib/python3.7/dist-packages/wandb/sdk/interface/interface.py\u001b[0m in \u001b[0;36mpublish_resume\u001b[0;34m(self)\u001b[0m\n\u001b[1;32m    602\u001b[0m     \u001b[0;32mdef\u001b[0m \u001b[0mpublish_resume\u001b[0m\u001b[0;34m(\u001b[0m\u001b[0mself\u001b[0m\u001b[0;34m)\u001b[0m \u001b[0;34m->\u001b[0m \u001b[0;32mNone\u001b[0m\u001b[0;34m:\u001b[0m\u001b[0;34m\u001b[0m\u001b[0;34m\u001b[0m\u001b[0m\n\u001b[1;32m    603\u001b[0m         \u001b[0mresume\u001b[0m \u001b[0;34m=\u001b[0m \u001b[0mpb\u001b[0m\u001b[0;34m.\u001b[0m\u001b[0mResumeRequest\u001b[0m\u001b[0;34m(\u001b[0m\u001b[0;34m)\u001b[0m\u001b[0;34m\u001b[0m\u001b[0;34m\u001b[0m\u001b[0m\n\u001b[0;32m--> 604\u001b[0;31m         \u001b[0mself\u001b[0m\u001b[0;34m.\u001b[0m\u001b[0m_publish_resume\u001b[0m\u001b[0;34m(\u001b[0m\u001b[0mresume\u001b[0m\u001b[0;34m)\u001b[0m\u001b[0;34m\u001b[0m\u001b[0;34m\u001b[0m\u001b[0m\n\u001b[0m\u001b[1;32m    605\u001b[0m \u001b[0;34m\u001b[0m\u001b[0m\n\u001b[1;32m    606\u001b[0m     \u001b[0;34m@\u001b[0m\u001b[0mabstractmethod\u001b[0m\u001b[0;34m\u001b[0m\u001b[0;34m\u001b[0m\u001b[0m\n",
            "\u001b[0;32m/usr/local/lib/python3.7/dist-packages/wandb/sdk/interface/interface_shared.py\u001b[0m in \u001b[0;36m_publish_resume\u001b[0;34m(self, resume)\u001b[0m\n\u001b[1;32m    281\u001b[0m     \u001b[0;32mdef\u001b[0m \u001b[0m_publish_resume\u001b[0m\u001b[0;34m(\u001b[0m\u001b[0mself\u001b[0m\u001b[0;34m,\u001b[0m \u001b[0mresume\u001b[0m\u001b[0;34m:\u001b[0m \u001b[0mpb\u001b[0m\u001b[0;34m.\u001b[0m\u001b[0mResumeRequest\u001b[0m\u001b[0;34m)\u001b[0m \u001b[0;34m->\u001b[0m \u001b[0;32mNone\u001b[0m\u001b[0;34m:\u001b[0m\u001b[0;34m\u001b[0m\u001b[0;34m\u001b[0m\u001b[0m\n\u001b[1;32m    282\u001b[0m         \u001b[0mrec\u001b[0m \u001b[0;34m=\u001b[0m \u001b[0mself\u001b[0m\u001b[0;34m.\u001b[0m\u001b[0m_make_request\u001b[0m\u001b[0;34m(\u001b[0m\u001b[0mresume\u001b[0m\u001b[0;34m=\u001b[0m\u001b[0mresume\u001b[0m\u001b[0;34m)\u001b[0m\u001b[0;34m\u001b[0m\u001b[0;34m\u001b[0m\u001b[0m\n\u001b[0;32m--> 283\u001b[0;31m         \u001b[0mself\u001b[0m\u001b[0;34m.\u001b[0m\u001b[0m_publish\u001b[0m\u001b[0;34m(\u001b[0m\u001b[0mrec\u001b[0m\u001b[0;34m)\u001b[0m\u001b[0;34m\u001b[0m\u001b[0;34m\u001b[0m\u001b[0m\n\u001b[0m\u001b[1;32m    284\u001b[0m \u001b[0;34m\u001b[0m\u001b[0m\n\u001b[1;32m    285\u001b[0m     \u001b[0;32mdef\u001b[0m \u001b[0m_publish_run\u001b[0m\u001b[0;34m(\u001b[0m\u001b[0mself\u001b[0m\u001b[0;34m,\u001b[0m \u001b[0mrun\u001b[0m\u001b[0;34m:\u001b[0m \u001b[0mpb\u001b[0m\u001b[0;34m.\u001b[0m\u001b[0mRunRecord\u001b[0m\u001b[0;34m)\u001b[0m \u001b[0;34m->\u001b[0m \u001b[0;32mNone\u001b[0m\u001b[0;34m:\u001b[0m\u001b[0;34m\u001b[0m\u001b[0;34m\u001b[0m\u001b[0m\n",
            "\u001b[0;32m/usr/local/lib/python3.7/dist-packages/wandb/sdk/interface/interface_queue.py\u001b[0m in \u001b[0;36m_publish\u001b[0;34m(self, record, local)\u001b[0m\n\u001b[1;32m     47\u001b[0m     \u001b[0;32mdef\u001b[0m \u001b[0m_publish\u001b[0m\u001b[0;34m(\u001b[0m\u001b[0mself\u001b[0m\u001b[0;34m,\u001b[0m \u001b[0mrecord\u001b[0m\u001b[0;34m:\u001b[0m \u001b[0;34m\"pb.Record\"\u001b[0m\u001b[0;34m,\u001b[0m \u001b[0mlocal\u001b[0m\u001b[0;34m:\u001b[0m \u001b[0mbool\u001b[0m \u001b[0;34m=\u001b[0m \u001b[0;32mNone\u001b[0m\u001b[0;34m)\u001b[0m \u001b[0;34m->\u001b[0m \u001b[0;32mNone\u001b[0m\u001b[0;34m:\u001b[0m\u001b[0;34m\u001b[0m\u001b[0;34m\u001b[0m\u001b[0m\n\u001b[1;32m     48\u001b[0m         \u001b[0;32mif\u001b[0m \u001b[0mself\u001b[0m\u001b[0;34m.\u001b[0m\u001b[0m_process_check\u001b[0m \u001b[0;32mand\u001b[0m \u001b[0mself\u001b[0m\u001b[0;34m.\u001b[0m\u001b[0m_process\u001b[0m \u001b[0;32mand\u001b[0m \u001b[0;32mnot\u001b[0m \u001b[0mself\u001b[0m\u001b[0;34m.\u001b[0m\u001b[0m_process\u001b[0m\u001b[0;34m.\u001b[0m\u001b[0mis_alive\u001b[0m\u001b[0;34m(\u001b[0m\u001b[0;34m)\u001b[0m\u001b[0;34m:\u001b[0m\u001b[0;34m\u001b[0m\u001b[0;34m\u001b[0m\u001b[0m\n\u001b[0;32m---> 49\u001b[0;31m             \u001b[0;32mraise\u001b[0m \u001b[0mException\u001b[0m\u001b[0;34m(\u001b[0m\u001b[0;34m\"The wandb backend process has shutdown\"\u001b[0m\u001b[0;34m)\u001b[0m\u001b[0;34m\u001b[0m\u001b[0;34m\u001b[0m\u001b[0m\n\u001b[0m\u001b[1;32m     50\u001b[0m         \u001b[0;32mif\u001b[0m \u001b[0mlocal\u001b[0m\u001b[0;34m:\u001b[0m\u001b[0;34m\u001b[0m\u001b[0;34m\u001b[0m\u001b[0m\n\u001b[1;32m     51\u001b[0m             \u001b[0mrecord\u001b[0m\u001b[0;34m.\u001b[0m\u001b[0mcontrol\u001b[0m\u001b[0;34m.\u001b[0m\u001b[0mlocal\u001b[0m \u001b[0;34m=\u001b[0m \u001b[0mlocal\u001b[0m\u001b[0;34m\u001b[0m\u001b[0;34m\u001b[0m\u001b[0m\n",
            "\u001b[0;31mException\u001b[0m: The wandb backend process has shutdown"
          ]
        },
        {
          "output_type": "stream",
          "name": "stdout",
          "text": [
            "Error in callback <bound method _WandbInit._pause_backend of <wandb.sdk.wandb_init._WandbInit object at 0x7fab43751cd0>> (for post_run_cell):\n"
          ]
        },
        {
          "output_type": "error",
          "ename": "Exception",
          "evalue": "ignored",
          "traceback": [
            "\u001b[0;31m---------------------------------------------------------------------------\u001b[0m",
            "\u001b[0;31mException\u001b[0m                                 Traceback (most recent call last)",
            "\u001b[0;32m/usr/local/lib/python3.7/dist-packages/wandb/sdk/wandb_init.py\u001b[0m in \u001b[0;36m_pause_backend\u001b[0;34m(self)\u001b[0m\n\u001b[1;32m    353\u001b[0m                 \u001b[0mres\u001b[0m \u001b[0;34m=\u001b[0m \u001b[0mself\u001b[0m\u001b[0;34m.\u001b[0m\u001b[0mrun\u001b[0m\u001b[0;34m.\u001b[0m\u001b[0mlog_code\u001b[0m\u001b[0;34m(\u001b[0m\u001b[0mroot\u001b[0m\u001b[0;34m=\u001b[0m\u001b[0;32mNone\u001b[0m\u001b[0;34m)\u001b[0m\u001b[0;34m\u001b[0m\u001b[0;34m\u001b[0m\u001b[0m\n\u001b[1;32m    354\u001b[0m                 \u001b[0mlogger\u001b[0m\u001b[0;34m.\u001b[0m\u001b[0minfo\u001b[0m\u001b[0;34m(\u001b[0m\u001b[0;34m\"saved code: %s\"\u001b[0m\u001b[0;34m,\u001b[0m \u001b[0mres\u001b[0m\u001b[0;34m)\u001b[0m\u001b[0;34m\u001b[0m\u001b[0;34m\u001b[0m\u001b[0m\n\u001b[0;32m--> 355\u001b[0;31m             \u001b[0mself\u001b[0m\u001b[0;34m.\u001b[0m\u001b[0mbackend\u001b[0m\u001b[0;34m.\u001b[0m\u001b[0minterface\u001b[0m\u001b[0;34m.\u001b[0m\u001b[0mpublish_pause\u001b[0m\u001b[0;34m(\u001b[0m\u001b[0;34m)\u001b[0m\u001b[0;34m\u001b[0m\u001b[0;34m\u001b[0m\u001b[0m\n\u001b[0m\u001b[1;32m    356\u001b[0m \u001b[0;34m\u001b[0m\u001b[0m\n\u001b[1;32m    357\u001b[0m     \u001b[0;32mdef\u001b[0m \u001b[0m_resume_backend\u001b[0m\u001b[0;34m(\u001b[0m\u001b[0mself\u001b[0m\u001b[0;34m)\u001b[0m\u001b[0;34m:\u001b[0m\u001b[0;34m\u001b[0m\u001b[0;34m\u001b[0m\u001b[0m\n",
            "\u001b[0;32m/usr/local/lib/python3.7/dist-packages/wandb/sdk/interface/interface.py\u001b[0m in \u001b[0;36mpublish_pause\u001b[0;34m(self)\u001b[0m\n\u001b[1;32m    594\u001b[0m     \u001b[0;32mdef\u001b[0m \u001b[0mpublish_pause\u001b[0m\u001b[0;34m(\u001b[0m\u001b[0mself\u001b[0m\u001b[0;34m)\u001b[0m \u001b[0;34m->\u001b[0m \u001b[0;32mNone\u001b[0m\u001b[0;34m:\u001b[0m\u001b[0;34m\u001b[0m\u001b[0;34m\u001b[0m\u001b[0m\n\u001b[1;32m    595\u001b[0m         \u001b[0mpause\u001b[0m \u001b[0;34m=\u001b[0m \u001b[0mpb\u001b[0m\u001b[0;34m.\u001b[0m\u001b[0mPauseRequest\u001b[0m\u001b[0;34m(\u001b[0m\u001b[0;34m)\u001b[0m\u001b[0;34m\u001b[0m\u001b[0;34m\u001b[0m\u001b[0m\n\u001b[0;32m--> 596\u001b[0;31m         \u001b[0mself\u001b[0m\u001b[0;34m.\u001b[0m\u001b[0m_publish_pause\u001b[0m\u001b[0;34m(\u001b[0m\u001b[0mpause\u001b[0m\u001b[0;34m)\u001b[0m\u001b[0;34m\u001b[0m\u001b[0;34m\u001b[0m\u001b[0m\n\u001b[0m\u001b[1;32m    597\u001b[0m \u001b[0;34m\u001b[0m\u001b[0m\n\u001b[1;32m    598\u001b[0m     \u001b[0;34m@\u001b[0m\u001b[0mabstractmethod\u001b[0m\u001b[0;34m\u001b[0m\u001b[0;34m\u001b[0m\u001b[0m\n",
            "\u001b[0;32m/usr/local/lib/python3.7/dist-packages/wandb/sdk/interface/interface_shared.py\u001b[0m in \u001b[0;36m_publish_pause\u001b[0;34m(self, pause)\u001b[0m\n\u001b[1;32m    277\u001b[0m     \u001b[0;32mdef\u001b[0m \u001b[0m_publish_pause\u001b[0m\u001b[0;34m(\u001b[0m\u001b[0mself\u001b[0m\u001b[0;34m,\u001b[0m \u001b[0mpause\u001b[0m\u001b[0;34m:\u001b[0m \u001b[0mpb\u001b[0m\u001b[0;34m.\u001b[0m\u001b[0mPauseRequest\u001b[0m\u001b[0;34m)\u001b[0m \u001b[0;34m->\u001b[0m \u001b[0;32mNone\u001b[0m\u001b[0;34m:\u001b[0m\u001b[0;34m\u001b[0m\u001b[0;34m\u001b[0m\u001b[0m\n\u001b[1;32m    278\u001b[0m         \u001b[0mrec\u001b[0m \u001b[0;34m=\u001b[0m \u001b[0mself\u001b[0m\u001b[0;34m.\u001b[0m\u001b[0m_make_request\u001b[0m\u001b[0;34m(\u001b[0m\u001b[0mpause\u001b[0m\u001b[0;34m=\u001b[0m\u001b[0mpause\u001b[0m\u001b[0;34m)\u001b[0m\u001b[0;34m\u001b[0m\u001b[0;34m\u001b[0m\u001b[0m\n\u001b[0;32m--> 279\u001b[0;31m         \u001b[0mself\u001b[0m\u001b[0;34m.\u001b[0m\u001b[0m_publish\u001b[0m\u001b[0;34m(\u001b[0m\u001b[0mrec\u001b[0m\u001b[0;34m)\u001b[0m\u001b[0;34m\u001b[0m\u001b[0;34m\u001b[0m\u001b[0m\n\u001b[0m\u001b[1;32m    280\u001b[0m \u001b[0;34m\u001b[0m\u001b[0m\n\u001b[1;32m    281\u001b[0m     \u001b[0;32mdef\u001b[0m \u001b[0m_publish_resume\u001b[0m\u001b[0;34m(\u001b[0m\u001b[0mself\u001b[0m\u001b[0;34m,\u001b[0m \u001b[0mresume\u001b[0m\u001b[0;34m:\u001b[0m \u001b[0mpb\u001b[0m\u001b[0;34m.\u001b[0m\u001b[0mResumeRequest\u001b[0m\u001b[0;34m)\u001b[0m \u001b[0;34m->\u001b[0m \u001b[0;32mNone\u001b[0m\u001b[0;34m:\u001b[0m\u001b[0;34m\u001b[0m\u001b[0;34m\u001b[0m\u001b[0m\n",
            "\u001b[0;32m/usr/local/lib/python3.7/dist-packages/wandb/sdk/interface/interface_queue.py\u001b[0m in \u001b[0;36m_publish\u001b[0;34m(self, record, local)\u001b[0m\n\u001b[1;32m     47\u001b[0m     \u001b[0;32mdef\u001b[0m \u001b[0m_publish\u001b[0m\u001b[0;34m(\u001b[0m\u001b[0mself\u001b[0m\u001b[0;34m,\u001b[0m \u001b[0mrecord\u001b[0m\u001b[0;34m:\u001b[0m \u001b[0;34m\"pb.Record\"\u001b[0m\u001b[0;34m,\u001b[0m \u001b[0mlocal\u001b[0m\u001b[0;34m:\u001b[0m \u001b[0mbool\u001b[0m \u001b[0;34m=\u001b[0m \u001b[0;32mNone\u001b[0m\u001b[0;34m)\u001b[0m \u001b[0;34m->\u001b[0m \u001b[0;32mNone\u001b[0m\u001b[0;34m:\u001b[0m\u001b[0;34m\u001b[0m\u001b[0;34m\u001b[0m\u001b[0m\n\u001b[1;32m     48\u001b[0m         \u001b[0;32mif\u001b[0m \u001b[0mself\u001b[0m\u001b[0;34m.\u001b[0m\u001b[0m_process_check\u001b[0m \u001b[0;32mand\u001b[0m \u001b[0mself\u001b[0m\u001b[0;34m.\u001b[0m\u001b[0m_process\u001b[0m \u001b[0;32mand\u001b[0m \u001b[0;32mnot\u001b[0m \u001b[0mself\u001b[0m\u001b[0;34m.\u001b[0m\u001b[0m_process\u001b[0m\u001b[0;34m.\u001b[0m\u001b[0mis_alive\u001b[0m\u001b[0;34m(\u001b[0m\u001b[0;34m)\u001b[0m\u001b[0;34m:\u001b[0m\u001b[0;34m\u001b[0m\u001b[0;34m\u001b[0m\u001b[0m\n\u001b[0;32m---> 49\u001b[0;31m             \u001b[0;32mraise\u001b[0m \u001b[0mException\u001b[0m\u001b[0;34m(\u001b[0m\u001b[0;34m\"The wandb backend process has shutdown\"\u001b[0m\u001b[0;34m)\u001b[0m\u001b[0;34m\u001b[0m\u001b[0;34m\u001b[0m\u001b[0m\n\u001b[0m\u001b[1;32m     50\u001b[0m         \u001b[0;32mif\u001b[0m \u001b[0mlocal\u001b[0m\u001b[0;34m:\u001b[0m\u001b[0;34m\u001b[0m\u001b[0;34m\u001b[0m\u001b[0m\n\u001b[1;32m     51\u001b[0m             \u001b[0mrecord\u001b[0m\u001b[0;34m.\u001b[0m\u001b[0mcontrol\u001b[0m\u001b[0;34m.\u001b[0m\u001b[0mlocal\u001b[0m \u001b[0;34m=\u001b[0m \u001b[0mlocal\u001b[0m\u001b[0;34m\u001b[0m\u001b[0;34m\u001b[0m\u001b[0m\n",
            "\u001b[0;31mException\u001b[0m: The wandb backend process has shutdown"
          ]
        }
      ]
    },
    {
      "cell_type": "code",
      "source": [
        "hyperparameters = {\n",
        "\n",
        "          \"cell\":{\n",
        "              \"values\":[\"RNN\",\"GRU\",\"LSTM\"]\n",
        "              },\n",
        "\n",
        "          \"embed_size\":{\n",
        "              \"values\":[16,32,64,256]\n",
        "              },\n",
        "\n",
        "          \"hidden_layer_size\":{\n",
        "              \"values\":[16,32,64,256]\n",
        "              },\n",
        "\n",
        "          \"num_layers\":{\n",
        "              \"values\":[1,2,3]\n",
        "              },\n",
        "\n",
        "          \"dropout\":{\n",
        "              \"values\":[0.2,0.3,0.4]\n",
        "              },\n",
        "\n",
        "          \"epochs\":{\n",
        "              \"values\":[5,10,15,20]\n",
        "              },\n",
        "\n",
        "          \"batch_size\":{\n",
        "              \"values\":[32,64]\n",
        "              },\n",
        "\n",
        "          \"optimizer\":{\n",
        "              \"values\":[\"adam\", \"rsmprop\", \"nadam\"]\n",
        "              }\n",
        "      }"
      ],
      "metadata": {
        "id": "5n86u-2hjfWu"
      },
      "execution_count": 34,
      "outputs": []
    },
    {
      "cell_type": "code",
      "source": [
        "def sweeper(project_name,entity_name):\n",
        "  sweep_config={\n",
        "\n",
        "      \"method\": \"bayes\",\n",
        "      \"metric\": {\n",
        "          \"name\": \"val_acc\", \n",
        "          \"goal\": \"maximize\"\n",
        "          },\n",
        "      \"parameters\":hyperparameters\n",
        "  }\n",
        "\n",
        "  sweep_id=wandb.sweep(sweep_config, project=project_name, entity=entity_name)\n",
        "  wandb.agent(sweep_id,train)\n"
      ],
      "metadata": {
        "id": "b24xZ8FVhYcx"
      },
      "execution_count": 35,
      "outputs": []
    },
    {
      "cell_type": "code",
      "source": [
        "# Running the sweeps for hyperparameter tuning\n",
        "sweeper(project_name,entity_name)"
      ],
      "metadata": {
        "id": "LsBxEun_hc4T",
        "colab": {
          "base_uri": "https://localhost:8080/",
          "height": 795,
          "referenced_widgets": [
            "b98a9d4fd11f4421a464e051ea29687f",
            "0cb410ab53914f198f96268468446730",
            "8624afd7997d43bd9a4eb2cba3ac1ad7",
            "a700cfd8856f40e1be785e82db67d194",
            "eec826fafd21468bb12da133152c6b69",
            "e2852f4fb0684d78bedcfe3525ddb79c",
            "f612fb96d5d64d43bd88fe197202df23",
            "a14ae97ce6b540f08f47b2c4683bd600"
          ]
        },
        "outputId": "6306d659-534c-4699-d674-fcbc85df1aa3"
      },
      "execution_count": 38,
      "outputs": [
        {
          "output_type": "stream",
          "name": "stderr",
          "text": [
            "\u001b[34m\u001b[1mwandb\u001b[0m: \u001b[33mWARNING\u001b[0m Calling wandb.login() after wandb.init() has no effect.\n"
          ]
        },
        {
          "output_type": "stream",
          "name": "stdout",
          "text": [
            "Create sweep with ID: 79hbhj80\n",
            "Sweep URL: https://wandb.ai/safikhan/Assignment%203/sweeps/79hbhj80\n"
          ]
        },
        {
          "output_type": "stream",
          "name": "stderr",
          "text": [
            "\u001b[34m\u001b[1mwandb\u001b[0m: Agent Starting Run: kcvw42tv with config:\n",
            "\u001b[34m\u001b[1mwandb\u001b[0m: \tbatch_size: 64\n",
            "\u001b[34m\u001b[1mwandb\u001b[0m: \tcell: LSTM\n",
            "\u001b[34m\u001b[1mwandb\u001b[0m: \tdropout: 0.3\n",
            "\u001b[34m\u001b[1mwandb\u001b[0m: \tembed_size: 32\n",
            "\u001b[34m\u001b[1mwandb\u001b[0m: \tepochs: 10\n",
            "\u001b[34m\u001b[1mwandb\u001b[0m: \thidden_layer_size: 32\n",
            "\u001b[34m\u001b[1mwandb\u001b[0m: \tnum_decoders: 2\n",
            "\u001b[34m\u001b[1mwandb\u001b[0m: \tnum_encoders: 1\n",
            "\u001b[34m\u001b[1mwandb\u001b[0m: \toptimizer: rsmprop\n",
            "\u001b[34m\u001b[1mwandb\u001b[0m: \u001b[33mWARNING\u001b[0m Ignored wandb.init() arg project when running a sweep.\n",
            "\u001b[34m\u001b[1mwandb\u001b[0m: \u001b[33mWARNING\u001b[0m Ignored wandb.init() arg entity when running a sweep.\n"
          ]
        },
        {
          "output_type": "display_data",
          "data": {
            "text/plain": [
              "<IPython.core.display.HTML object>"
            ],
            "text/html": [
              "Tracking run with wandb version 0.12.15"
            ]
          },
          "metadata": {}
        },
        {
          "output_type": "display_data",
          "data": {
            "text/plain": [
              "<IPython.core.display.HTML object>"
            ],
            "text/html": [
              "Run data is saved locally in <code>/content/wandb/run-20220428_094915-kcvw42tv</code>"
            ]
          },
          "metadata": {}
        },
        {
          "output_type": "display_data",
          "data": {
            "text/plain": [
              "<IPython.core.display.HTML object>"
            ],
            "text/html": [
              "Syncing run <strong><a href=\"https://wandb.ai/safikhan/Assignment%203/runs/kcvw42tv\" target=\"_blank\">earnest-sweep-1</a></strong> to <a href=\"https://wandb.ai/safikhan/Assignment%203\" target=\"_blank\">Weights & Biases</a> (<a href=\"https://wandb.me/run\" target=\"_blank\">docs</a>)<br/>Sweep page:  <a href=\"https://wandb.ai/safikhan/Assignment%203/sweeps/79hbhj80\" target=\"_blank\">https://wandb.ai/safikhan/Assignment%203/sweeps/79hbhj80</a>"
            ]
          },
          "metadata": {}
        },
        {
          "output_type": "display_data",
          "data": {
            "text/plain": [
              "<IPython.core.display.HTML object>"
            ],
            "text/html": [
              "Waiting for W&B process to finish... <strong style=\"color:red\">(failed 1).</strong> Press Control-C to abort syncing."
            ]
          },
          "metadata": {}
        },
        {
          "output_type": "display_data",
          "data": {
            "text/plain": [
              "VBox(children=(Label(value='0.001 MB of 0.001 MB uploaded (0.000 MB deduped)\\r'), FloatProgress(value=1.0, max…"
            ],
            "application/vnd.jupyter.widget-view+json": {
              "version_major": 2,
              "version_minor": 0,
              "model_id": "b98a9d4fd11f4421a464e051ea29687f"
            }
          },
          "metadata": {}
        },
        {
          "output_type": "display_data",
          "data": {
            "text/plain": [
              "<IPython.core.display.HTML object>"
            ],
            "text/html": [
              "Synced <strong style=\"color:#cdcd00\">earnest-sweep-1</strong>: <a href=\"https://wandb.ai/safikhan/Assignment%203/runs/kcvw42tv\" target=\"_blank\">https://wandb.ai/safikhan/Assignment%203/runs/kcvw42tv</a><br/>Synced 4 W&B file(s), 0 media file(s), 0 artifact file(s) and 0 other file(s)"
            ]
          },
          "metadata": {}
        },
        {
          "output_type": "display_data",
          "data": {
            "text/plain": [
              "<IPython.core.display.HTML object>"
            ],
            "text/html": [
              "Find logs at: <code>./wandb/run-20220428_094915-kcvw42tv/logs</code>"
            ]
          },
          "metadata": {}
        },
        {
          "output_type": "stream",
          "name": "stderr",
          "text": [
            "\u001b[34m\u001b[1mwandb\u001b[0m: \u001b[32m\u001b[41mERROR\u001b[0m Run kcvw42tv errored: IndexError('list index out of range')\n",
            "\u001b[34m\u001b[1mwandb\u001b[0m: Agent Starting Run: b97arbbc with config:\n",
            "\u001b[34m\u001b[1mwandb\u001b[0m: \tbatch_size: 32\n",
            "\u001b[34m\u001b[1mwandb\u001b[0m: \tcell: GRU\n",
            "\u001b[34m\u001b[1mwandb\u001b[0m: \tdropout: 0.2\n",
            "\u001b[34m\u001b[1mwandb\u001b[0m: \tembed_size: 256\n",
            "\u001b[34m\u001b[1mwandb\u001b[0m: \tepochs: 15\n",
            "\u001b[34m\u001b[1mwandb\u001b[0m: \thidden_layer_size: 16\n",
            "\u001b[34m\u001b[1mwandb\u001b[0m: \tnum_decoders: 2\n",
            "\u001b[34m\u001b[1mwandb\u001b[0m: \tnum_encoders: 2\n",
            "\u001b[34m\u001b[1mwandb\u001b[0m: \toptimizer: nadam\n",
            "\u001b[34m\u001b[1mwandb\u001b[0m: \u001b[33mWARNING\u001b[0m Ignored wandb.init() arg project when running a sweep.\n",
            "\u001b[34m\u001b[1mwandb\u001b[0m: \u001b[33mWARNING\u001b[0m Ignored wandb.init() arg entity when running a sweep.\n"
          ]
        },
        {
          "output_type": "display_data",
          "data": {
            "text/plain": [
              "<IPython.core.display.HTML object>"
            ],
            "text/html": [
              "Tracking run with wandb version 0.12.15"
            ]
          },
          "metadata": {}
        },
        {
          "output_type": "display_data",
          "data": {
            "text/plain": [
              "<IPython.core.display.HTML object>"
            ],
            "text/html": [
              "Run data is saved locally in <code>/content/wandb/run-20220428_094931-b97arbbc</code>"
            ]
          },
          "metadata": {}
        },
        {
          "output_type": "display_data",
          "data": {
            "text/plain": [
              "<IPython.core.display.HTML object>"
            ],
            "text/html": [
              "Syncing run <strong><a href=\"https://wandb.ai/safikhan/Assignment%203/runs/b97arbbc\" target=\"_blank\">blooming-sweep-2</a></strong> to <a href=\"https://wandb.ai/safikhan/Assignment%203\" target=\"_blank\">Weights & Biases</a> (<a href=\"https://wandb.me/run\" target=\"_blank\">docs</a>)<br/>Sweep page:  <a href=\"https://wandb.ai/safikhan/Assignment%203/sweeps/79hbhj80\" target=\"_blank\">https://wandb.ai/safikhan/Assignment%203/sweeps/79hbhj80</a>"
            ]
          },
          "metadata": {}
        },
        {
          "output_type": "stream",
          "name": "stdout",
          "text": [
            "Epoch 1/15\n",
            "1159/1830 [==================>...........] - ETA: 8s - loss: 1.4805 - acc: 0.0907"
          ]
        },
        {
          "output_type": "stream",
          "name": "stderr",
          "text": [
            "\u001b[34m\u001b[1mwandb\u001b[0m: Ctrl + C detected. Stopping sweep.\n"
          ]
        }
      ]
    }
  ]
}