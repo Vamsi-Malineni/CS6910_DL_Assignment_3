{
  "nbformat": 4,
  "nbformat_minor": 0,
  "metadata": {
    "colab": {
      "name": "RNN",
      "provenance": [],
      "background_execution": "on",
      "include_colab_link": true
    },
    "kernelspec": {
      "name": "python3",
      "display_name": "Python 3"
    },
    "language_info": {
      "name": "python"
    },
    "accelerator": "GPU"
  },
  "cells": [
    {
      "cell_type": "markdown",
      "metadata": {
        "id": "view-in-github",
        "colab_type": "text"
      },
      "source": [
        "<a href=\"https://colab.research.google.com/github/safikhanSoofiyani/CS6910-Assignment-3/blob/main/RNN.ipynb\" target=\"_parent\"><img src=\"https://colab.research.google.com/assets/colab-badge.svg\" alt=\"Open In Colab\"/></a>"
      ]
    },
    {
      "cell_type": "markdown",
      "source": [
        "# Recurrent Neural Networks\n"
      ],
      "metadata": {
        "id": "U5HqFjcSVLy6"
      }
    },
    {
      "cell_type": "code",
      "execution_count": 1,
      "metadata": {
        "id": "HWqqx4brVLH2"
      },
      "outputs": [],
      "source": [
        "import numpy as np\n",
        "import pandas as pd\n",
        "import matplotlib.pyplot as plt\n",
        "import scipy as sc\n",
        "import tensorflow as tf\n",
        "import keras as ks\n",
        "import random\n",
        "import csv\n",
        "\n",
        "from tensorflow.keras.layers import Dense, Input,InputLayer,Flatten,Activation,LSTM,SimpleRNN,GRU,TimeDistributed,Embedding\n",
        "from tensorflow.keras.models import Sequential, Model,load_model\n",
        "from tensorflow.keras.callbacks import EarlyStopping\n"
      ]
    },
    {
      "cell_type": "code",
      "source": [
        "random.seed(hash(\"seriously you compete with me\") % 2**32 - 1)\n",
        "np.random.seed(hash(\"i am mohammed safi\") % 2**32 - 1)\n",
        "tf.random.set_seed(hash(\"ur rahman khan\") % 2**32 - 1)"
      ],
      "metadata": {
        "id": "3sleHsMmYciG"
      },
      "execution_count": 2,
      "outputs": []
    },
    {
      "cell_type": "code",
      "source": [
        "from tensorflow.python.keras import backend as K\n",
        "K._get_available_gpus()"
      ],
      "metadata": {
        "colab": {
          "base_uri": "https://localhost:8080/"
        },
        "id": "2jr1oGJKYdAx",
        "outputId": "1c2805aa-4a10-4cf6-d04f-42180cf6a177"
      },
      "execution_count": 3,
      "outputs": [
        {
          "output_type": "execute_result",
          "data": {
            "text/plain": [
              "['/device:GPU:0']"
            ]
          },
          "metadata": {},
          "execution_count": 3
        }
      ]
    },
    {
      "cell_type": "code",
      "source": [
        "!nvidia-smi"
      ],
      "metadata": {
        "colab": {
          "base_uri": "https://localhost:8080/"
        },
        "id": "0d4ZM-2CYg6R",
        "outputId": "173c6065-a6d5-4898-c7ba-29a98423f5f7"
      },
      "execution_count": 4,
      "outputs": [
        {
          "output_type": "stream",
          "name": "stdout",
          "text": [
            "Thu Apr 28 03:45:01 2022       \n",
            "+-----------------------------------------------------------------------------+\n",
            "| NVIDIA-SMI 460.32.03    Driver Version: 460.32.03    CUDA Version: 11.2     |\n",
            "|-------------------------------+----------------------+----------------------+\n",
            "| GPU  Name        Persistence-M| Bus-Id        Disp.A | Volatile Uncorr. ECC |\n",
            "| Fan  Temp  Perf  Pwr:Usage/Cap|         Memory-Usage | GPU-Util  Compute M. |\n",
            "|                               |                      |               MIG M. |\n",
            "|===============================+======================+======================|\n",
            "|   0  Tesla P100-PCIE...  Off  | 00000000:00:04.0 Off |                    0 |\n",
            "| N/A   35C    P0    32W / 250W |    375MiB / 16280MiB |      0%      Default |\n",
            "|                               |                      |                  N/A |\n",
            "+-------------------------------+----------------------+----------------------+\n",
            "                                                                               \n",
            "+-----------------------------------------------------------------------------+\n",
            "| Processes:                                                                  |\n",
            "|  GPU   GI   CI        PID   Type   Process name                  GPU Memory |\n",
            "|        ID   ID                                                   Usage      |\n",
            "|=============================================================================|\n",
            "+-----------------------------------------------------------------------------+\n"
          ]
        }
      ]
    },
    {
      "cell_type": "code",
      "source": [
        "!pip install wandb\n",
        "import wandb\n",
        "\n",
        "from wandb.keras import WandbCallback"
      ],
      "metadata": {
        "id": "5X6ve7s2Yitv",
        "outputId": "4a5d8f6b-0b36-4dd3-e781-0cc52d28eafa",
        "colab": {
          "base_uri": "https://localhost:8080/"
        }
      },
      "execution_count": 5,
      "outputs": [
        {
          "output_type": "stream",
          "name": "stdout",
          "text": [
            "Collecting wandb\n",
            "  Downloading wandb-0.12.15-py2.py3-none-any.whl (1.8 MB)\n",
            "\u001b[K     |████████████████████████████████| 1.8 MB 4.2 MB/s \n",
            "\u001b[?25hCollecting sentry-sdk>=1.0.0\n",
            "  Downloading sentry_sdk-1.5.10-py2.py3-none-any.whl (144 kB)\n",
            "\u001b[K     |████████████████████████████████| 144 kB 68.6 MB/s \n",
            "\u001b[?25hRequirement already satisfied: requests<3,>=2.0.0 in /usr/local/lib/python3.7/dist-packages (from wandb) (2.23.0)\n",
            "Requirement already satisfied: six>=1.13.0 in /usr/local/lib/python3.7/dist-packages (from wandb) (1.15.0)\n",
            "Collecting shortuuid>=0.5.0\n",
            "  Downloading shortuuid-1.0.8-py3-none-any.whl (9.5 kB)\n",
            "Requirement already satisfied: protobuf>=3.12.0 in /usr/local/lib/python3.7/dist-packages (from wandb) (3.17.3)\n",
            "Collecting setproctitle\n",
            "  Downloading setproctitle-1.2.3-cp37-cp37m-manylinux_2_5_x86_64.manylinux1_x86_64.manylinux_2_17_x86_64.manylinux2014_x86_64.whl (29 kB)\n",
            "Requirement already satisfied: python-dateutil>=2.6.1 in /usr/local/lib/python3.7/dist-packages (from wandb) (2.8.2)\n",
            "Requirement already satisfied: promise<3,>=2.0 in /usr/local/lib/python3.7/dist-packages (from wandb) (2.3)\n",
            "Collecting GitPython>=1.0.0\n",
            "  Downloading GitPython-3.1.27-py3-none-any.whl (181 kB)\n",
            "\u001b[K     |████████████████████████████████| 181 kB 71.4 MB/s \n",
            "\u001b[?25hRequirement already satisfied: Click!=8.0.0,>=7.0 in /usr/local/lib/python3.7/dist-packages (from wandb) (7.1.2)\n",
            "Collecting pathtools\n",
            "  Downloading pathtools-0.1.2.tar.gz (11 kB)\n",
            "Requirement already satisfied: PyYAML in /usr/local/lib/python3.7/dist-packages (from wandb) (3.13)\n",
            "Requirement already satisfied: psutil>=5.0.0 in /usr/local/lib/python3.7/dist-packages (from wandb) (5.4.8)\n",
            "Collecting docker-pycreds>=0.4.0\n",
            "  Downloading docker_pycreds-0.4.0-py2.py3-none-any.whl (9.0 kB)\n",
            "Requirement already satisfied: typing-extensions>=3.7.4.3 in /usr/local/lib/python3.7/dist-packages (from GitPython>=1.0.0->wandb) (4.2.0)\n",
            "Collecting gitdb<5,>=4.0.1\n",
            "  Downloading gitdb-4.0.9-py3-none-any.whl (63 kB)\n",
            "\u001b[K     |████████████████████████████████| 63 kB 2.3 MB/s \n",
            "\u001b[?25hCollecting smmap<6,>=3.0.1\n",
            "  Downloading smmap-5.0.0-py3-none-any.whl (24 kB)\n",
            "Requirement already satisfied: chardet<4,>=3.0.2 in /usr/local/lib/python3.7/dist-packages (from requests<3,>=2.0.0->wandb) (3.0.4)\n",
            "Requirement already satisfied: idna<3,>=2.5 in /usr/local/lib/python3.7/dist-packages (from requests<3,>=2.0.0->wandb) (2.10)\n",
            "Requirement already satisfied: certifi>=2017.4.17 in /usr/local/lib/python3.7/dist-packages (from requests<3,>=2.0.0->wandb) (2021.10.8)\n",
            "Requirement already satisfied: urllib3!=1.25.0,!=1.25.1,<1.26,>=1.21.1 in /usr/local/lib/python3.7/dist-packages (from requests<3,>=2.0.0->wandb) (1.24.3)\n",
            "Building wheels for collected packages: pathtools\n",
            "  Building wheel for pathtools (setup.py) ... \u001b[?25l\u001b[?25hdone\n",
            "  Created wheel for pathtools: filename=pathtools-0.1.2-py3-none-any.whl size=8806 sha256=2d6e1f8c241e743b9e7d575c130c1000b4564528025f893be1bc74f1e13034b9\n",
            "  Stored in directory: /root/.cache/pip/wheels/3e/31/09/fa59cef12cdcfecc627b3d24273699f390e71828921b2cbba2\n",
            "Successfully built pathtools\n",
            "Installing collected packages: smmap, gitdb, shortuuid, setproctitle, sentry-sdk, pathtools, GitPython, docker-pycreds, wandb\n",
            "Successfully installed GitPython-3.1.27 docker-pycreds-0.4.0 gitdb-4.0.9 pathtools-0.1.2 sentry-sdk-1.5.10 setproctitle-1.2.3 shortuuid-1.0.8 smmap-5.0.0 wandb-0.12.15\n"
          ]
        }
      ]
    },
    {
      "cell_type": "code",
      "source": [
        "from google.colab import drive\n",
        "drive.mount('/content/drive')"
      ],
      "metadata": {
        "colab": {
          "base_uri": "https://localhost:8080/"
        },
        "id": "qY61iB5hYkyK",
        "outputId": "828c8dbc-6bb6-41d8-c35d-4128136b53d6"
      },
      "execution_count": 7,
      "outputs": [
        {
          "output_type": "stream",
          "name": "stdout",
          "text": [
            "Mounted at /content/drive\n"
          ]
        }
      ]
    },
    {
      "cell_type": "code",
      "source": [
        "# English as source language and Telugu as target language\n",
        "source_language='en'\n",
        "target_language='te'"
      ],
      "metadata": {
        "id": "360zQMEyz92m"
      },
      "execution_count": 8,
      "outputs": []
    },
    {
      "cell_type": "code",
      "source": [
        "def load_data():\n",
        "    path = r\"/content/drive/MyDrive/dakshina_dataset_v1.0/dakshina_dataset_v1.0/te/lexicons/\"\n",
        "\n",
        "    train_file_path = path + \"te.translit.sampled.train.tsv\"\n",
        "    val_file_path = path + \"te.translit.sampled.dev.tsv\"\n",
        "\n",
        "    \n",
        "\n",
        "    path = r\"/content/drive/MyDrive/dakshina_dataset_v1.0/dakshina_dataset_v1.0/te/lexicons/\"\n",
        "\n",
        "    train_file_path = path + \"te.translit.sampled.train.tsv\"\n",
        "    val_file_path = path + \"te.translit.sampled.dev.tsv\"\n",
        "\n",
        "    train_tsv_file = open(train_file_path, \"r\", encoding=\"utf-8\")\n",
        "    train_dataset = csv.reader(train_tsv_file, delimiter=\"\\t\")\n",
        "\n",
        "    val_tsv_file = open(val_file_path, \"r\", encoding=\"utf-8\")\n",
        "    val_dataset = csv.reader(val_tsv_file, delimiter=\"\\t\")\n",
        "\n",
        "    return train_dataset, val_dataset\n"
      ],
      "metadata": {
        "id": "hCq14cy_O6o-"
      },
      "execution_count": 15,
      "outputs": []
    },
    {
      "cell_type": "code",
      "source": [
        "def prepare_data():\n",
        "\n",
        "    train_dataset, val_dataset = load_data()\n",
        "    \n",
        "    input = []\n",
        "    target = []\n",
        "    #print(english)\n",
        "    for i in train_dataset:\n",
        "        #print(i) \n",
        "        target.append(i[0])\n",
        "        #print(i[1])\n",
        "        input.append(i[1])\n",
        "    #print(english)\n",
        "    target = np.array(target)\n",
        "    input = np.array(input)\n",
        "\n",
        "    # Validation data\n",
        "    val_input = []\n",
        "    val_target = []\n",
        "\n",
        "    for i in val_dataset:\n",
        "        val_target.append(i[0])\n",
        "        val_input.append(i[1])\n",
        "\n",
        "    val_target = np.array(val_target)\n",
        "    val_input = np.array(val_input)\n",
        "\n",
        "    for i in range(len(target)):\n",
        "        target[i] = \"\\t\" + target[i] + \"\\n\"\n",
        "    \n",
        "    for i in range(len(val_target)):\n",
        "        val_target[i] = \"\\t\" + val_target[i] + \"\\n\"\n",
        "\n",
        "    return input, target, val_input, val_target\n",
        "\n"
      ],
      "metadata": {
        "id": "raSU82DvPM2C"
      },
      "execution_count": 10,
      "outputs": []
    },
    {
      "cell_type": "code",
      "source": [
        "def getTokens(input, target, val_input, val_target):\n",
        "    # Getting input and target language characters\n",
        "\n",
        "    # Training set\n",
        "    input_tokens = set()\n",
        "    target_tokens = set()\n",
        "\n",
        "    for word in input:\n",
        "        for char in word:\n",
        "            if char not in input_tokens:\n",
        "                input_tokens.add(char)\n",
        "\n",
        "    for word in target:\n",
        "        for char in word:\n",
        "            if char not in target_tokens:\n",
        "                target_tokens.add(char)\n",
        "\n",
        "    # Validation set\n",
        "    val_input_tokens = set()\n",
        "    val_target_tokens = set()\n",
        "\n",
        "    for word in val_input:\n",
        "        for char in word:\n",
        "            if char not in val_input_tokens:\n",
        "                val_input_tokens.add(char)\n",
        "\n",
        "    for word in val_target:\n",
        "        for char in word:\n",
        "            if char not in val_target_tokens:\n",
        "                val_target_tokens.add(char)\n",
        "\n",
        "    input_tokens = sorted(list(input_tokens))\n",
        "    target_tokens = sorted(list(target_tokens))\n",
        "    \n",
        "    return input_tokens, target_tokens, val_input_tokens, val_target_tokens\n"
      ],
      "metadata": {
        "id": "ztfcT9lg0ccz"
      },
      "execution_count": 11,
      "outputs": []
    },
    {
      "cell_type": "code",
      "source": [
        "input, target, val_input, val_target = prepare_data()\n",
        "input_tokens, target_tokens, val_input_tokens, val_target_tokens = getTokens(input, target, val_input, val_target)\n"
      ],
      "metadata": {
        "id": "R0b2YKcI0XyM"
      },
      "execution_count": 16,
      "outputs": []
    },
    {
      "cell_type": "code",
      "source": [
        "num_encoder_tokens = len(input_tokens)\n",
        "num_decoder_tokens = len(target_tokens)\n",
        "\n",
        "max_encoder_seq_length = max([len(txt) for txt in input])\n",
        "max_decoder_seq_length = max([len(txt) for txt in target])\n",
        "\n",
        "input_token_index = dict([(char, i) for i, char in enumerate(input_tokens)])\n",
        "target_token_index = dict([(char, i) for i, char in enumerate(target_tokens)])\n",
        "reverse_input_char_index = dict((i, char) for char, i in input_token_index.items())\n",
        "reverse_target_char_index = dict((i, char) for char, i in target_token_index.items())\n",
        "\n",
        "print(\"Number of data points:\", len(input))\n",
        "print(\"Number of unique input tokens:\", num_encoder_tokens)\n",
        "print(\"Number of unique output tokens:\", num_decoder_tokens)\n",
        "print(\"Max sequence length for inputs:\", max_encoder_seq_length)\n",
        "print(\"Max sequence length for outputs:\", max_decoder_seq_length)"
      ],
      "metadata": {
        "id": "y2bF96w62heY",
        "outputId": "1044e933-c67b-4715-d758-c1e63d81ac36",
        "colab": {
          "base_uri": "https://localhost:8080/"
        }
      },
      "execution_count": 17,
      "outputs": [
        {
          "output_type": "stream",
          "name": "stdout",
          "text": [
            "Number of data points: 58550\n",
            "Number of unique input tokens: 26\n",
            "Number of unique output tokens: 65\n",
            "Max sequence length for inputs: 25\n",
            "Max sequence length for outputs: 20\n"
          ]
        }
      ]
    },
    {
      "cell_type": "code",
      "source": [
        "print(target[5])"
      ],
      "metadata": {
        "colab": {
          "base_uri": "https://localhost:8080/"
        },
        "id": "OTO1LGw1VBny",
        "outputId": "b5924688-8021-4856-9438-498cba40cd38"
      },
      "execution_count": 31,
      "outputs": [
        {
          "output_type": "stream",
          "name": "stdout",
          "text": [
            "\tఅంకితభావం\n",
            "\n"
          ]
        }
      ]
    },
    {
      "cell_type": "markdown",
      "source": [
        "ENCODER AND DECODER INPUTS"
      ],
      "metadata": {
        "id": "UKLIJmjt3RU3"
      }
    },
    {
      "cell_type": "code",
      "source": [
        "def one_hot_encoding(input, target, val_input, val_target, input_tokens, target_tokens):\n",
        "\n",
        "    input_token_index = dict([(char, i) for i, char in enumerate(input_tokens)])\n",
        "    target_token_index = dict([(char, i) for i, char in enumerate(target_tokens)])\n",
        "\n",
        "    reverse_input_char_index = dict((i, char) for char, i in input_token_index.items())\n",
        "    reverse_target_char_index = dict((i, char) for char, i in target_token_index.items())\n",
        "\n",
        "    \n",
        "    encoder_input_data = np.zeros(\n",
        "        (len(input), max_encoder_seq_length), dtype = \"float32\" )\n",
        "    decoder_input_data = np.zeros(\n",
        "        (len(input), max_decoder_seq_length), dtype = \"float32\" )\n",
        "    decoder_target_data = np.zeros(\n",
        "        (len(input), max_decoder_seq_length, num_decoder_tokens), dtype = \"float32\" )\n",
        "    \n",
        "    for i, (inp, tar) in enumerate(zip(input, target)):\n",
        "        for t, char in enumerate(inp):\n",
        "            encoder_input_data[i,t] = input_token_index[char]\n",
        "\n",
        "        for t, char in enumerate(tar):\n",
        "            decoder_input_data[i,t] = target_token_index[char]\n",
        "            if t>0:\n",
        "                decoder_target_data[i,t-1,target_token_index[char]] = 1.0\n",
        "\n",
        "    \n",
        "\n",
        "    encoder_val_input_data = np.zeros(\n",
        "        (len(val_input), max_encoder_seq_length), dtype = \"float32\" )\n",
        "    decoder_val_input_data = np.zeros(\n",
        "        (len(val_input), max_decoder_seq_length), dtype = \"float32\" )\n",
        "    decoder_val_target_data = np.zeros(\n",
        "        (len(val_input), max_decoder_seq_length, num_decoder_tokens), dtype = \"float32\" )\n",
        "\n",
        "    for i, (inp, tar) in enumerate(zip(val_input, val_target)):\n",
        "        for t, char in enumerate(inp):\n",
        "            encoder_val_input_data[i,t] = input_token_index[char]\n",
        "\n",
        "        for t, char in enumerate(tar):\n",
        "            decoder_val_input_data[i,t] = target_token_index[char]\n",
        "            if t>0:\n",
        "                decoder_target_data[i,t-1,target_token_index[char]] = 1.0\n",
        "\n",
        "    return encoder_input_data, decoder_input_data, decoder_target_data, encoder_val_input_data, decoder_val_input_data, decoder_val_target_data\n"
      ],
      "metadata": {
        "id": "TbpXbSoITQpG"
      },
      "execution_count": 18,
      "outputs": []
    },
    {
      "cell_type": "code",
      "source": [
        "encoder_input_data, decoder_input_data, decoder_target_data, encoder_val_input_data, decoder_val_input_data, decoder_val_target_data =one_hot_encoding(input, target, val_input, val_target, input_tokens, target_tokens)"
      ],
      "metadata": {
        "id": "au3XJBhDXYfg"
      },
      "execution_count": 19,
      "outputs": []
    },
    {
      "cell_type": "code",
      "source": [
        "decoder_target_data.shape"
      ],
      "metadata": {
        "id": "gb3G0IccZCK7",
        "outputId": "1e77c95a-8954-44a3-edbc-19600aa49327",
        "colab": {
          "base_uri": "https://localhost:8080/"
        }
      },
      "execution_count": 35,
      "outputs": [
        {
          "output_type": "execute_result",
          "data": {
            "text/plain": [
              "(58550, 20, 65)"
            ]
          },
          "metadata": {},
          "execution_count": 35
        }
      ]
    },
    {
      "cell_type": "code",
      "source": [
        "print(decoder_target_data[0])"
      ],
      "metadata": {
        "id": "E-RI6g4WaVuu",
        "colab": {
          "base_uri": "https://localhost:8080/"
        },
        "outputId": "3db2fb57-4066-43b0-e9ef-31889b9d4582"
      },
      "execution_count": 36,
      "outputs": [
        {
          "output_type": "stream",
          "name": "stdout",
          "text": [
            "[[0. 0. 0. ... 0. 0. 0.]\n",
            " [0. 0. 1. ... 0. 0. 0.]\n",
            " [0. 0. 0. ... 0. 0. 0.]\n",
            " ...\n",
            " [0. 0. 0. ... 0. 0. 0.]\n",
            " [0. 0. 0. ... 0. 0. 0.]\n",
            " [0. 0. 0. ... 0. 0. 0.]]\n"
          ]
        }
      ]
    },
    {
      "cell_type": "code",
      "source": [
        ""
      ],
      "metadata": {
        "id": "YIq0iqtlaVrp"
      },
      "execution_count": null,
      "outputs": []
    },
    {
      "cell_type": "code",
      "source": [
        ""
      ],
      "metadata": {
        "id": "j65TQqDnaVj9"
      },
      "execution_count": null,
      "outputs": []
    },
    {
      "cell_type": "code",
      "source": [
        "def rnn( num_encoders, embed_size, dropout, num_decoders, hidden_layer_size):\n",
        "  # enc_in : Encoder input\n",
        "  # enc_out : Encoder output\n",
        "  # enc_states: Encoder states\n",
        "  # dec_in : Decoder input\n",
        "  # dec_out : Decoder output\n",
        "  # dec_dense : Dense layer for decoder\n",
        "\n",
        "  #=============================================#\n",
        "  #============== Encoder part =================#\n",
        "  #=============================================#\n",
        "  \n",
        "  enc_in = Input(shape=(max_encoder_seq_length,))\n",
        "  enc_out = Embedding(num_encoder_tokens, embed_size, trainable=True)(enc_in)\n",
        "\n",
        "  enc_layers = []\n",
        "  enc_states = []\n",
        "  \n",
        "  # First encoder layer of the rnn\n",
        "  encoder = SimpleRNN(hidden_layer_size, return_state=True, return_sequences=True, dropout=dropout)\n",
        "  enc_layers.append(encoder)\n",
        "  enc_out, state_h = encoder(enc_out)\n",
        "  enc_states.append([state_h])\n",
        "  \n",
        "  # Second encoder layer of the rnn\n",
        "  if num_encoders > 1:\n",
        "    encoder = SimpleRNN(hidden_layer_size, return_state=True, return_sequences=True, dropout=dropout)\n",
        "    enc_layers.append(encoder)\n",
        "    enc_out, state_h2 = encoder(enc_out)\n",
        "    enc_states.append([state_h2])\n",
        "\n",
        "  # Third encoder layer of the rnn\n",
        "  if num_encoders > 2:\n",
        "    encoder = SimpleRNN(hidden_layer_size, return_state=True, return_sequences=True, dropout=dropout)\n",
        "    enc_layers.append(encoder)\n",
        "    enc_out, state_h3 = encoder(enc_out)\n",
        "    enc_states.append([state_h3])\n",
        "\n",
        "  #==============================================#  \n",
        "  #============== Decoder part ==================#\n",
        "  #==============================================#\n",
        "\n",
        "  dec_in = Input(shape=(max_decoder_seq_length,))\n",
        "  dec_out = Embedding(num_decoder_tokens, embed_size, trainable=True)(dec_in)\n",
        "\n",
        "  dec_layers = []\n",
        "  # First decoder layer of the rnn\n",
        "  decoder = SimpleRNN(hidden_layer_size, return_state=True, return_sequences=True, dropout=dropout)\n",
        "  dec_layers.append(decoder)\n",
        "  dec_out, _ = decoder(dec_out, initial_state = enc_states[0])\n",
        "\n",
        "  # Second decoder layer of the rnn\n",
        "  if num_decoders > 1:\n",
        "    decoder = SimpleRNN(hidden_layer_size, return_state=True, return_sequences=True, dropout=dropout)\n",
        "    dec_layers.append(decoder)\n",
        "    dec_out, _ = decoder(dec_out, initial_state = enc_states[1])\n",
        "\n",
        "  # Third decoder layer of the rnn\n",
        "  if num_decoders > 2:\n",
        "    decoder = SimpleRNN(hidden_layer_size, return_state=True, return_sequences=True, dropout=dropout)\n",
        "    dec_layers.append(decoder)\n",
        "    dec_out, _ = decoder(dec_out, initial_state = enc_states[2])\n",
        "    \n",
        "  dec_dense =TimeDistributed(Dense(num_decoder_tokens, activation=\"softmax\"))\n",
        "  dec_out = dec_dense(dec_out)\n",
        "  \n",
        "  model = Model([enc_in, dec_in], dec_out)\n",
        "\n",
        "  return model, enc_layers, dec_layers\n"
      ],
      "metadata": {
        "id": "08A5CzRKJGSq"
      },
      "execution_count": 37,
      "outputs": []
    },
    {
      "cell_type": "code",
      "source": [
        "def lstm( num_encoders, embed_size, dropout, num_decoders, hidden_layer_size):\n",
        "  # e_in : Encoder input\n",
        "  # e_out : Encoder output\n",
        "  # e_states: Encoder states\n",
        "  # d_in : Decoder input\n",
        "  # d_out : Decoder output\n",
        "  # d_dense : Dense layer for decoder\n",
        "\n",
        "\n",
        "  #=============================================#\n",
        "  #============== Encoder part =================#\n",
        "  #=============================================#\n",
        "  \n",
        "  enc_in = Input(shape=(max_encoder_seq_length,))\n",
        "  enc_out = Embedding(num_encoder_tokens, embed_size, trainable=True)(enc_in)\n",
        "\n",
        "  enc_layers = []\n",
        "  enc_states = []\n",
        "  \n",
        "  encoder = LSTM(hidden_layer_size, return_state=True, return_sequences=True, dropout=dropout)\n",
        "  enc_layers.append(encoder)\n",
        "  enc_out, state_h, state_c = encoder(enc_out)\n",
        "  enc_states.append([state_h, state_c])\n",
        "  \n",
        "  if num_encoders > 1:\n",
        "    encoder = LSTM(hidden_layer_size, return_state=True, return_sequences=True, dropout=dropout)\n",
        "    enc_layers.append(encoder)\n",
        "    enc_out, state_h2, state_c2 = encoder(enc_out)\n",
        "    enc_states.append([state_h2, state_c2])\n",
        "  \n",
        "  if num_encoders > 2:\n",
        "    encoder = LSTM(hidden_layer_size, return_state=True, return_sequences=True, dropout=dropout)\n",
        "    enc_layers.append(encoder)\n",
        "    enc_out, state_h3, state_c3 = encoder(enc_out)\n",
        "    enc_states.append([state_h3, state_c3])\n",
        "    \n",
        "\n",
        "   \n",
        "\n",
        "  #==============================================#  \n",
        "  #============== Decoder part ==================#\n",
        "  #==============================================#\n",
        "\n",
        "\n",
        "  dec_in = Input(shape=(max_decoder_seq_length,))\n",
        "  dec_out = Embedding(num_decoder_tokens, embed_size, trainable=True)(dec_in)\n",
        "\n",
        "  dec_layers = []\n",
        "  decoder = LSTM(hidden_layer_size, return_state=True, return_sequences=True, dropout=dropout)\n",
        "  dec_layers.append(decoder)\n",
        "  dec_out, _, _ = decoder(dec_out, initial_state = enc_states[0])\n",
        "\n",
        "  if num_decoders >1:\n",
        "    decoder = LSTM(hidden_layer_size, return_state=True, return_sequences=True, dropout=dropout)\n",
        "    dec_layers.append(decoder)\n",
        "    dec_out, _, _ = decoder(dec_out, initial_state = enc_states[1])\n",
        "  \n",
        "  if num_decoders >2:\n",
        "    decoder = LSTM(hidden_layer_size, return_state=True, return_sequences=True, dropout=dropout)\n",
        "    dec_layers.append(decoder)\n",
        "    dec_out, _, _ = decoder(dec_out, initial_state = enc_states[2])\n",
        "\n",
        "  \n",
        "  \n",
        "  dec_dense = TimeDistributed(Dense(num_decoder_tokens, activation=\"softmax\"))\n",
        "  dec_out = dec_dense(dec_out)\n",
        "  \n",
        "  model = Model([enc_in, dec_in], dec_out)\n",
        "\n",
        "  return model, enc_layers, dec_layers\n"
      ],
      "metadata": {
        "id": "7cUrvk91JG7p"
      },
      "execution_count": null,
      "outputs": []
    },
    {
      "cell_type": "code",
      "source": [
        "def gru(num_encoders, embed_size, dropout, num_decoders, hidden_layer_size):\n",
        "  # e_in : Encoder input\n",
        "  # e_out : Encoder output\n",
        "  # e_states: Encoder states\n",
        "  # d_in : Decoder input\n",
        "  # d_out : Decoder output\n",
        "  # d_dense : Dense layer for decoder\n",
        "  \n",
        " \n",
        "  #=============================================#\n",
        "  #============== Encoder part =================#\n",
        "  #=============================================#\n",
        "  \n",
        "\n",
        "  enc_in = Input(shape=(max_encoder_seq_length,))\n",
        "  enc_out = Embedding(num_encoder_tokens, embed_size, trainable=True)(enc_in)\n",
        "\n",
        "  enc_layers = []\n",
        "  enc_states = []\n",
        "  \n",
        "  # First encoder layer of the rnn\n",
        "  encoder = GRU(hidden_layer_size, return_state=True, return_sequences=True, dropout=dropout)\n",
        "  enc_layers.append(encoder)\n",
        "  enc_out, state_h = encoder(enc_out)\n",
        "  enc_states.append([state_h])\n",
        "  \n",
        "  # Second encoder layer of the rnn\n",
        "  if num_encoders > 1:\n",
        "    encoder = GRU(hidden_layer_size, return_state=True, return_sequences=True, dropout=dropout)\n",
        "    enc_layers.append(encoder)\n",
        "    enc_out, state_h2 = encoder(enc_out)\n",
        "    enc_states.append([state_h2])\n",
        "\n",
        "  # Third encoder layer of the rnn\n",
        "  if num_encoders > 2:\n",
        "    encoder = GRU(hidden_layer_size, return_state=True, return_sequences=True, dropout=dropout)\n",
        "    enc_layers.append(encoder)\n",
        "    enc_out, state_h3 = encoder(enc_out)\n",
        "    enc_states.append([state_h3])\n",
        "  #==============================================#  \n",
        "  #============== Decoder part ==================#\n",
        "  #==============================================#\n",
        "\n",
        "\n",
        "  dec_in = Input(shape=(max_decoder_seq_length,))\n",
        "  dec_out = Embedding(num_decoder_tokens, embed_size, trainable=True, mask_zero = True)(dec_in)\n",
        "\n",
        "  dec_layers = []\n",
        "  # First decoder layer of the rnn\n",
        "  decoder = GRU(hidden_layer_size, return_state=True, return_sequences=True, dropout=dropout)\n",
        "  dec_layers.append(decoder)\n",
        "  dec_out, _ = decoder(dec_out, initial_state = enc_states[0])\n",
        "\n",
        "  # Second decoder layer of the rnn\n",
        "  if num_decoders > 1:\n",
        "    decoder = GRU(hidden_layer_size, return_state=True, return_sequences=True, dropout=dropout)\n",
        "    dec_layers.append(decoder)\n",
        "    dec_out, _ = decoder(dec_out, initial_state = enc_states[1])\n",
        "\n",
        "  # Third decoder layer of the rnn\n",
        "  if num_decoders > 2:\n",
        "    decoder = GRU(hidden_layer_size, return_state=True, return_sequences=True, dropout=dropout)\n",
        "    dec_layers.append(decoder)\n",
        "    dec_out, _ = decoder(dec_out, initial_state = enc_states[2])\n",
        "    \n",
        "  dec_dense =TimeDistributed(Dense(num_decoder_tokens, activation=\"softmax\"))\n",
        "  dec_out = dec_dense(dec_out)\n",
        "  \n",
        "  model = Model([enc_in, dec_in], dec_out)\n",
        "\n",
        "  return model, enc_layers, dec_layers\n"
      ],
      "metadata": {
        "id": "MNzll7fwJIv9"
      },
      "execution_count": null,
      "outputs": []
    },
    {
      "cell_type": "code",
      "source": [
        "def transliteration(config):\n",
        "  num_encoders=config[\"num_encoders\"]\n",
        "  cell=config[\"cell\"]\n",
        "  embed_size=config[\"embed_size\"]\n",
        "  dropout=config[\"dropout\"]\n",
        "  num_decoders=config[\"num_decoders\"]\n",
        "  hidden_layer_size=config[\"hidden_layer_size\"]\n",
        "\n",
        "  if cell == \"RNN\":\n",
        "    model, enc_layers, dec_layers=rnn( num_encoders, embed_size, dropout, num_decoders, hidden_layer_size)\n",
        "    return model, enc_layers, dec_layers\n",
        "  elif cell == \"LSTM\":\n",
        "    model, enc_layers, dec_layers=lstm(num_encoders, embed_size, dropout, num_decoders, hidden_layer_size)\n",
        "    return model, enc_layers, dec_layers\n",
        "  elif cell == \"GRU\":\n",
        "    model, enc_layers, dec_layers=gru(num_encoders, embed_size, dropout, num_decoders, hidden_layer_size)\n",
        "    return model, enc_layers, dec_layers\n",
        "  \n"
      ],
      "metadata": {
        "id": "3Q3ws80VJLE6"
      },
      "execution_count": 38,
      "outputs": []
    },
    {
      "cell_type": "code",
      "source": [
        ""
      ],
      "metadata": {
        "id": "HHWAyES7Bk3F"
      },
      "execution_count": null,
      "outputs": []
    },
    {
      "cell_type": "code",
      "source": [
        "\n",
        "batch_size = 128        \n",
        "epochs = 7             \n",
        "input_embedding_size = 512\n",
        "hidden_layer_size = 256\n",
        "num_layers = 3\n",
        "num_encoder_layers = num_layers\n",
        "num_decoder_layers = num_layers\n",
        "dropout = 0.2\n",
        "cell_type = 'RNN'\n",
        "\n",
        "config = {\n",
        "    \"num_encoders\" : 3,\n",
        "    \"cell\": \"RNN\",\n",
        "    \"embed_size\": 512,\n",
        "    \"dropout\": 0.2,\n",
        "    \"num_decoders\" : 3,\n",
        "    \"hidden_layer_size\":256\n",
        "}\n",
        "\n",
        "# TRAIN\n",
        "model, encoder_layers, decoder_layers = transliteration(config)\n",
        "\n",
        "# COMPILE\n",
        "model.compile(optimizer=\"adam\", loss=\"categorical_crossentropy\", metrics=[\"accuracy\"])\n",
        "\n",
        "# FIT\n",
        "model.fit(\n",
        "    [encoder_input_data, decoder_input_data],\n",
        "    decoder_target_data,\n",
        "    batch_size=batch_size,\n",
        "    epochs=epochs,\n",
        "    shuffle = True,\n",
        "    # validation_data= ([encoder_val_input_data, decoder_val_input_data], decoder_val_target_data)\n",
        ")"
      ],
      "metadata": {
        "id": "CB995IKRZwDW",
        "outputId": "19cb0b66-eb3d-46b3-c1d1-e4ba377c1009",
        "colab": {
          "base_uri": "https://localhost:8080/"
        }
      },
      "execution_count": 39,
      "outputs": [
        {
          "output_type": "stream",
          "name": "stdout",
          "text": [
            "Epoch 1/7\n",
            "458/458 [==============================] - 65s 134ms/step - loss: 0.9772 - accuracy: 0.2149\n",
            "Epoch 2/7\n",
            "458/458 [==============================] - 62s 135ms/step - loss: 0.6686 - accuracy: 0.2909\n",
            "Epoch 3/7\n",
            "458/458 [==============================] - 62s 135ms/step - loss: 0.5689 - accuracy: 0.3166\n",
            "Epoch 4/7\n",
            "458/458 [==============================] - 62s 134ms/step - loss: 0.5144 - accuracy: 0.3310\n",
            "Epoch 5/7\n",
            "458/458 [==============================] - 61s 134ms/step - loss: 0.4828 - accuracy: 0.3393\n",
            "Epoch 6/7\n",
            "458/458 [==============================] - 61s 134ms/step - loss: 0.4585 - accuracy: 0.3456\n",
            "Epoch 7/7\n",
            "458/458 [==============================] - 62s 136ms/step - loss: 0.4449 - accuracy: 0.3491\n"
          ]
        },
        {
          "output_type": "execute_result",
          "data": {
            "text/plain": [
              "<keras.callbacks.History at 0x7fc64bc02e50>"
            ]
          },
          "metadata": {},
          "execution_count": 39
        }
      ]
    },
    {
      "cell_type": "code",
      "source": [
        "# config = {\n",
        "#     \"num_encoders\" : 1,\n",
        "#     \"cell\": \"RNN\",\n",
        "#     \"embed_size\": 32,\n",
        "#     \"dropout\": 0.2,\n",
        "#     \"num_decoders\" : 1,\n",
        "#     \"hidden_layer_size\": 16\n",
        "# }\n",
        "\n",
        "# model, enc_layers, dec_layers = transliteration(config)"
      ],
      "metadata": {
        "id": "h7Q98jvYQhPQ"
      },
      "execution_count": null,
      "outputs": []
    },
    {
      "cell_type": "code",
      "source": [
        "# model.compile(\n",
        "#     optimizer=\"rmsprop\", loss=\"categorical_crossentropy\", metrics=[\"accuracy\"]\n",
        "# )\n",
        "\n",
        "# model.fit(\n",
        "#     [encoder_input_data, decoder_input_data],\n",
        "#     decoder_target_data,\n",
        "#     batch_size = 64,\n",
        "#     epochs = 10\n",
        "# )\n",
        "\n",
        "# model.save(\"s2s\")"
      ],
      "metadata": {
        "id": "JTbi3YQhcMj3"
      },
      "execution_count": null,
      "outputs": []
    },
    {
      "cell_type": "code",
      "source": [
        ""
      ],
      "metadata": {
        "id": "VYemHWx3RVn1"
      },
      "execution_count": null,
      "outputs": []
    },
    {
      "cell_type": "code",
      "source": [
        ""
      ],
      "metadata": {
        "id": "JxJBj97LRVlg"
      },
      "execution_count": null,
      "outputs": []
    },
    {
      "cell_type": "code",
      "source": [
        "def inferencing(model,num_encoder_layers,num_decoder_layers,encoder_layers,decoder_layers,cell_type, hidden_layer_size):\n",
        "    \n",
        "    # ENCODER MODEL RECONSTRUCTION \n",
        "    encoder_inputs = model.input[0]  # input_1\n",
        "    encoder_states = []\n",
        "    enc_emb = model.layers[2]     # embedding 1\n",
        "    encoder_outputs = enc_emb(encoder_inputs)\n",
        "\n",
        "    if cell_type == 'RNN' or cell_type ==\"GRU\":\n",
        "        for i in range(num_encoder_layers):\n",
        "            encoder_outputs, state_h_enc = encoder_layers[i](encoder_outputs)\n",
        "            encoder_states += [state_h_enc] \n",
        "    else:\n",
        "        for i in range(num_encoder_layers):\n",
        "            encoder_outputs, state_h_enc, state_c_enc = encoder_layers[i](encoder_outputs)\n",
        "            encoder_states += [state_h_enc, state_c_enc]   \n",
        "\n",
        "    encoder_model = Model(encoder_inputs, encoder_states + [encoder_outputs])\n",
        "\n",
        "\n",
        "    # DECODER MODEL RECONSTRUCTION\n",
        "    input_names = [[\"input_100\",\"input_101\"],[\"input_102\",\"input_103\"],[\"input_104\",\"input_105\"],\"input_106\"]\n",
        "\n",
        "    decoder_inputs = model.input[1]       # input_2\n",
        "    decoder_embedding = model.layers[3]   # embedding 2\n",
        "    decoder_outputs = decoder_embedding(decoder_inputs)\n",
        "    decoder_states = []\n",
        "    decoder_states_inputs = []\n",
        "    \n",
        "    if cell_type == 'RNN' or cell_type ==\"GRU\":\n",
        "        for i in range(num_decoder_layers):\n",
        "            decoder_states_inputs += [Input(shape=(hidden_layer_size,), name=input_names[i][0])]\n",
        "        for i in range(num_decoder_layers):\n",
        "            decoder_outputs, state_h_dec = decoder_layers[i](decoder_outputs, initial_state=decoder_states_inputs[i])\n",
        "            decoder_states += [state_h_dec]\n",
        "    else:\n",
        "        for i in range(num_decoder_layers):\n",
        "            decoder_states_inputs += [Input(shape=(hidden_layer_size,), name=input_names[i][0]), Input(shape=(hidden_layer_size,), name=input_names[i][1])]\n",
        "        j = 0\n",
        "        for i in range(num_decoder_layers):\n",
        "            decoder_outputs, state_h_dec, state_c_dec = decoder_layers[i](decoder_outputs, initial_state=decoder_states_inputs[i+j:i+j+2])\n",
        "            decoder_states += [state_h_dec , state_c_dec]\n",
        "            j += 1\n",
        "\n",
        "    decoder_dense = model.layers[4+2*num_encoder_layers]\n",
        "    decoder_outputs = decoder_dense(decoder_outputs)\n",
        "    decoder_model = Model([decoder_inputs] + decoder_states_inputs, [decoder_outputs] + decoder_states)\n",
        "\n",
        "    return encoder_model, decoder_model"
      ],
      "metadata": {
        "id": "UiJfgkGRaMTv"
      },
      "execution_count": 24,
      "outputs": []
    },
    {
      "cell_type": "code",
      "source": [
        ""
      ],
      "metadata": {
        "id": "aVcmKheYaMQb"
      },
      "execution_count": null,
      "outputs": []
    },
    {
      "cell_type": "code",
      "source": [
        "def decode_sequence(input_seq,encoder_model,decoder_model):\n",
        "    # Encode the input as state vectors.\n",
        "    states_value = encoder_model.predict(input_seq)\n",
        "    states_value = states_value[:-1]\n",
        "    target_seq = np.zeros((1, 1)) \n",
        "    target_seq[0, 0] = target_token_index[\"\\t\"]\n",
        "    stop_condition = False\n",
        "    decoded_sentence = \"\"\n",
        "    while not stop_condition:\n",
        "        dec_ip = [target_seq]+states_value\n",
        "        output_tokens = decoder_model.predict(dec_ip)\n",
        "        sampled_token_index = np.argmax(output_tokens[0][0, -1, :])\n",
        "        sampled_char = reverse_target_char_index[sampled_token_index]\n",
        "        decoded_sentence += sampled_char\n",
        "        if sampled_char == \"\\n\" or len(decoded_sentence) > max_decoder_seq_length:\n",
        "            stop_condition = True\n",
        "\n",
        "        target_seq = np.zeros((1, 1))\n",
        "        target_seq[0, 0] = sampled_token_index\n",
        "        states_value = output_tokens[1:]\n",
        "        \n",
        "    return decoded_sentence"
      ],
      "metadata": {
        "id": "D_81_HhpaMKb"
      },
      "execution_count": 25,
      "outputs": []
    },
    {
      "cell_type": "code",
      "source": [
        "encoder_model, decoder_model = inferencing(model, num_encoder_layers, num_decoder_layers, encoder_layers, decoder_layers, cell_type, hidden_layer_size)\n",
        "correct = 0\n",
        "n = val_target.shape[0]\n",
        "for i in range(40, 60):\n",
        "    inputs = encoder_val_input_data[i:i+1]\n",
        "    output = decode_sequence(inputs,encoder_model, decoder_model)\n",
        "    print(\"-\")\n",
        "    print(\"Input sentence:\", val_input[i])\n",
        "    print(\"Decoded sentence:\", output)"
      ],
      "metadata": {
        "id": "ju-IqCIYaMIJ",
        "outputId": "462a387d-053f-4fa2-aafd-8f28b143c9a4",
        "colab": {
          "base_uri": "https://localhost:8080/"
        }
      },
      "execution_count": 41,
      "outputs": [
        {
          "output_type": "stream",
          "name": "stdout",
          "text": [
            "WARNING:tensorflow:Model was constructed with shape (None, 20) for input KerasTensor(type_spec=TensorSpec(shape=(None, 20), dtype=tf.float32, name='input_4'), name='input_4', description=\"created by layer 'input_4'\"), but it was called on an input with incompatible shape (None, 1).\n",
            "-\n",
            "Input sentence: andisthaamu\n",
            "Decoded sentence: ఆందిస్తాడు\n",
            "\n",
            "-\n",
            "Input sentence: andisthamu\n",
            "Decoded sentence: అందించాలు\n",
            "\n",
            "-\n",
            "Input sentence: amdunaa\n",
            "Decoded sentence: అందును\n",
            "\n",
            "-\n",
            "Input sentence: anduna\n",
            "Decoded sentence: ఇందును\n",
            "\n",
            "-\n",
            "Input sentence: andunaa\n",
            "Decoded sentence: ఇందును\n",
            "\n",
            "-\n",
            "Input sentence: ambareeshudu\n",
            "Decoded sentence: అందరించుడు\n",
            "\n",
            "-\n",
            "Input sentence: ambareeshurudu\n",
            "Decoded sentence: అం్వించిందికు\n",
            "\n",
            "-\n",
            "Input sentence: ambariishudu\n",
            "Decoded sentence: అం్వానికు\n",
            "\n",
            "-\n",
            "Input sentence: aakasmaattugaa\n",
            "Decoded sentence: ఆకర్ంతు\n",
            "\n",
            "-\n",
            "Input sentence: akasmaattugaa\n",
            "Decoded sentence: ఆకర్ంతుతు\n",
            "\n",
            "-\n",
            "Input sentence: aacaademia\n",
            "Decoded sentence: ఆ్రాంది\n",
            "\n",
            "-\n",
            "Input sentence: academia\n",
            "Decoded sentence: ఉక్దరు\n",
            "\n",
            "-\n",
            "Input sentence: akademia\n",
            "Decoded sentence: ఉక్దిని\n",
            "\n",
            "-\n",
            "Input sentence: academy\n",
            "Decoded sentence: ఉక్షన్\n",
            "\n",
            "-\n",
            "Input sentence: akaademee\n",
            "Decoded sentence: ఉక్దరినే\n",
            "\n",
            "-\n",
            "Input sentence: akaademii\n",
            "Decoded sentence: ఉక్కవిని\n",
            "\n",
            "-\n",
            "Input sentence: akademi\n",
            "Decoded sentence: ఉక్దిని\n",
            "\n",
            "-\n",
            "Input sentence: akaara\n",
            "Decoded sentence: ఉక్రవ\n",
            "\n",
            "-\n",
            "Input sentence: akara\n",
            "Decoded sentence: అకరా\n",
            "\n",
            "-\n",
            "Input sentence: akira\n",
            "Decoded sentence: అకర్\n",
            "\n"
          ]
        }
      ]
    },
    {
      "cell_type": "code",
      "source": [
        ""
      ],
      "metadata": {
        "id": "3c92VW4ZaMF0"
      },
      "execution_count": null,
      "outputs": []
    },
    {
      "cell_type": "code",
      "source": [
        ""
      ],
      "metadata": {
        "id": "q9AlZobXaMDj"
      },
      "execution_count": null,
      "outputs": []
    },
    {
      "cell_type": "code",
      "source": [
        ""
      ],
      "metadata": {
        "id": "khNS3CROaMBh"
      },
      "execution_count": null,
      "outputs": []
    },
    {
      "cell_type": "code",
      "source": [
        "# def inference(model, num_encoders, num_decoders, enc_layers, dec_layers, cell, hidden_layer_size):\n",
        "\n",
        "#     enc_in = model.input[0]\n",
        "#     EmbeddingLayer = model.layers[2]    \n",
        "#     enc_out = EmbeddingLayer(enc_in)\n",
        "#     #enc_out = enc_in\n",
        "\n",
        "#     enc_states = []\n",
        "#     if cell == 'RNN':\n",
        "#         for i in range(num_encoders):\n",
        "#             enc_out, state_h = enc_layers[i](enc_out)\n",
        "#             enc_states += [state_h] \n",
        "#     elif cell == 'LSTM':\n",
        "#         for i in range(num_encoders):\n",
        "#             enc_out, state_h, state_c = enc_layers[i](enc_out)\n",
        "#             enc_states += [state_h, state_c]   \n",
        "#     elif cell == 'RNN':\n",
        "#         for i in range(num_encoders):\n",
        "#             enc_out, state_h = enc_layers[i](enc_out)\n",
        "#             enc_states += [state_h] \n",
        "\n",
        "#     encoder = Model(enc_in, enc_states + [enc_out])\n",
        "\n",
        "\n",
        "#     dec_in = model.input[1]    \n",
        "#     EmbeddingLayer = model.layers[3] \n",
        "#     dec_out = EmbeddingLayer(dec_in)\n",
        "#     #dec_out = dec_in\n",
        "\n",
        "#     dec_states = []\n",
        "#     dec_initial_states = []\n",
        "    \n",
        "#     if cell == 'RNN' :\n",
        "#         for i in range(num_decoders):\n",
        "#             dec_initial_states += [Input(shape=(hidden_layer_size,))]\n",
        "#             dec_out, state_h = dec_layers[i](dec_out, initial_state = dec_initial_states[i])\n",
        "#             dec_states += [state_h]\n",
        "#     elif cell == \"LSTM\":\n",
        "#         j=0\n",
        "#         for i in range(num_decoders):\n",
        "#             dec_initial_states += [Input(shape=(hidden_layer_size, )) , Input(shape=(hidden_layer_size, ))]\n",
        "#             dec_out, state_h, state_c = dec_layers[i](dec_out, initial_state=dec_initial_states[i+j:i+j+2])\n",
        "#             dec_states += [state_h , state_c]\n",
        "#             j += 1\n",
        "#     elif cell == \"GRU\":\n",
        "#         for i in range(num_decoders):\n",
        "#             dec_initial_states += [Input(shape=(hidden_layer_size,))]\n",
        "#             dec_out, state_h = dec_layers[i](dec_out, initial_state = dec_initial_states[i])\n",
        "#             dec_states += [state_h]\n",
        "\n",
        "#     dec_dense = model.layers[4 + 2*num_encoders]\n",
        "#     dec_out = dec_dense(dec_out)\n",
        "#     decoder = Model([dec_in] + dec_initial_states, [dec_out] + dec_states)\n",
        "\n",
        "#     return encoder, decoder "
      ],
      "metadata": {
        "id": "B41-EZurBk05"
      },
      "execution_count": null,
      "outputs": []
    },
    {
      "cell_type": "code",
      "source": [
        "# encoder, decoder = inference(model, 1, 1,  enc_layers, dec_layers, \"RNN\", 16)"
      ],
      "metadata": {
        "id": "4Q-0GC8OjKr9"
      },
      "execution_count": null,
      "outputs": []
    },
    {
      "cell_type": "code",
      "source": [
        "# def decode_sequence(input_seq,encoder_model,decoder_model):\n",
        "#     # Encode the input as state vectors.\n",
        "#     states_value = encoder_model.predict(input_seq)\n",
        "#     states_value = states_value[:-1]\n",
        "#     target_seq = np.zeros((1, 1)) \n",
        "#     target_seq[0, 0] = target_token_index[\"\\t\"]\n",
        "#     stop_condition = False\n",
        "#     decoded_sentence = \"\"\n",
        "#     while not stop_condition:\n",
        "#         dec_ip = [target_seq]+states_value\n",
        "#         output_tokens = decoder_model.predict(dec_ip)\n",
        "#         sampled_token_index = np.argmax(output_tokens[0][0, -1, :])\n",
        "#         sampled_char = reverse_target_char_index[sampled_token_index]\n",
        "#         decoded_sentence += sampled_char\n",
        "#         if sampled_char == \"\\n\" or len(decoded_sentence) > max_decoder_seq_length:\n",
        "#             stop_condition = True\n",
        "\n",
        "#         target_seq = np.zeros((1, 1))\n",
        "#         target_seq[0, 0] = sampled_token_index\n",
        "#         states_value = output_tokens[1:]\n",
        "        \n",
        "#     return decoded_sentence"
      ],
      "metadata": {
        "id": "uWAO2_P5X29I"
      },
      "execution_count": null,
      "outputs": []
    },
    {
      "cell_type": "code",
      "source": [
        "# def decode_sequence(input_seq, encoder, decoder):\n",
        "\n",
        "#     states_value = encoder.predict(input_seq)\n",
        "#     states_value = states_value[:-1]\n",
        "\n",
        "#     target_seq = np.zeros((1, 1)) \n",
        "#     target_seq[0, 0] = target_token_index[\"\\t\"]\n",
        "\n",
        "#     print(input_seq)\n",
        "\n",
        "#     stop_condition = False\n",
        "#     decoded_sentence = \"\"\n",
        "#     while not stop_condition:\n",
        "#         output_tokens = decoder.predict([target_seq] + states_value)\n",
        "#         sampled_token_index = np.argmax(output_tokens[0][0, -1, :])\n",
        "#         sampled_char = reverse_target_char_index[sampled_token_index]\n",
        "#         decoded_sentence += sampled_char\n",
        "\n",
        "#         if sampled_char == \"\\n\" or len(decoded_sentence) > max_decoder_seq_length:\n",
        "#             stop_condition = True\n",
        "\n",
        "#         target_seq = np.zeros((1, 1))\n",
        "#         target_seq[0, 0] = sampled_token_index\n",
        "        \n",
        "#         states_value = output_tokens[1:]\n",
        "        \n",
        "#     return decoded_sentence"
      ],
      "metadata": {
        "id": "wInV1LegGPjC"
      },
      "execution_count": null,
      "outputs": []
    },
    {
      "cell_type": "code",
      "source": [
        "input_seq = encoder_input_data[0 :  1]\n",
        "print(input_seq)"
      ],
      "metadata": {
        "id": "eu8-0UBABkps",
        "outputId": "4dd6d7fa-01b9-454d-e5a5-3798cfd538ed",
        "colab": {
          "base_uri": "https://localhost:8080/"
        }
      },
      "execution_count": null,
      "outputs": [
        {
          "output_type": "stream",
          "name": "stdout",
          "text": [
            "[[ 0. 12. 10.  8. 19.  0.  0.  0.  0.  0.  0.  0.  0.  0.  0.  0.  0.  0.\n",
            "   0.  0.  0.  0.  0.  0.  0.]]\n"
          ]
        }
      ]
    },
    {
      "cell_type": "code",
      "source": [
        "encoder.summary()"
      ],
      "metadata": {
        "id": "UQAgYPZbqW7t",
        "outputId": "c6370e2c-e177-4e26-e318-a61a3b84aab6",
        "colab": {
          "base_uri": "https://localhost:8080/"
        }
      },
      "execution_count": null,
      "outputs": [
        {
          "output_type": "stream",
          "name": "stdout",
          "text": [
            "Model: \"model_5\"\n",
            "_________________________________________________________________\n",
            " Layer (type)                Output Shape              Param #   \n",
            "=================================================================\n",
            " input_5 (InputLayer)        [(None, 25)]              0         \n",
            "                                                                 \n",
            " embedding (Embedding)       (None, 25, 32)            832       \n",
            "                                                                 \n",
            " simple_rnn_2 (SimpleRNN)    [(None, 25, 16),          784       \n",
            "                              (None, 16)]                        \n",
            "                                                                 \n",
            "=================================================================\n",
            "Total params: 1,616\n",
            "Trainable params: 1,616\n",
            "Non-trainable params: 0\n",
            "_________________________________________________________________\n"
          ]
        }
      ]
    },
    {
      "cell_type": "code",
      "source": [
        "decode_sentence = decode_sequence(input_seq, encoder, decoder)"
      ],
      "metadata": {
        "id": "rSleqNFMpvDJ"
      },
      "execution_count": null,
      "outputs": []
    },
    {
      "cell_type": "code",
      "source": [
        "print(decode_sentence)"
      ],
      "metadata": {
        "id": "AB-M1sDrW6Si",
        "outputId": "54095114-7632-435f-d607-f5f7e03e3acb",
        "colab": {
          "base_uri": "https://localhost:8080/"
        }
      },
      "execution_count": null,
      "outputs": [
        {
          "output_type": "stream",
          "name": "stdout",
          "text": [
            "\n",
            "\n"
          ]
        }
      ]
    },
    {
      "cell_type": "code",
      "source": [
        "print(input_tokens)"
      ],
      "metadata": {
        "id": "Dna5kW0wXqHm",
        "outputId": "dd27c259-7b30-4e9a-acb0-acc1e6ba17f0",
        "colab": {
          "base_uri": "https://localhost:8080/"
        }
      },
      "execution_count": null,
      "outputs": [
        {
          "output_type": "stream",
          "name": "stdout",
          "text": [
            "['a', 'b', 'c', 'd', 'e', 'f', 'g', 'h', 'i', 'j', 'k', 'l', 'm', 'n', 'o', 'p', 'q', 'r', 's', 't', 'u', 'v', 'w', 'x', 'y', 'z']\n"
          ]
        }
      ]
    },
    {
      "cell_type": "code",
      "source": [
        "encoder, decoder = inference(model, 1, 1,  enc_layers, dec_layers, \"RNN\", 16)\n",
        "correct = 0\n",
        "n = val_target.shape[0]\n",
        "for i in range(20):\n",
        "    inputs = encoder_val_input_data[i:i+1]\n",
        "    output = decode_sequence(inputs,encoder, decoder)\n",
        "    print(\"-\")\n",
        "    print(\"Input sentence:\", input[i])\n",
        "    print(\"Decoded sentence:\", output)"
      ],
      "metadata": {
        "id": "mm6C3VtBLWt8",
        "outputId": "131e3691-4bfa-46bd-b709-ac5e25af1018",
        "colab": {
          "base_uri": "https://localhost:8080/"
        }
      },
      "execution_count": null,
      "outputs": [
        {
          "output_type": "stream",
          "name": "stdout",
          "text": [
            "WARNING:tensorflow:Model was constructed with shape (None, 20) for input KerasTensor(type_spec=TensorSpec(shape=(None, 20), dtype=tf.float32, name='input_6'), name='input_6', description=\"created by layer 'input_6'\"), but it was called on an input with incompatible shape (None, 1).\n",
            "-\n",
            "Input sentence: amkita\n",
            "Decoded sentence: \n",
            "\n",
            "-\n",
            "Input sentence: ankita\n",
            "Decoded sentence: \n",
            "\n",
            "-\n",
            "Input sentence: ankitha\n",
            "Decoded sentence: \n",
            "\n",
            "-\n",
            "Input sentence: ankitam\n",
            "Decoded sentence: \n",
            "\n",
            "-\n",
            "Input sentence: ankitham\n",
            "Decoded sentence: \n",
            "\n",
            "-\n",
            "Input sentence: ankitabaavam\n",
            "Decoded sentence: \n",
            "\n",
            "-\n",
            "Input sentence: ankithabhavam\n",
            "Decoded sentence: \n",
            "\n",
            "-\n",
            "Input sentence: ankatamicchaadu\n",
            "Decoded sentence: \n",
            "\n",
            "-\n",
            "Input sentence: ankitamicchadu\n",
            "Decoded sentence: \n",
            "\n",
            "-\n",
            "Input sentence: ankitamichhaadu\n",
            "Decoded sentence: \n",
            "\n",
            "-\n",
            "Input sentence: ankithamicchaadu\n",
            "Decoded sentence: \n",
            "\n",
            "-\n",
            "Input sentence: ankithamichhaadu\n",
            "Decoded sentence: \n",
            "\n",
            "-\n",
            "Input sentence: amkithamichaaru\n",
            "Decoded sentence: \n",
            "\n",
            "-\n",
            "Input sentence: ankithamichaaru\n",
            "Decoded sentence: \n",
            "\n",
            "-\n",
            "Input sentence: ankithamicharu\n",
            "Decoded sentence: \n",
            "\n",
            "-\n",
            "Input sentence: ankithamaina\n",
            "Decoded sentence: \n",
            "\n",
            "-\n",
            "Input sentence: ankusham\n",
            "Decoded sentence: \n",
            "\n",
            "-\n",
            "Input sentence: amkelu\n",
            "Decoded sentence: \n",
            "\n",
            "-\n",
            "Input sentence: amkeylu\n",
            "Decoded sentence: \n",
            "\n",
            "-\n",
            "Input sentence: ankelu\n",
            "Decoded sentence: \n",
            "\n"
          ]
        }
      ]
    },
    {
      "cell_type": "code",
      "source": [
        ""
      ],
      "metadata": {
        "id": "NVrYWDXrLWrx"
      },
      "execution_count": null,
      "outputs": []
    },
    {
      "cell_type": "code",
      "source": [
        ""
      ],
      "metadata": {
        "id": "5zLAhf96LWpC"
      },
      "execution_count": null,
      "outputs": []
    },
    {
      "cell_type": "code",
      "source": [
        ""
      ],
      "metadata": {
        "id": "cQS8pCqALWmk"
      },
      "execution_count": null,
      "outputs": []
    },
    {
      "cell_type": "code",
      "source": [
        ""
      ],
      "metadata": {
        "id": "wueXj1QMLWkY"
      },
      "execution_count": null,
      "outputs": []
    },
    {
      "cell_type": "code",
      "source": [
        ""
      ],
      "metadata": {
        "id": "7dQC1wynLWh6"
      },
      "execution_count": null,
      "outputs": []
    },
    {
      "cell_type": "code",
      "source": [
        "# Enter the project and the entity name for wandb sweeps\n",
        "project_name=\"\"\n",
        "entity_name=\"\"\n"
      ],
      "metadata": {
        "id": "OA-s381xhV9p"
      },
      "execution_count": null,
      "outputs": []
    },
    {
      "cell_type": "code",
      "source": [
        "def train():\n",
        "  default_config={\n",
        "      \"cell\": \"RNN\",\n",
        "      \"embed_size\":256,\n",
        "      \"dropout\":0.2,\n",
        "      \"num_encoders\": 1,\n",
        "      \"num_decoders\": 1,\n",
        "      \"hidden_layer_size\":128,\n",
        "      \"epochs\": 1,\n",
        "      \"batch_size\": 64\n",
        "  }\n",
        "\n",
        "  wandb.init(config=default_config,project=project_name,entity=entity_name)\n",
        "  config=wandb.config\n",
        "  wandb.run.name=(\n",
        "      str(config.cell)\n",
        "      +\"_\"+str(config.embed_size)\n",
        "      +\"_\"+str(config.dropout)\n",
        "      +\"_\"+str(config.num_encoders)\n",
        "      +\"_\"+str(config.num_decoders)\n",
        "      +\"_\"+str(config.hidden_layer_size)\n",
        "      +\"_\"+str(config.epochs)\n",
        "      +\"_\"+str(config.batch_size)\n",
        "  )\n",
        "\n",
        "  wandb.run.save()\n",
        "\n",
        "  model=transliteration(config,inp_token_index,tgt_token_index)\n",
        "  \n",
        "  model.compile(\n",
        "      optimizer=\"adam\",\n",
        "      loss=\"categorical_crossentropy\",\n",
        "      metrics=[\"accuracy\"]\n",
        "  )\n",
        "  earlystopping = EarlyStopping(\n",
        "          monitor=\"val_accuracy\", min_delta=0.01, patience=5, verbose=2, mode=\"auto\"\n",
        "      )\n",
        "\n",
        "  model.fit(\n",
        "      [e_in,d_in],\n",
        "      d_t,\n",
        "      batch_size=config.batch_size,\n",
        "      epochs=config.epochs,\n",
        "      callbacks=[earlystopping,WandbCallback()]\n",
        "  )\n",
        "\n",
        "  wandb.finish()\n",
        "  "
      ],
      "metadata": {
        "id": "Mf9QCTKfhXu6"
      },
      "execution_count": null,
      "outputs": []
    },
    {
      "cell_type": "code",
      "source": [
        "def sweeper(project_name,entity_name)\n",
        "  sweep_configuration={\n",
        "      \"method\": \"bayes\",\n",
        "      \"metric\": {\"name\": \"val_accuracy\", \"goal\": \"maximize\"},\n",
        "      \"parameters\":{\n",
        "          \"cell\":{\"values\":[\"RNN\",\"GRU\",\"LSTM\"]},\n",
        "          \"embed_size\":{\"values\":[16,32,64,256]},\n",
        "          \"hidden_layer_size\":{\"values\":[16,32,64,256]},\n",
        "          \"num_encoders\":{\"values\":[1,2,3]},\n",
        "          \"num_decoders\":{\"values\":[1,2,3]},\n",
        "          \"dropout\":{\"values\":[0.2,0.3]},\n",
        "          \"epochs\":{\"values\":[5,10,15,20]},\n",
        "          \"batch_size\":{\"values\":[32,64]}\n",
        "      }\n",
        "  }\n",
        "\n",
        "  sweep_id=wandb.sweep(sweep_configuration,project=project_name,entity=entity_name)\n",
        "  wandb.agent(sweep_id,train)\n"
      ],
      "metadata": {
        "id": "b24xZ8FVhYcx"
      },
      "execution_count": null,
      "outputs": []
    },
    {
      "cell_type": "code",
      "source": [
        "# Running the sweeps for hyperparameter tuning\n",
        "sweeper(project_name,entity_name)"
      ],
      "metadata": {
        "id": "LsBxEun_hc4T"
      },
      "execution_count": null,
      "outputs": []
    }
  ]
}